{
 "cells": [
  {
   "cell_type": "markdown",
   "id": "ed24c561-9cfb-448c-917e-0ab41e4bace2",
   "metadata": {
    "editable": true,
    "slideshow": {
     "slide_type": ""
    },
    "tags": []
   },
   "source": [
    "# RMSD \n",
    "\n",
    "The Root Mean Square Deviation (RMSD) is a measure of the average distance between atoms in a superimposed structure. You will see this analysis used to judge convergence of an MD simulations in just about every MD paper. The equation is\n",
    "\n",
    "$$\n",
    "\\mathrm{RMSD} = \\sqrt{\\frac{1}{N} \\sum_{i = 1}^{N} \\|v_i - w_i\\|^2}\n",
    "$$\n",
    "\n",
    "Where, $N$ is the number of points for the structures $v_i$ and $w_i$. With xyz-coordinates, we have\n",
    "\n",
    "$$\n",
    "\\mathrm{RMSD}(\\mathbf{v}, \\mathbf{w}) = \\sqrt{\\frac{1}{n} \\sum_{i=1}^n \n",
    "      ((v_{ix} - w_{ix})^2 + (v_{iy} - w_{iy})^2 + (v_{iz} - w_{iz})^2})\n",
    "$$"
   ]
  },
  {
   "cell_type": "markdown",
   "id": "ddea6582-fd70-4c1a-8a83-cd1a207baebf",
   "metadata": {},
   "source": [
    "Here is an exmple using `pytraj`"
   ]
  },
  {
   "cell_type": "markdown",
   "id": "86fbd532-f700-44b7-afdb-06b9a11558b7",
   "metadata": {
    "editable": true,
    "slideshow": {
     "slide_type": ""
    },
    "tags": []
   },
   "source": [
    "```python\n",
    "import pytraj as pt\n",
    "import matplotlib.pyplot as plt\n",
    "\n",
    "# Load trajectory\n",
    "traj = pt.iterload('prod.nc', top='step3_pbcsetup_1264.parm7')\n",
    "\n",
    "rmsd = pt.rmsd(traj, mask=\"@CA\")\n",
    "\n",
    "# Plot Simulation Time vs RMSD\n",
    "plt.plot(rmsd)\n",
    "plt.xlabel('Time ')\n",
    "plt.ylabel('RMSF (Å)')\n",
    "plt.savefig('rmsf.png', dpi=300)\n",
    "\n",
    "```\n",
    "\n",
    "## Pairwise Root Mean Square Deviation\n",
    "\n",
    "2D-RMSD \n",
    "\n",
    "*Example*\n",
    "\n",
    "```python\n",
    "import pytraj as pt\n",
    "import matplotlib.pyplot as plt\n",
    "\n",
    "# Load trajectory\n",
    "traj = pt.iterload('prod.nc', top='step3_pbcsetup_1264.parm7')\n",
    "\n",
    "rmsd = pt.pairwise_rmsd(traj, mask=\"@CA\")\n",
    "\n",
    "# Plot Simulation Time vs RMSD\n",
    "plt.plot(rmsd)\n",
    "plt.xlabel('Time ')\n",
    "plt.ylabel('RMSF (Å)')\n",
    "plt.savefig('rmsf.png', dpi=300)\n",
    "```"
   ]
  },
  {
   "cell_type": "code",
   "execution_count": null,
   "id": "0333a1ed-c959-4976-94f4-cc694f14aab3",
   "metadata": {},
   "outputs": [],
   "source": []
  }
 ],
 "metadata": {
  "kernelspec": {
   "display_name": "Python 3 (ipykernel)",
   "language": "python",
   "name": "python3"
  },
  "language_info": {
   "codemirror_mode": {
    "name": "ipython",
    "version": 3
   },
   "file_extension": ".py",
   "mimetype": "text/x-python",
   "name": "python",
   "nbconvert_exporter": "python",
   "pygments_lexer": "ipython3",
   "version": "3.10.10"
  }
 },
 "nbformat": 4,
 "nbformat_minor": 5
}