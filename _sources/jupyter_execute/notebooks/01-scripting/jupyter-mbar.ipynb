{
 "cells": [
  {
   "cell_type": "markdown",
   "metadata": {},
   "source": [
    "# MBAR Uncertainty"
   ]
  },
  {
   "cell_type": "code",
   "execution_count": 1,
   "metadata": {},
   "outputs": [
    {
     "ename": "ModuleNotFoundError",
     "evalue": "No module named 'numpy'",
     "output_type": "error",
     "traceback": [
      "\u001b[0;31m---------------------------------------------------------------------------\u001b[0m",
      "\u001b[0;31mModuleNotFoundError\u001b[0m                       Traceback (most recent call last)",
      "Cell \u001b[0;32mIn[1], line 2\u001b[0m\n\u001b[1;32m      1\u001b[0m \u001b[38;5;28;01mimport\u001b[39;00m \u001b[38;5;21;01msys\u001b[39;00m\n\u001b[0;32m----> 2\u001b[0m \u001b[38;5;28;01mimport\u001b[39;00m \u001b[38;5;21;01mnumpy\u001b[39;00m \u001b[38;5;28;01mas\u001b[39;00m \u001b[38;5;21;01mnp\u001b[39;00m\n\u001b[1;32m      3\u001b[0m \u001b[38;5;28;01mfrom\u001b[39;00m \u001b[38;5;21;01mscipy\u001b[39;00m \u001b[38;5;28;01mimport\u001b[39;00m stats\n\u001b[1;32m      4\u001b[0m \u001b[38;5;28;01mimport\u001b[39;00m \u001b[38;5;21;01mmatplotlib\u001b[39;00m\u001b[38;5;21;01m.\u001b[39;00m\u001b[38;5;21;01mpyplot\u001b[39;00m \u001b[38;5;28;01mas\u001b[39;00m \u001b[38;5;21;01mplt\u001b[39;00m\n",
      "\u001b[0;31mModuleNotFoundError\u001b[0m: No module named 'numpy'"
     ]
    }
   ],
   "source": [
    "import sys\n",
    "import numpy as np\n",
    "from scipy import stats\n",
    "import matplotlib.pyplot as plt\n",
    "plt.style.use('~/Scripts/pybin/myfigure.mplstyle')\n",
    "from glob import glob\n",
    "from sklearn.utils import resample\n",
    "\n",
    "from matplotlib.backends.backend_pdf import PdfPages\n"
   ]
  },
  {
   "cell_type": "code",
   "execution_count": 2,
   "metadata": {},
   "outputs": [],
   "source": [
    "\n",
    "\n",
    "import pymbar\n",
    "sys.path.append(\"~/Scripts/pybin\")\n",
    "from mbar_pmf import mbar_pmf\n",
    "\n"
   ]
  },
  {
   "cell_type": "code",
   "execution_count": null,
   "metadata": {},
   "outputs": [],
   "source": [
    "n_windows = 42\n",
    "val_min = -1.90\n",
    "val_max = 2.20\n",
    "FrcCnst = 300.0\n",
    "arr = []\n",
    "\n",
    "\n",
    "for ind in range(0, 4501,500): \n",
    "    val_kn = []\n",
    "    for i in range(n_windows):\n",
    "        # fnames = sorted(glob('../%02d/step6.0?_equilibration.cv' % i))\n",
    "        fnames = sorted(glob('../%02d/sd-step62.cv' % i))\n",
    "        arrays = [np.loadtxt(f, usecols=0)[ind:ind+500:] for f in fnames[:]]\n",
    "        val_kn.append(np.concatenate(arrays))\n",
    "        val0_k = np.linspace(val_min, val_max, n_windows)\n",
    "        K_k = np.ones(n_windows) * FrcCnst\n",
    "        nbins = n_windows -1 \n",
    "             \n",
    "        for i in range(n_windows):\n",
    "            print(\"Window %02d:\" % i, pymbar.timeseries.subsampleCorrelatedData(val_kn[i], conservative=True))\n",
    "            \n",
    "            # mbar = mbar_pmf(val_kn, val0_k, K_k, 300.    0, u_kn=np.array(ene_pm3))\n",
    "            mbar = mbar_pmf(val_kn, val0_k, K_k, 300.0)\n",
    "            \n",
    "            # bin_centers, f_i, df_i, reweighting_entropy = mbar.get_pmf(val_min    , val_max, nbins, u_kn=np.array(ene_pm3)) \n",
    "            bin_centers, f_i, df_i, reweighting_entropy = mbar.get_pmf(val_min, val_max, nbins)\n",
    "            bin_centers, f_i, df_i, reweighting_entropy = mbar.get_pmf(val_min, val_max, nbins, uncertainties='from-specified', pmf_reference=f_i[:20].argmin())\n",
    "\n",
    "            # np.savetxt(\"freefile_mbar_roll_%02d-%02d\" % (ind/100, (ind+500)/100), np.column_stack((bin_centers, f_i, df_i)))\n",
    "            # arr.append(\"freefile_mbar_roll_%02d-%02d\" % (ind/100, (ind+500)/100))'"
   ]
  },
  {
   "cell_type": "code",
   "execution_count": null,
   "metadata": {},
   "outputs": [],
   "source": [
    "\n",
    "plt.figure(figsize=(6,3.33), dpi=300, constrained_layout=True)\n",
    "# freefile_mbar = sorted(glob('freefile_mbar_roll*-*'))\n",
    "\n",
    "time = []\n",
    "dg = []\n",
    "colors = []\n",
    "\n",
    "for i in range(len(arr)):\n",
    "    initial = np.loadtxt(arr[i])\n",
    "    name = arr[i].split('_')[3]\n",
    "    t0 = name.split('-')[0]\n",
    "    ti = name.split('-')[1]\n",
    "    lab = str('%s - %s ps' % (t0, ti))\n",
    "    time.append(lab) \n",
    "    fe = float(initial[:,1].max() - initial[:10,1].min())\n",
    "    er = float(initial[initial[:,1].argmax()][2])\n",
    "    dg.append(str('%.1f ± %.1f' % (fe,er)))\n",
    "    plt.errorbar(initial[:,0], initial[:,1] - initial[:10,1].min(), yerr=initial[:,2], linewidth=1, label=lab)\n",
    "    colors.append(np.array(plt.color_sequences)[i])\n",
    "\n",
    "plt.legend(ncol=1, bbox_to_anchor = (1.3, 0.6), loc='center right', frameon=False, alignment='left')\n",
    "plt.ylim(-5,30)\n",
    "plt.xlabel(\"d1 - d2 (Å)\")\n",
    "plt.ylabel(\"Potential of Mean Force (kcal/mol)\")\n",
    "plt.grid(linestyle='--', alpha=0.4)\n",
    "# plt.savefig(\"pmf-k866a.png\", bbox_inches='tight', dpi=300)\n",
    "plt.savefig('pmf-wt-roll.png', bbox_inches='tight')\n",
    "plt.show()\n"
   ]
  },
  {
   "cell_type": "code",
   "execution_count": null,
   "metadata": {},
   "outputs": [],
   "source": [
    "\n",
    "\n",
    "import pandas as pd\n",
    "df = pd.DataFrame(\n",
    "    {'Time (ps)': np.array(time),\n",
    "     'Free Energy Barrier (kcal/mol)': np.array(dg),\n",
    "    })\n",
    "\n",
    "df\n"
   ]
  },
  {
   "cell_type": "code",
   "execution_count": null,
   "metadata": {},
   "outputs": [],
   "source": [
    "\n",
    "df.to_csv('~/Desktop/k866a.csv')\n",
    "\n"
   ]
  },
  {
   "cell_type": "code",
   "execution_count": null,
   "metadata": {},
   "outputs": [],
   "source": [
    "\n",
    "fig, axs = plt.subplots(6,7,figsize=(15,15))\n",
    "x = np.linspace(-1.9,2.2,42)\n",
    "for i, j in enumerate(axs.flat):\n",
    "    fnames = sorted(glob('../%02d/sd-step62.cv' % i))[:]\n",
    "    for fname in fnames:\n",
    "        f = np.loadtxt(fname, usecols=0)\n",
    "        j.hist(f,label=i, alpha=0.4)\n",
    "        j.axvline(x[i])\n",
    "        j.set_title(i)\n",
    "    # plt.legend()\n",
    "    # plt.show()\n",
    "\n"
   ]
  },
  {
   "cell_type": "code",
   "execution_count": null,
   "metadata": {},
   "outputs": [],
   "source": [
    "\n",
    "print(df.to_latex(column_format='ccc',index=False))\n",
    "\n",
    "# print(s)\n",
    "# s = df.to_latex()\n",
    "# print(s)\n",
    "\n",
    "\n"
   ]
  }
 ],
 "metadata": {
  "kernelspec": {
   "display_name": "mbar",
   "language": "python",
   "name": "python3"
  },
  "language_info": {
   "codemirror_mode": {
    "name": "ipython",
    "version": 3
   },
   "file_extension": ".py",
   "mimetype": "text/x-python",
   "name": "python",
   "nbconvert_exporter": "python",
   "pygments_lexer": "ipython3",
   "version": "3.12.4"
  }
 },
 "nbformat": 4,
 "nbformat_minor": 2
}