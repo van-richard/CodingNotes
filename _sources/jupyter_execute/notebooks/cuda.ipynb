{
 "cells": [
  {
   "cell_type": "code",
   "execution_count": 1,
   "metadata": {
    "id": "98HHYE6lPP_y"
   },
   "outputs": [
    {
     "ename": "ModuleNotFoundError",
     "evalue": "No module named 'cupy'",
     "output_type": "error",
     "traceback": [
      "\u001b[0;31m---------------------------------------------------------------------------\u001b[0m",
      "\u001b[0;31mModuleNotFoundError\u001b[0m                       Traceback (most recent call last)",
      "Cell \u001b[0;32mIn[1], line 1\u001b[0m\n\u001b[0;32m----> 1\u001b[0m \u001b[38;5;28;01mimport\u001b[39;00m \u001b[38;5;21;01mcupy\u001b[39;00m\n",
      "\u001b[0;31mModuleNotFoundError\u001b[0m: No module named 'cupy'"
     ]
    }
   ],
   "source": [
    "import cupy"
   ]
  },
  {
   "cell_type": "code",
   "execution_count": null,
   "metadata": {
    "colab": {
     "base_uri": "https://localhost:8080/"
    },
    "id": "Xo5MX8HPPkh3",
    "outputId": "4dce6f5b-85f1-4435-ee51-e97f294a44ca"
   },
   "outputs": [
    {
     "data": {
      "text/plain": [
       "<cupy.cuda.stream.Event at 0x7f254b3312a0>"
      ]
     },
     "execution_count": 4,
     "metadata": {},
     "output_type": "execute_result"
    }
   ],
   "source": [
    "cupy.cuda.Event()"
   ]
  },
  {
   "cell_type": "code",
   "execution_count": null,
   "metadata": {
    "colab": {
     "base_uri": "https://localhost:8080/"
    },
    "id": "5cNSw59MPVKM",
    "outputId": "e72591c2-7560-44f4-8b94-efa500fe4282"
   },
   "outputs": [
    {
     "name": "stdout",
     "output_type": "stream",
     "text": [
      "Elapsed time: 805.1527099609375 ms\n"
     ]
    }
   ],
   "source": [
    "# prompt: get gpu timings with cuda.Events()\n",
    "\n",
    "import cupy as cp\n",
    "import time\n",
    "\n",
    "# Create two events\n",
    "start_event = cp.cuda.Event()\n",
    "end_event = cp.cuda.Event()\n",
    "\n",
    "# Record the start event\n",
    "start_event.record()\n",
    "\n",
    "# Your CUDA kernel or operation here\n",
    "# For example:\n",
    "x = cp.arange(10000000).astype('f')\n",
    "y = x * 2\n",
    "\n",
    "# Record the end event\n",
    "end_event.record()\n",
    "\n",
    "# Synchronize the events\n",
    "end_event.synchronize()\n",
    "\n",
    "# Calculate the elapsed time\n",
    "elapsed_time = cp.cuda.get_elapsed_time(start_event, end_event)\n",
    "\n",
    "print(f\"Elapsed time: {elapsed_time} ms\")\n"
   ]
  }
 ],
 "metadata": {
  "accelerator": "GPU",
  "colab": {
   "gpuType": "T4",
   "provenance": []
  },
  "kernelspec": {
   "display_name": "Python 3",
   "name": "python3"
  },
  "language_info": {
   "codemirror_mode": {
    "name": "ipython",
    "version": 3
   },
   "file_extension": ".py",
   "mimetype": "text/x-python",
   "name": "python",
   "nbconvert_exporter": "python",
   "pygments_lexer": "ipython3",
   "version": "3.11.7"
  }
 },
 "nbformat": 4,
 "nbformat_minor": 0
}