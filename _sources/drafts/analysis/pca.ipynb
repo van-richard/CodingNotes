{
 "cells": [
  {
   "cell_type": "markdown",
   "id": "26da6c86-3cd4-4394-bd29-cbf53baff9f9",
   "metadata": {
    "editable": true,
    "slideshow": {
     "slide_type": ""
    },
    "tags": []
   },
   "source": [
    "# Principle Component Analysis\n",
    "\n",
    "*Example*\n",
    "\n",
    "```python\n",
    "import pytraj as pt\n",
    "import matplotlib.pyplot as plt\n",
    "import numpy as np\n",
    "import sys\n",
    "\n",
    "\n",
    "topology = \"/directory/topology.parm7\"\n",
    "trajectory = \"/directory/file.nc\"\n",
    "\n",
    "traj = pt.load(trajectory, top=\"topology\")\n",
    "\n",
    "data = pt.pca(traj, mask='@CA', n_vecs=10)\n",
    "\n",
    "projection_data = data[0]\n",
    "\n",
    "x = projection_data[0] * num1\n",
    "y = projection_data[1] * num2\n",
    "\n",
    "plt.scatter(x, y, marker='o', c=range(traj.n_frames), alpha=0.5)        \n",
    "\n",
    "# Percent Variance \n",
    "pc1 = (data[1][0][0] / np.sum(data[1][0])) * 100\n",
    "pc2 = (data[1][0][1] / np.sum(data[1][0])) * 100\n",
    "\n",
    "plt.xlabel('PC1 (' + str(np.round(pc1, 1)) + ' %)')\n",
    "plt.ylabel('PC2 (' + str(np.round(pc2, 1)) + ' %)')\n",
    "\n",
    "plt.xlim(-60,60)\n",
    "plt.ylim(-60,60)\n",
    "cbar = plt.colorbar()\n",
    "cbar.set_label('Frame #')\n",
    "plt.title(folder+ ' ' + rep)\n",
    "plt.savefig('img/' + folder+'_' + rep + 'pca.png', dpi=300)"
   ]
  }
 ],
 "metadata": {
  "kernelspec": {
   "display_name": "Python 3 (ipykernel)",
   "language": "python",
   "name": "python3"
  },
  "language_info": {
   "codemirror_mode": {
    "name": "ipython",
    "version": 3
   },
   "file_extension": ".py",
   "mimetype": "text/x-python",
   "name": "python",
   "nbconvert_exporter": "python",
   "pygments_lexer": "ipython3",
   "version": "3.10.10"
  }
 },
 "nbformat": 4,
 "nbformat_minor": 5
}
