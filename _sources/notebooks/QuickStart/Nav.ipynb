{
 "cells": [
  {
   "cell_type": "markdown",
   "metadata": {},
   "source": [
    "# Nav"
   ]
  },
  {
   "cell_type": "markdown",
   "metadata": {},
   "source": []
  },
  {
   "cell_type": "code",
   "execution_count": 1,
   "metadata": {},
   "outputs": [
    {
     "name": "stdout",
     "output_type": "stream",
     "text": [
      "BasicMD.md\n",
      "CondaPython.md\n",
      "FileManagement.md\n",
      "Nav.ipynb\n",
      "Navigation.md\n",
      "Overview.md\n",
      "PDBFiles.md\n",
      "SSH.md\n",
      "Slurm.md\n",
      "StructureFiles.md\n",
      "Supercomputer.md\n",
      "Terminal.md\n",
      "XYZFiles.md\n",
      "/Users/van/Library/CloudStorage/Dropbox/github/CodingNotes/notebooks/QuickStart\n"
     ]
    }
   ],
   "source": [
    "%%bash\n",
    "\n",
    "ls \n",
    "pwd"
   ]
  },
  {
   "cell_type": "code",
   "execution_count": null,
   "metadata": {},
   "outputs": [],
   "source": []
  }
 ],
 "metadata": {
  "kernelspec": {
   "display_name": "base",
   "language": "python",
   "name": "python3"
  },
  "language_info": {
   "codemirror_mode": {
    "name": "ipython",
    "version": 3
   },
   "file_extension": ".py",
   "mimetype": "text/x-python",
   "name": "python",
   "nbconvert_exporter": "python",
   "pygments_lexer": "ipython3",
   "version": "3.10.10"
  }
 },
 "nbformat": 4,
 "nbformat_minor": 2
}
