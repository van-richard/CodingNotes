{
 "cells": [
  {
   "cell_type": "markdown",
   "id": "1bff2750-1fcf-4fdb-80e0-8827c08fc8d0",
   "metadata": {},
   "source": [
    "## Free Energy Profile with MBAR"
   ]
  },
  {
   "cell_type": "markdown",
   "id": "a5b278e3-7b93-4363-a0d2-9c26cc7f2cc1",
   "metadata": {},
   "source": [
    "```{important}\n",
    "\n",
    "**Some Requirements before you start this!!**\n",
    "\n",
    "1. You need the `mbar` conda environment!\n",
    "    * There will be variations between your local computer and Pete!\n",
    "2. I usually perform the analysis on Pete, but using jupyterlab there requires you to `ssh` and port-forward\n",
    "    * Not too important for this example, but if you want to learn more, follow the tutorial\n",
    "  \n",
    "Normally, I would recommend doing this on Pete, because files usually very large.. However, this is a relatively simple example, so you can download the directory to your laptop in a few minutes!\n",
    "\n",
    "If you need to create the `mbar` environment, follow the tutorial.\n",
    "\n",
    "```"
   ]
  },
  {
   "cell_type": "markdown",
   "id": "c0c4d776-913e-47ad-85cf-921f06847551",
   "metadata": {},
   "source": [
    "First you should download the folder to your desktop, in this example, I will download my reference files:"
   ]
  },
  {
   "cell_type": "code",
   "execution_count": 4,
   "id": "9581b79b-01c2-46a3-8890-5e5421908b1b",
   "metadata": {},
   "outputs": [
    {
     "name": "stdout",
     "output_type": "stream",
     "text": [
      "  % Total    % Received % Xferd  Average Speed   Time    Time     Time  Current\n",
      "                                 Dload  Upload   Total   Spent    Left  Speed\n",
      "100 1946k  100 1946k    0     0  2700k      0 --:--:-- --:--:-- --:--:-- 2726k\n"
     ]
    }
   ],
   "source": [
    "mkdir mbar\n",
    "cd mbar\n",
    "curl -O https://van-richard.github.io/CodingNotes/_downloads/df437b56b3617010e04a225aa5e5867f/claisen.tar.bz2"
   ]
  },
  {
   "cell_type": "code",
   "execution_count": null,
   "id": "c50f3270-c937-4bea-8624-5fe247a9fefa",
   "metadata": {},
   "outputs": [],
   "source": [
    "import sys\n",
    "import numpy as np\n",
    "from scipy import stats\n",
    "import matplotlib.pyplot as plt\n",
    "from matplotlib.ticker import AutoMinorLocator, LogLocator, NullFormatter\n",
    "from glob import glob\n",
    "from sklearn.utils import resample\n",
    "\n",
    "import pymbar\n",
    "sys.path.append(\"/home/panxl/scripts/\")\n",
    "from mbar_pmf import mbar_pmf"
   ]
  },
  {
   "cell_type": "code",
   "execution_count": null,
   "id": "6c28710e-e91a-4664-8f1d-2a226db36c9f",
   "metadata": {},
   "outputs": [],
   "source": [
    "n_windows = 21\n",
    "val_kn = []\n",
    "for i in range(n_windows):\n",
    "    fnames = sorted(glob('../%02d/step6.0?_equilibration.cv' % i))\n",
    "    # fnames = sorted(glob('../%02d/all_step6.cv' % i))\n",
    "    arrays = [np.loadtxt(f, usecols=1)[::] for f in fnames[:]]\n",
    "    val_kn.append(np.concatenate(arrays))\n",
    "val0_k = np.linspace(-2.00, 2.00, n_windows)\n",
    "K_k = np.ones(n_windows) * 300.0\n",
    "val_min = -2.00\n",
    "val_max = 2.00\n",
    "nbins = n_windows - 1\n",
    "\n",
    "for i in range(n_windows):\n",
    "    print(\"Window %02d:\" % i, pymbar.timeseries.subsampleCorrelatedData(val_kn[i], conservative=True))\n",
    "\n",
    "mbar = mbar_pmf(val_kn, val0_k, K_k, 300.0)\n",
    "\n",
    "bin_centers, f_i, df_i, reweighting_entropy = mbar.get_pmf(val_min, val_max, nbins)\n",
    "bin_centers, f_i, df_i, reweighting_entropy = mbar.get_pmf(val_min, val_max, nbins, uncertainties='from-specified', pmf_reference=f_i[:20].argmin())\n",
    "np.savetxt(\"freefile_mbar\", np.column_stack((bin_centers, f_i, df_i)))\n",
    "\n",
    "plt.xlabel(\"R1 - R2 (Å)\")\n",
    "plt.ylabel(\"Potential of Mean Force (kcal/mol)\")\n",
    "\n",
    "\n",
    "plt.errorbar(bin_centers, f_i - f_i[:10].min(), yerr=df_i, linewidth=1, label=\"step6.00\")\n",
    "plt.legend(loc=2)\n",
    "plt.savefig(\"claisen_pmf.png\", dpi=300)\n",
    "plt.show()\n",
    "plt.errorbar(bin_centers, df_i, linewidth=1)\n",
    "print(f_i.max() - f_i[:10].min(), df_i[f_i.argmax()])"
   ]
  },
  {
   "cell_type": "markdown",
   "id": "9912a04c-bb8d-4f99-a4af-15c2671e2fa6",
   "metadata": {},
   "source": []
  },
  {
   "cell_type": "markdown",
   "id": "b7dfb31a-412b-4de2-88af-00d067aa7c07",
   "metadata": {},
   "source": []
  }
 ],
 "metadata": {
  "kernelspec": {
   "display_name": "Python 3 (ipykernel)",
   "language": "python",
   "name": "python3"
  },
  "language_info": {
   "codemirror_mode": {
    "name": "ipython",
    "version": 3
   },
   "file_extension": ".py",
   "mimetype": "text/x-python",
   "name": "python",
   "nbconvert_exporter": "python",
   "pygments_lexer": "ipython3",
   "version": "3.10.10"
  }
 },
 "nbformat": 4,
 "nbformat_minor": 5
}
