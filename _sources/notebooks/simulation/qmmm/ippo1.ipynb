{
 "cells": [
  {
   "cell_type": "markdown",
   "id": "d93f5cc3-9a1e-4bfc-a912-ffd51a75eec5",
   "metadata": {
    "editable": true,
    "slideshow": {
     "slide_type": ""
    },
    "tags": []
   },
   "source": [
    "# Tutorial: Enzyme Reaction"
   ]
  },
  {
   "cell_type": "code",
   "execution_count": 2,
   "id": "115c7b0a-70bc-4ba9-847d-6782daead71d",
   "metadata": {
    "editable": true,
    "slideshow": {
     "slide_type": ""
    },
    "tags": [
     "hide-input"
    ]
   },
   "outputs": [
    {
     "data": {
      "text/html": [
       "\n",
       "    <center>\n",
       "    <video src=\"../../../_static/\" width=\"50%\" height=\"50%\" controls>\n",
       "    </video></center>\n"
      ],
      "text/plain": [
       "<IPython.core.display.HTML object>"
      ]
     },
     "execution_count": 2,
     "metadata": {},
     "output_type": "execute_result"
    }
   ],
   "source": [
    "from IPython.display import HTML\n",
    "\n",
    "HTML(\"\"\"\n",
    "    <center>\n",
    "    <video src=\"../../../_static/\" width=\"50%\" height=\"50%\" controls>\n",
    "    </video></center>\n",
    "\"\"\")"
   ]
  },
  {
   "cell_type": "markdown",
   "id": "f1762392-a398-4b78-9c54-8ada06847465",
   "metadata": {
    "editable": true,
    "slideshow": {
     "slide_type": ""
    },
    "tags": [
     "hide-input"
    ]
   },
   "source": [
    "In this tutorial, we will perform QM/MM simulations modelling th DNA cleavage mechanism in the HNH-like domain of I-Ppo1. To accelerate the simulation, we utilize the multiple time step approach, (Outer time step: B3LYP/6-31G*, and inner step: PM3), and SINR thermostat. \n",
    "\n",
    "Additionally, we will use QMHub to add long-range electrostatics.\n",
    "\n",
    "We define the reaction coordinate as the difference in bond breaking (P - O) and bond forming9O - P) distances, and calculate the free energy profile using umbrella sampling and MBAR."
   ]
  },
  {
   "cell_type": "markdown",
   "id": "7fe6f541-88fb-4382-bab4-08e66ec2ec12",
   "metadata": {
    "editable": true,
    "slideshow": {
     "slide_type": ""
    },
    "tags": [
     "hide-input"
    ]
   },
   "source": [
    "## Input Files\n",
    "\n",
    "Make a new working directory.\n",
    "\n",
    "```bash\n",
    "mkdir ippoi\n",
    "cd ippoi\n",
    "```\n",
    "\n",
    "Make an `input` directory. This is where we will store the PDB files and generate Amber inputs.\n",
    "\n",
    "```bash\n",
    "mkdir input\n",
    "cd input\n",
    "```\n",
    "\n",
    "Now we can use tleap to make our `.parm7` and `.rst7` files.\n",
    "\n",
    "```bash\n",
    "```\n",
    "\n",
    "Run tleap, and you should get step3_pbcsetup.parm7 and step3_pbcsetup.rst7.\n",
    "\n",
    "```bash\n",
    "tleap -sf tleap.in\n",
    "```"
   ]
  },
  {
   "cell_type": "markdown",
   "id": "d709ec9f-f9b6-4219-9a62-c5030f89d420",
   "metadata": {
    "editable": true,
    "jp-MarkdownHeadingCollapsed": true,
    "slideshow": {
     "slide_type": ""
    },
    "tags": [
     "hide-input"
    ]
   },
   "source": [
    "### Restraint Files\n",
    "\n",
    "A `cv.rst` file will contain atomic restraints for the mechanism we are interested in.\n",
    "\n",
    "```\n",
    "```\n",
    "\n",
    "`# r1 - r2 (CC - CO bond)` Comment describing the restraint. In this case, we are doing restraining the difference between the first distance (r1) and the second distance (r2). \n",
    "\n",
    "`iat=3,4,1,6,` Atom numbers for the restraint. The first distance (r1) is the length between atoms 3 and 4. The second distance (r2) is the length between atoms 1 and 6.\n",
    "\n",
    "`rstwt=1.,-1.,` Indicates we want to take the difference between r1 and r2.\n",
    "\n",
    "`r1=-99, r2=__REST__, r3=__REST__, r4=99,` The shape of our biasing potential. `__REST__` is a placeholder which we will modify later.\n",
    "\n",
    "`rk2=150.0, rk3=150.0,` Force constant in kcal/mol."
   ]
  },
  {
   "cell_type": "markdown",
   "id": "095eb318-7096-40d0-93cb-45d74eeb97a6",
   "metadata": {
    "editable": true,
    "jp-MarkdownHeadingCollapsed": true,
    "slideshow": {
     "slide_type": ""
    },
    "tags": [
     "hide-input"
    ]
   },
   "source": [
    "### QM/MM MD Input files\n",
    "\n",
    "2 MD input files are used. The first file (step5.00_equilibration.mdin) is used for the initial pathway sampling at a few picoseconds. The second file (step6.00_equilibration.mdin) is used for additional sampling (+10 ps).\n",
    "\n",
    "1. step5.00_equilibration.mdin\n",
    "2. step6.00_equilibration.mdin\n",
    "\n",
    "The general format of a QM/MM MD input file differs from classical MD with the `&qmmm` section.\n",
    "\n",
    "```bash\n",
    "A NVT simulation for common production-level simulations\n",
    " &cntrl\n",
    "    imin=0,        ! No minimization\n",
    "    irest=1,       ! This IS a restart of an old MD simulation\n",
    "    ntx=5,         ! So our inpcrd file has velocities\n",
    "\n",
    "    ! Boundary conditions\n",
    "    ntb=0,         ! Periodic boundaries for constant volume\n",
    "    ntp=0,         ! No pressure control\n",
    "\n",
    "    ! Temperature control\n",
    "    ntt=3,         ! Langevin Mid\n",
    "    gamma_ln=5.0,  ! Friction coefficient (ps^-1)\n",
    "    temp0=300.0,   ! Target temperature\n",
    "    ig=-1,         ! Random number seed\n",
    "\n",
    "    ! Potential energy control\n",
    "    cut=999.0,      ! nonbonded cutoff, in Angstroms\n",
    "\n",
    "    ! MD settings\n",
    "    nstlim=500,   ! 1 ps total\n",
    "    dt=0.001,      ! time step (ps)\n",
    "\n",
    "    ! SHAKE\n",
    "    ntc=1,         ! Constrain bonds containing hydrogen\n",
    "    ntf=1,         ! Do not calculate forces of bonds containing hydrogen\n",
    "    tol=0.000001,  ! Shake tolerance\n",
    "\n",
    "    ! Control how often information is printed\n",
    "    ntpr=100,      ! Print energies every 100 steps\n",
    "    ntwx=100,      ! Print coordinates every 100 steps to the trajectory\n",
    "    ntwr=100,     ! Print a restart file every 5K steps (can be less frequent)\n",
    "!   ntwv=-1,       ! Uncomment to also print velocities to trajectory\n",
    "!   ntwf=-1,       ! Uncomment to also print forces to trajectory\n",
    "    ntxo=2,        ! Write NetCDF format\n",
    "    ioutfm=1,      ! Write NetCDF format (always do this!)\n",
    "\n",
    "    ! Restraints\n",
    "    nmropt=1,      ! Turn on restraints\n",
    "\n",
    "    ! QM/MM\n",
    "    ifqnt=1,       ! Turn on QM/MM\n",
    " /\n",
    "\n",
    "\n",
    " &qmmm\n",
    "    ! QM atoms\n",
    "    qmmask=':1'    ! Amber residue mask for QM atoms\n",
    "\n",
    "    ! QM settings\n",
    "    qm_theory='PM3', ! Semiempirical method\n",
    "    qmcharge=0,    ! Charge of QM subsystem\n",
    "\n",
    "    ! Shake\n",
    "    qmshake=0,     ! Use Shake for QM atoms\n",
    "\n",
    "    ! Potential energy control\n",
    "    qmcut=999.0,    ! Cutoff for QM/MM electrostatic interactions\n",
    "    writepdb=1,    ! Check QM atoms\n",
    " /\n",
    "\n",
    " &wt type='DUMPFREQ', istep1=10 /\n",
    " &wt type='END' /\n",
    " DISANG=cv.rst\n",
    " DUMPAVE=step5.00_equilibration.cv\n",
    "```\n",
    "\n",
    "With this we have all of the necessary files. We can go back to the working directory.\n",
    "\n",
    "```bash\n",
    "cd ../\n",
    "```\n",
    "\n",
    "## Generate Umbrella Windows\n",
    "\n",
    "The script `gen_inputs.in` will prepare folders for umbrella sampling, and modify the `cv.rst` file so that each window has a different restraint value.\n",
    "\n",
    "```bash\n",
    "#!/bin/bash\n",
    "\n",
    "mkdir -p 00\n",
    "cd 00/\n",
    "ln -sf ../input/step3_pbcsetup.parm7\n",
    "ln -sf ../input/step6.00_equilibration.mdin .\n",
    "sed -e 's/irest=1/irest=0/;s/ntx=5/nts=1,/' ../input/step5.00_equilibration.mdin > step5.00_equilibration.mdin\n",
    "cd ..\n",
    "\n",
    "for i in `seq -w 1 20`; do\n",
    "mkdir -p $i\n",
    "cd $i\n",
    "ln -sf ../input/step3_pbcsetup.parm7\n",
    "ln -sf ../input/step5.00_equilibration.mdin .\n",
    "ln -sf ../input/step6.00_equilibration .\n",
    "cd ..\n",
    "done\n",
    "\n",
    "cp ../input/step3_pbcsetup.rst7 00/step5.00_equilibration_inp.rst7\n",
    "\n",
    "n=-2.0\n",
    "for i in `seq -f\"%02g\" 0 20`\n",
    "do\n",
    "    nn=$(printf \"%.2f\" \"$n\")\n",
    "    sed \"s/__REST__/${nn}/g\" input/cv.rst > ${i}/cv.rst\n",
    "    n=`echo $n + 0.20 | bc`\n",
    "done\n",
    "```\n",
    "\n",
    "## Running QM/MM Simulation\n",
    "\n",
    "Run QM/MM simulations of the inital pathway, `runqmmm1.slurm`.\n",
    "\n",
    "```bash\n",
    "#!/bin/bash\n",
    "#SBATCH --partition=debug\n",
    "#SBATCH --exclusive\n",
    "#SBATCH --ntasks=20\n",
    "#SBATCH --mem=0\n",
    "#SBATCH --output=%j.out\n",
    "#SBATCH --error=%j.err\n",
    "#SBATCH --time=00:30:00\n",
    "#SBATCH --job-name=CA\n",
    "\n",
    "date\n",
    "module load intel/2020a\n",
    "source /home/panxl/amber20/amber.sh\n",
    "export UCX_TLS=all\n",
    "\n",
    "#SANDER=\"mpiexec.hydra -bootstrap slurm -n 1 sander.MPI\"\n",
    "SANDER=\"sander\"\n",
    "init=\"step3_pbcsetup\"\n",
    "\n",
    "# First Round\n",
    "\n",
    "istep=\"step5.00_equilibration\"\n",
    "\n",
    "for i in `seq 0 20`; do\n",
    "    printf -v j \"%02d\" $i\n",
    "    cd $j\n",
    "    if [ ${i} -eq 0 ]; then\n",
    "    $SANDER -O -i ${istep}.mdin -o ${istep}.mdout -p ${init}.parm7 -c ${istep}_inp.rst7 -r ${istep}.ncrst -x ${istep}.nc -inf ${istep}.mdinfo\n",
    "    else\n",
    "    $SANDER -O -i ${istep}.mdin -o ${istep}.mdout -p ${init}.parm7 -c ${istep}_inp.ncrst -r ${istep}.ncrst -x ${istep}.nc -inf ${istep}.mdinfo\n",
    "    fi\n",
    "    printf -v j \"%02d\" $(($i + 1))\n",
    "    cp ${istep}.ncrst ../${j}/${istep}_inp.ncrst\n",
    "    cd ..\n",
    "done\n",
    "```\n",
    "\n",
    "Once this is done, perform additional sampling in each window, `runqmmm2.slurm`.\n",
    "\n",
    "```bash\n",
    "#!/bin/bash\n",
    "#SBATCH --partition=debug\n",
    "#SBATCH --exclusive\n",
    "#SBATCH --ntasks=20\n",
    "#SBATCH --mem=0\n",
    "#SBATCH --output=%j.out\n",
    "#SBATCH --error=%j.err\n",
    "#SBATCH --time=00:30:00\n",
    "#SBATCH --job-name=CA\n",
    "\n",
    "date\n",
    "module load intel/2020a\n",
    "source /home/panxl/amber20/amber.sh\n",
    "export UCX_TLS=all\n",
    "\n",
    "SANDER=\"sander\"\n",
    "init=\"step3_pbcsetup\"\n",
    "\n",
    "# First Round\n",
    "\n",
    "pstep=\"step5.00_equilibration\"\n",
    "istep=\"step6.00_equilibration\"\n",
    "\n",
    "for i in `seq -w 0 20`; do\n",
    "    cd $i\n",
    "    $SANDER -O -i ${istep}.mdin -o ${istep}.mdout -p ${init}.parm7 -c ${pstep}.ncrst -r ${istep}.ncrst -x ${istep}.nc -inf ${istep}.mdinfo\n",
    "    cd ..\n",
    "done\n",
    "```"
   ]
  },
  {
   "cell_type": "code",
   "execution_count": null,
   "id": "15a6a50a-353c-410f-b6e0-2f1bd152fe43",
   "metadata": {
    "editable": true,
    "slideshow": {
     "slide_type": ""
    },
    "tags": []
   },
   "outputs": [],
   "source": []
  }
 ],
 "metadata": {
  "kernelspec": {
   "display_name": "Python 3 (ipykernel)",
   "language": "python",
   "name": "python3"
  },
  "language_info": {
   "codemirror_mode": {
    "name": "ipython",
    "version": 3
   },
   "file_extension": ".py",
   "mimetype": "text/x-python",
   "name": "python",
   "nbconvert_exporter": "python",
   "pygments_lexer": "ipython3",
   "version": "3.10.10"
  }
 },
 "nbformat": 4,
 "nbformat_minor": 5
}
