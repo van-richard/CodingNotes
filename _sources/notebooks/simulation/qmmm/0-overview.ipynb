{
 "cells": [
  {
   "cell_type": "markdown",
   "id": "cac8f406-ff4c-4cc7-a004-87419bd560ee",
   "metadata": {
    "editable": true,
    "slideshow": {
     "slide_type": ""
    },
    "tags": []
   },
   "source": [
    "# QM/MM Simulations"
   ]
  },
  {
   "cell_type": "markdown",
   "id": "f50e0292-b64a-4a38-91dd-5ca3ad483ab8",
   "metadata": {
    "editable": true,
    "slideshow": {
     "slide_type": ""
    },
    "tags": []
   },
   "source": [
    "## Overview\n",
    "\n",
    "Reference: https://www.youtube.com/watch?v=VK0e6-ndodM\n",
    "\n",
    "In general, a hybrid quantum mechanics/molecular mechanics (QM/MM) scheme requires:\n",
    "\n",
    "- Small part of system is defined at quantum level (QM)\n",
    "- Rest of system is defined at force field level (MM)\n",
    "\n",
    "The potential energy contains 3 types of interactions:\n",
    "\n",
    "1. Interaction between particles in QM region\n",
    "2. Interactions between particles in MM region\n",
    "3. Interaction between QM and MM particles\n",
    "\n",
    "Points 1 and 2 are straightforward descriptions of the system. Point number 3 requires calculating the energy of the combined system, whic can be done in 2 ways:\n",
    "\n",
    "1. Subtractive scheme\n",
    "\n",
    "$$\n",
    "E = E_\\mathrm{QM}  + E_\\mathrm{MM} - E_\\mathrm{QM-MM}\n",
    "$$\n",
    "\n",
    "Pros: No communication between QM and MM routines.\n",
    "Cons: Force field needed for QM. FF needs to be 'flexible' to describe change when reaction occurs. No QM polarization\n",
    "\n",
    "2. Additive scheme\n",
    "\n",
    "$$\n",
    "E = E_\\mathrm{QM} + E_\\mathrm{QM-MM} + E_\\mathrm{MM}\n",
    "$$\n",
    "\n",
    "QM energy ($E_\\mathrm{QM}$) is from DFT Kohn-Sham Hamiltonian. MM energy ($E_\\mathrm{MM}$) is from force field. QM-MM interaction energy ($E_\\mathrm{QM-MM}$) is:\n",
    "\n",
    "$$\n",
    "E_\\mathrm{QM-MM} = E_\\mathrm{bonded}^\\mathrm{QM-MM} + _\\mathrm{nonbonded}^\\mathrm{QM-MM}\n",
    "$$\n",
    "\n",
    "**The additive scheme is the most common approach**, and we will talk about the QM/MM bonded and non bonded terms"
   ]
  },
  {
   "cell_type": "markdown",
   "id": "8449f16d-7048-4b20-a55e-581780a3c7a4",
   "metadata": {},
   "source": [
    "## Bonded Interactions\n",
    "\n",
    "$$\n",
    "E_\\mathrm{bonded}^\\mathrm{QM-MM}\n",
    "$$\n",
    "\n",
    "Bonded interactions are introduced when covalent bonds connecting QM and MM regions are cut.\n",
    "\n",
    "This term is chosen at classical FF level.\n",
    "\n",
    "Care has to be taken when evaluating the QM wave function, to address this, several approaches have been developed:\n",
    "\n",
    "1) **Monovalent capping atom:** hydrogen atoms are placed along bond vector.\n",
    "2) **Link atom pseudopotential:** linking atoms with scaled down psudopotential and requires a valence change which requires to constraint bond distance.\n",
    "3) **Generalized hybrid orbitals:** hybrid orbitals are olacced on boundary atom and one participates in SCF calculation for wave function of QM region"
   ]
  },
  {
   "cell_type": "markdown",
   "id": "d47d4df4-d2ca-459d-96d6-289f89d71a2b",
   "metadata": {},
   "source": [
    "## Nonbonded Interactions\n",
    "\n",
    "Non bonded term is:\n",
    "\n",
    "$$\n",
    "E_\\mathrm{nonbonded}^\\mathrm{QM-MM} = E_\\mathrm{perm.}^\\mathrm{QM-MM} +E_\\mathrm{pol.}^\\mathrm{QM-MM}\n",
    "$$\n",
    "\n",
    "QM Polarization energy ($E_\\mathrm{pol.}^\\mathrm{QM-MM}$) describes the *electrostatic* interaction between MM charges and QM charge density. This can be calculated in one of three ways:\n",
    "\n",
    "1) **Mechanical embedding:** No influence of MM charge on QM part, i.e.  QM calculation is gas-phase -like without additional potential due to MM atoms\n",
    "    - This neglects. established by assigning fixed set of effective charges to QM region. QM partial charges re=computed at every integration step of simulation (least-squares fitting procedure  \n",
    "2) **Electrostatic embedding:** QM polarization due to MM part included\n",
    "    - Estimated through additional term to QM Hamiltonian, where it is taken into account in terms of external charge distribution\n",
    "3) **Polarized embedding:** MM polarization due to QM part included as well\n",
    "    - Non-self consistently or fully self-consistently"
   ]
  },
  {
   "cell_type": "markdown",
   "id": "262963b6-bedf-4851-9542-888870bad7ed",
   "metadata": {
    "editable": true,
    "slideshow": {
     "slide_type": ""
    },
    "tags": []
   },
   "source": [
    "## Electrostatic Embedding\n",
    "\n",
    "Electrostatic interactions between QM and MM subsystems are handled during computation of electronic wave function. Charged MM atoms near QM Hamiltonian are treated as one-electron operators.\n",
    "\n",
    "$$\n",
    "E_\\mathrm{electrostatic}^\\mathrm{QM-MM} = \\sum_{i \\in QM}{} \\sum_{i \\in MM}{} \\frac{q^{e}}{|{{\\textbf{r}_{i}} - {\\textbf{R}_{i}}}|} \\longrightarrow \\sum_{i \\in MM}{q \\int{\\frac{\\rho(\\textbf{r})}{|\\textbf{r}_i - \\textbf{R}_i|}}d\\textbf{r}}\n",
    "$$\n",
    "\n",
    "Two problems arise due to the short-range and long-range behavior of this term..\n",
    "\n",
    "1. Short-Range - Electron spill-out; problems at the boundary\n",
    "2. Long-Range - Huge computational cost to evaluate the integral\n",
    "\n",
    "\n",
    "### Short-Range\n",
    "\n",
    "In electron spill-out, a problem may arise when using standard MM atomic charges to describe the charge distribution of the MM system, which results in over-polarization near the boundary.\n",
    "\n",
    "- The point charges on the MM side of the interface may attract (or repel) the electrons too strongly.\n",
    "\n",
    "These artifacts can become serious if a large basis set (e.g. with polarization and diffuse functions), or plane waves are used in the QM calculation..\n",
    "\n",
    "This can be avoided by **smeared-out charges** instead of traditional point charges\n",
    "\n",
    "$$\n",
    "E_\\mathrm{electrostatic}^\\mathrm{QM-MM} = \\sum_{i \\in MM}{q \\int{\\frac{\\rho(\\textbf{r})v^{smear}(|\\textbf{r}_i - \\textbf{R}_i|)}{|\\textbf{r}_i - \\textbf{R}_i|}}d\\textbf{r}}\n",
    "$$\n",
    "\n",
    "Where, the *smearing function* can be a Gaussian distrubtion or another suitable function centered at the MM atom.\n",
    "\n",
    "$$\n",
    "v^{smear}(r) = \\frac{Erf(\\frac{r}{r_{c,I}})}{r}\n",
    "$$\n",
    "\n",
    "- Smearing function in CP2P, where $r_{c,I}$ is the covalent radius of atom $I$"
   ]
  },
  {
   "cell_type": "code",
   "execution_count": null,
   "id": "9ecbd867-422a-4e0b-9cad-e499283b79bc",
   "metadata": {
    "editable": true,
    "slideshow": {
     "slide_type": ""
    },
    "tags": []
   },
   "outputs": [],
   "source": []
  }
 ],
 "metadata": {
  "kernelspec": {
   "display_name": "Python 3 (ipykernel)",
   "language": "python",
   "name": "python3"
  },
  "language_info": {
   "codemirror_mode": {
    "name": "ipython",
    "version": 3
   },
   "file_extension": ".py",
   "mimetype": "text/x-python",
   "name": "python",
   "nbconvert_exporter": "python",
   "pygments_lexer": "ipython3",
   "version": "3.10.10"
  }
 },
 "nbformat": 4,
 "nbformat_minor": 5
}
