{
 "cells": [
  {
   "cell_type": "markdown",
   "id": "8b76695a-8975-494d-80e6-188c8bd39cdd",
   "metadata": {
    "editable": true,
    "slideshow": {
     "slide_type": ""
    },
    "tags": []
   },
   "source": [
    "# Distance Restraints"
   ]
  },
  {
   "cell_type": "markdown",
   "id": "722ea744-f92a-44a3-b174-5869c06f38f8",
   "metadata": {
    "editable": true,
    "slideshow": {
     "slide_type": ""
    },
    "tags": [
     "hide-input"
    ]
   },
   "source": [
    "<video src=\"../../_static/distance.mov\" width=\"100%\" controls>\n",
    "</video>"
   ]
  },
  {
   "cell_type": "markdown",
   "id": "71c11729-82fb-4ba4-856f-2bf178179f28",
   "metadata": {
    "editable": true,
    "slideshow": {
     "slide_type": ""
    },
    "tags": [
     "hide-input"
    ]
   },
   "source": [
    "We can apply a harmonic restraint to atoms/residues if we are interested in changes to molecular interactions or thermodynamics.\n",
    "\n",
    "This is another simplified tutorial building on what we learned from simulations of alanine dipeptide. We will simulate 2 molecules of alanine dipeptide using `sander` from `ambertools`. In the simulation, we will gradually pull the 2 molecules away from each other (4 Angstom to 10 Angstrom).\n",
    "\n",
    "We will perform the typical simulations steps, such as equilibration (minimizatino, heating 20 ps) and production runs (100 ps). Additionally, we will prepare 4 copies of `prod.in` where each input has a different distance restraint value.\n",
    "\n",
    "The files we need are:\n",
    "\n",
    "1. Topology file (*.parm7)\n",
    "2. Coordinate file (*.rst7)\n",
    "3. MD input files (min.in, heat.in, prod\\*.in, and *cv\\*.rst*)\n",
    "\n",
    "You can download my files for reference.\n",
    "\n",
    "[distance.tar.bz2](https://www.dropbox.com/scl/fi/8p1ymw35ilvs79egtktqv/distance.tar.bz2?rlkey=mgddua07m5q8ukbptf1uiv36j&dl=0)\n",
    "\n",
    "To extract:\n",
    "\n",
    "```bash\n",
    "tar xvjf distance.tar.bz2\n",
    "```"
   ]
  },
  {
   "cell_type": "markdown",
   "id": "7d871ed9-5c4b-45f1-a9e8-93cc6409093f",
   "metadata": {
    "editable": true,
    "slideshow": {
     "slide_type": ""
    },
    "tags": []
   },
   "source": [
    "## Preparing Inputs\n",
    "\n",
    "First, activated your `ambertools` conda environment.\n",
    "\n",
    "```bash\n",
    "conda activate ambertools\n",
    "```\n",
    "\n",
    "Make a new working directory, and `cd` into it.\n",
    "\n",
    "```bash\n",
    "mkdir distance\n",
    "cd distance\n",
    "```\n",
    "\n",
    "Since alanine dipeptide is an amino acid that is capped. We can use `tleap` to generate our topology and coordinate files. \n",
    "\n",
    "We can use tleap to generate the topology and coordinate file.\n",
    "\n",
    "To do so, make a file called `tleap.in`.\n",
    "\n",
    "```bash\n",
    "source leaprc.protein.ff19SB\n",
    "source leaprc.water.TIP3P\n",
    "\n",
    "sys1 = sequence { ACE ALA NME }\n",
    "sys2 = sequence { ACE ALA NME }\n",
    "translate sys2 { 5 0 0 }\n",
    "system = combine { sys1 sys2 }\n",
    "\n",
    "solvatebox system TIP3PBOX 12.0 iso 0.8\n",
    "\n",
    "saveamberparm system step3_pbcsetup.parm7 step3_pbcsetup.rst7\n",
    "savepdb system step3_pbcsetup.pdb\n",
    "\n",
    "quit\n",
    "```\n",
    "\n",
    "Here we made each molecule of alanine dipeptide as `sys1` or `sys`. `tleap` will automatically place both in the center of the water box. We can change this by using `translate` to move one of the molecules 5 Å away in the x-direction. Finally, combine both molecules, and save a new PDB file. The PDB file will help with identifing atom/residue indexes. Get the Amber input files by running the script, `tleap.in`\n",
    "\n",
    "```bash\n",
    "tleap -sf tleap.in\n",
    "```\n",
    "\n",
    "If you list the files in the current working directory, you should see\n",
    "\n",
    "1. `step3_pbcsetup.parm7`\n",
    "2. `step3_pbcsetup.rst7`\n",
    "3. `step3_pbcsetup.pdb`\n",
    "\n",
    "*ALWAYS VISUALIZE THESE FILES BEFORE MOVING ON!*\n",
    "\n",
    "Next, we will make the Amber MD input files. \n",
    "\n",
    "They contain settings for each MD run. We will have 3 steps:\n",
    "\n",
    "1. Minimization\n",
    "2. Heating (for 10 ps at 300 K)\n",
    "3. Production MD (10 ps at 300 K, ranging distance)"
   ]
  },
  {
   "cell_type": "markdown",
   "id": "91bb9865-a89b-4db6-bf11-3b037e040ad5",
   "metadata": {
    "editable": true,
    "slideshow": {
     "slide_type": ""
    },
    "tags": []
   },
   "source": [
    "### Minimization\n",
    "\n",
    "Make a `min.in` file, with:\n",
    "\n",
    "```bash\n",
    "Minimize\n",
    " &cntrl\n",
    "  imin=1    \n",
    "  ntx=1,        \n",
    "  irest=0,\n",
    "  maxcyc=2000,\n",
    "  ncyc=1000,\n",
    "  ntpr=100,\n",
    "  ntwx=0,\n",
    "  cut=8.0,\n",
    " /\n",
    "```"
   ]
  },
  {
   "cell_type": "markdown",
   "id": "a34ee9ff-ec4e-4a3c-96b7-f51159fa3033",
   "metadata": {
    "editable": true,
    "slideshow": {
     "slide_type": ""
    },
    "tags": []
   },
   "source": [
    "### Heating \n",
    "\n",
    "Make a `heat.in` file, with:\n",
    "\n",
    "```bash\n",
    "A NVT simulation for common production-level simulations\n",
    " &cntrl\n",
    "    imin=0,        ! No minimization\n",
    "    irest=0,       ! This is NOT a restart of an old MD simulation\n",
    "    ntx=1,         ! So our inpcrd file has no velocities\n",
    "\n",
    "    ! Temperature control\n",
    "    ntt=3,         ! Langevin dynamics\n",
    "    gamma_ln=1.0,  ! Friction coefficient (ps^-1)\n",
    "    temp0=300,     ! Target temperature\n",
    "\n",
    "    ! Potential energy control\n",
    "    cut=9.0,       ! nonbonded cutoff, in angstroms\n",
    "\n",
    "    ! MD settings\n",
    "    nstlim=10000,  ! 10K steps, 10 ps total\n",
    "    dt=0.001,      ! time step (ps)\n",
    "\n",
    "    ! SHAKE\n",
    "    ntc=2,         ! Constrain bonds containing hydrogen\n",
    "    ntf=2,         ! Do not calculate forces of bonds containing hydrogen\n",
    "\n",
    "    ! Control how often information is printed\n",
    "    ntpr=1000,     ! Print energies every 1000 steps\n",
    "    ntwx=1000,     ! Print coordinates every 5000 steps to the trajectory\n",
    "    ntwr=1000,     ! Print a restart file every 10K steps (can be less frequent)\n",
    "    ntxo=2,        ! Write NetCDF format\n",
    "    ioutfm=1,      ! Write NetCDF format (always do this!)\n",
    "\n",
    "    ! Wrap coordinates when printing them to the same unit cell\n",
    "    iwrap=1,\n",
    "\n",
    "    ! Restraint options\n",
    "    ntr=1,\n",
    "    restraint_wt=5,\n",
    "    restraintmask=':1-6', ! Apply weak positional restraint on residues\n",
    " /\n",
    "```"
   ]
  },
  {
   "cell_type": "markdown",
   "id": "dc2d0a14-9841-4c97-a01d-02eaac24e643",
   "metadata": {
    "editable": true,
    "slideshow": {
     "slide_type": ""
    },
    "tags": []
   },
   "source": [
    "### Production MD\n",
    "\n",
    "Make 4 copies of `prod.in`. Make sure they have different names (i.e. `prod0`, `prod1`, `prod2`, and `prod3`). Use the following as your template, and be sure to change the last line, where `DUMPAVE=prod.cv` to `DUMPAVE=prod[0,1,2, or 3].cv`.\n",
    "\n",
    "Here is an example of `prod0.in`.\n",
    "\n",
    "```bash\n",
    "A NVT simulation for common production-level simulations\n",
    " &cntrl\n",
    "    imin=0,        ! No minimization\n",
    "    irest=1,       ! This IS a restart of an old MD simulation\n",
    "    ntx=5,         ! So our inpcrd file has velocities\n",
    "\n",
    "    ! Temperature control\n",
    "    ntt=3,         ! Langevin dynamics\n",
    "    gamma_ln=1.0,  ! Friction coefficient (ps^-1)\n",
    "    temp0=300,   ! Target temperature\n",
    "\n",
    "    ! Potential energy control\n",
    "    cut=9.0,       ! nonbonded cutoff, in Angstroms\n",
    "\n",
    "    ! MD settings\n",
    "    nstlim=10000, ! 2 ns total\n",
    "    dt=0.001,      ! time step (ps)\n",
    "\n",
    "    ! SHAKE\n",
    "    ntc=2,         ! Constrain bonds containing hydrogen\n",
    "    ntf=2,         ! Do not calculate forces of bonds containing hydrogen\n",
    "\n",
    "    ! Control how often information is printed\n",
    "    ntpr=1000,     ! Print energies every 1000 steps\n",
    "    ntwx=1000,    ! Print coordinates every 50000 steps to the trajectory\n",
    "    ntwr=1000,    ! Print a restart file every 10K steps (can be less frequent)\n",
    "    ntxo=2,        ! Write NetCDF format\n",
    "    ioutfm=1,      ! Write NetCDF format (always do this!)\n",
    "\n",
    "    ! Wrap coordinates when printing them to the same unit cell\n",
    "    iwrap=1,\n",
    "        \n",
    "    ! Restraints\n",
    "    nmropt=1,      ! Turn on restraints\n",
    "\n",
    " /\n",
    " \n",
    " &wt type='DUMPFREQ', istep1=10 / # Print restraint value every 10 steps\n",
    " &wt type='END' /\n",
    " DISANG=cv0.rst   # Restraint file is cv0.rst\n",
    " DUMPAVE=prod0.cv # Print restraint value in the file, prod0.cv\n",
    "\n",
    " /\n",
    "```"
   ]
  },
  {
   "cell_type": "markdown",
   "id": "c8f377c6-84d0-4135-81ad-b05d754b0cc3",
   "metadata": {
    "editable": true,
    "slideshow": {
     "slide_type": ""
    },
    "tags": []
   },
   "source": [
    "### Restraint File\n",
    "\n",
    "Like the `prod.in`, prepare 4 copies of the restraint file, `cv.rst` (`cv0.rst`, `cv1,rst`, `cv2.rst`, and `cv3.rst`). Set the range of the restraint value to 4, 8, 12, and 15 (e.g. for a distance restraing of 8 Angstroms, do, `r2=8, r3=8`... etc.). The file has the following format:\n",
    "\n",
    "`iresid` - `iresid=0` Use atom numbering (Turning this on, `resid=1`, seems to not work which is why we use atom numbering).\n",
    "`igr1` - Center of mass (COM) of the first residue.\n",
    "`igr2` - Center of mass (COM) of the second residue.\n",
    "`r1..r4` - The shape of the potential.\n",
    "`rk2..rk3` - Restraint force constant (kcal/mol)\n",
    "\n",
    "Example with COM distance of 4 Angstrom.\n",
    "\n",
    "```bash\n",
    "# Distance restraint of 4 Angstroms between the center of mass (COM) of both molecules (the ALA part)\n",
    "# igr1 and igr2 are the atom numbers\n",
    " &rst\n",
    "  iat=-1,-1,\n",
    "  iresid=0,\n",
    "  igr1=1,2,3,4,5,6,7,8,9,10,11,12,13,14,15,16,17,18,19,20,21,22,\n",
    "  igr2=23,24,25,26,27,28,29,30,31,32,33,34,35,36,37,38,39,40,41,42,43,44,\n",
    "  r1=-20, r2=4, r3=4, r4=20,\n",
    "  rk2=10.0, rk3=10.0,\n",
    " &end\n",
    "```"
   ]
  },
  {
   "cell_type": "markdown",
   "id": "5240af0b-7f47-44cc-a29a-a0ef7ec5182b",
   "metadata": {
    "editable": true,
    "slideshow": {
     "slide_type": ""
    },
    "tags": []
   },
   "source": [
    "## Run Amber MD with `sander`\n",
    "\n",
    "Alternatively, you can also run this with the MPI version of `sander` or `pmemd`, or if you have a GPU available, `pmemd.cuda`. Just replace `sander` with your choice of MD engine.\n",
    "\n",
    "You can prepare a single file running the steps sequentially. I made the file, `runmd.slurm`.\n",
    "\n",
    "```bash\n",
    "#!/bin/bash\n",
    "\n",
    "sander=\"sander\"\n",
    "\n",
    "$sander -O -i min.in -p step3_pbcsetup.parm7 -c step3_pbcsetup.rst7 -o min.out -r min.ncrst -inf min.mdinfo\n",
    "\n",
    "$sander -O -i heat.in -p step3_pbcsetup.parm7 -c min.ncrst -o heat.out -r heat.ncrst -inf heat.mdinfo -ref min.ncrst -x heat.nc\n",
    "\n",
    "$sander -O -i prod0.in -p step3_pbcsetup.parm7 -c heat.ncrst -o prod0.out -r prod0.ncrst -inf prod0.mdinfo -x prod0.nc\n",
    "\n",
    "$sander -O -i prod1.in -p step3_pbcsetup.parm7 -c prod0.ncrst -o prod1.out -r prod1.ncrst -inf prod1.mdinfo -x prod1.nc\n",
    "\n",
    "$sander -O -i prod2.in -p step3_pbcsetup.parm7 -c prod1.ncrst -o prod2.out -r prod2.ncrst -inf prod2.mdinfo -x prod2.nc\n",
    "\n",
    "$sander -O -i prod3.in -p step3_pbcsetup.parm7 -c prod2.ncrst -o prod3.out -r prod3.ncrst -inf prod3.mdinfo -x prod3.nc\n",
    "```\n",
    "\n",
    "Running `runmd.slurm` on *your computer*:\n",
    "\n",
    "```bash\n",
    "bash runmd.slurm\n",
    "```"
   ]
  },
  {
   "cell_type": "markdown",
   "id": "1a37d0eb-62ad-42b4-9e2d-16aca24b277c",
   "metadata": {
    "editable": true,
    "slideshow": {
     "slide_type": ""
    },
    "tags": []
   },
   "source": [
    "## Conclusion\n",
    "\n",
    "Now you can visual the results with VMD or Chimera, and perform some analysis.\n",
    "\n",
    "## Helpful Tips\n",
    "\n",
    "Generate `cv[0 to 3].rst` and `prod[0 to 3].in` files by looping.\n",
    "\n",
    "Instead of making a file called `cv.rst`. Make a file called `ref_cv.rst`, which looks like:\n",
    "\n",
    "```bash\n",
    "# Distance restraint of 4 Angstroms between the center of mass (COM) of both molecules (the ALA part)\n",
    "# igr1 and igr2 are the atom numbers\n",
    " &rst\n",
    "  iat=-1,-1,\n",
    "  iresid=0,\n",
    "  igr1=1,2,3,4,5,6,7,8,9,10,11,12,13,14,15,16,17,18,19,20,21,22,\n",
    "  igr2=23,24,25,26,27,28,29,30,31,32,33,34,35,36,37,38,39,40,41,42,43,44,\n",
    "  r1=-20, r2=__REST__, r3=__REST__, r4=20,\n",
    "  rk2=10.0, rk3=10.0,\n",
    " &end\n",
    " ```\n",
    "\n",
    "**NOTE:** `r2` and `r3` are now set to `__REST__`, which will be replaced through a script I call `gen_inputs.in`.\n",
    "\n",
    "Instead of making a file called `prod.rst`. Make a file called `ref_prod.rst`, which looks like:\n",
    "\n",
    "```bash\n",
    "A NVT simulation for common production-level simulations\n",
    " &cntrl\n",
    "    imin=0,        ! No minimization\n",
    "    irest=1,       ! This IS a restart of an old MD simulation\n",
    "    ntx=5,         ! So our inpcrd file has velocities\n",
    "\n",
    "    ! Temperature control\n",
    "    ntt=3,         ! Langevin dynamics\n",
    "    gamma_ln=1.0,  ! Friction coefficient (ps^-1)\n",
    "    temp0=300,   ! Target temperature\n",
    "\n",
    "    ! Potential energy control\n",
    "    cut=9.0,       ! nonbonded cutoff, in Angstroms\n",
    "\n",
    "    ! MD settings\n",
    "    nstlim=10000, ! 2 ns total\n",
    "    dt=0.001,      ! time step (ps)\n",
    "\n",
    "    ! SHAKE\n",
    "    ntc=2,         ! Constrain bonds containing hydrogen\n",
    "    ntf=2,         ! Do not calculate forces of bonds containing hydrogen\n",
    "\n",
    "    ! Control how often information is printed\n",
    "    ntpr=1000,     ! Print energies every 1000 steps\n",
    "    ntwx=1000,    ! Print coordinates every 50000 steps to the trajectory\n",
    "    ntwr=1000,    ! Print a restart file every 10K steps (can be less frequent)\n",
    "    ntxo=2,        ! Write NetCDF format\n",
    "    ioutfm=1,      ! Write NetCDF format (always do this!)\n",
    "\n",
    "    ! Wrap coordinates when printing them to the same unit cell\n",
    "    iwrap=1,\n",
    "        \n",
    "    ! Restraints\n",
    "    nmropt=1,      ! Turn on restraints\n",
    "\n",
    " /\n",
    " \n",
    " &wt type='DUMPFREQ', istep1=10 /\n",
    " &wt type='END' /\n",
    " DISANG=cv__REST__.rst\n",
    " DUMPAVE=prod__REST__.cv\n",
    "\n",
    " /\n",
    "```\n",
    "\n",
    "Then make a file called `gen_inputs.in`, which makes new files by modifying the `__REST__` string with the restraint value needed (Using the`sed` function), based on a reference file (`ref_cv.rst` and `ref_prod.in`). The`gen_inputs.in` file looks like:\n",
    "\n",
    "```bash\n",
    "#!/bin/bash\n",
    "\n",
    "n=4 # First restraint value\n",
    "for i in `seq 0 3`; do # Loop over the sequence of number 0, 1, 2, 3\n",
    "    sed \"s/__REST__/${n}/g\" ref_cv.rst > cv${i}.rst # Change __REST__ to restraint value\n",
    "    sed \"s/__REST__/${n}/g\" ref_prod.in > prod${i}.in # Change __REST__ to restraint value\n",
    "    n=`echo $n + 4 | bc` # Add 2 to the last restraint value\n",
    "done\n",
    "```"
   ]
  },
  {
   "cell_type": "code",
   "execution_count": null,
   "id": "ea524a81-2181-47cf-8fa7-77288e3767fe",
   "metadata": {
    "editable": true,
    "slideshow": {
     "slide_type": ""
    },
    "tags": []
   },
   "outputs": [],
   "source": []
  }
 ],
 "metadata": {
  "kernelspec": {
   "display_name": "Python 3 (ipykernel)",
   "language": "python",
   "name": "python3"
  },
  "language_info": {
   "codemirror_mode": {
    "name": "ipython",
    "version": 3
   },
   "file_extension": ".py",
   "mimetype": "text/x-python",
   "name": "python",
   "nbconvert_exporter": "python",
   "pygments_lexer": "ipython3",
   "version": "3.10.10"
  }
 },
 "nbformat": 4,
 "nbformat_minor": 5
}
