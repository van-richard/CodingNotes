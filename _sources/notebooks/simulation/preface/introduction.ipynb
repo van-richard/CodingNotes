{
 "cells": [
  {
   "cell_type": "markdown",
   "id": "3320b029-7b30-4224-a4eb-6d70ff4b4913",
   "metadata": {},
   "source": [
    "# Introductions\n",
    "\n",
    "Before you run any simulation, consider the following:\n",
    "\n",
    "- What is your scientific question?\n",
    "- Can your hypothesis be tested with MD?\n",
    "- Is there experimental evidence for the property you're investigating?\n",
    "- What timescale is the property you're testing for?\n",
    "\n",
    "General steps of running molecular dynamics (MD) simulations are shown below. However, consider the following questions before running you systems should be:\n",
    "\n",
    "1. System Preparations\n",
    "     - What ions or molecules are in your system?\n",
    "     - Is the force field for each type of ion/molecule sufficient?\n",
    "     - What protonation states are your titratable residues?\n",
    "2. Equilibrate the System\n",
    "    - What is the target environmental conditions for your system?\n",
    "    - Is temperature, pressure, and/or the energy of the sytem stable? \n",
    "3. Production Simulations \n",
    "    - How long do you need your simulation?\n",
    "4. Analysis of Trajectories\n",
    "    - What property of the system addresses your hypothesis?\n"
   ]
  },
  {
   "cell_type": "code",
   "execution_count": null,
   "id": "da671eb9-bf5e-421e-aa42-b6f7411ff958",
   "metadata": {},
   "outputs": [],
   "source": []
  }
 ],
 "metadata": {
  "kernelspec": {
   "display_name": "Python 3 (ipykernel)",
   "language": "python",
   "name": "python3"
  },
  "language_info": {
   "codemirror_mode": {
    "name": "ipython",
    "version": 3
   },
   "file_extension": ".py",
   "mimetype": "text/x-python",
   "name": "python",
   "nbconvert_exporter": "python",
   "pygments_lexer": "ipython3",
   "version": "3.10.10"
  }
 },
 "nbformat": 4,
 "nbformat_minor": 5
}
