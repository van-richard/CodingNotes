{
 "cells": [
  {
   "cell_type": "markdown",
   "id": "742ed9d5-615f-4a61-b931-8e9811df5451",
   "metadata": {
    "editable": true,
    "slideshow": {
     "slide_type": ""
    },
    "tags": []
   },
   "source": [
    "# Theory"
   ]
  },
  {
   "cell_type": "markdown",
   "id": "3bdafb04-754e-4ba3-98ea-d769ae33b2e6",
   "metadata": {},
   "source": [
    "## Potential Functions\n",
    "\n",
    "Energy of a system is composed of bonded and nonbonded interactions:\n",
    "\n",
    "$$ \n",
    "E _{total} = E_{bonded} + E_{nonbonded} \n",
    "$$\n",
    "\n",
    "The bonded interactions are:\n",
    "\n",
    "$$ \n",
    "E_{bonded} = E_{bond} + E_{angles} + E_{torsion}\n",
    "$$\n",
    "\n",
    "Nonbonded interactions are:\n",
    "\n",
    "$$\n",
    "E_{nonbonded} = E_{vDW} + E_{Coulomb}\n",
    "$$\n",
    "\n",
    "How these functions are written will depend on the simulation package (i.e. Amber, NAMD, OpenMM, Gromacs, etc.). \n",
    "\n",
    "In Amber, it is written:\n",
    "\n",
    "$$\n",
    "E_{total} = \n",
    "$$\n"
   ]
  },
  {
   "cell_type": "markdown",
   "id": "e07fd577-e913-48bd-8eea-4a12a6a9d8ec",
   "metadata": {},
   "source": [
    "## Force Fields"
   ]
  },
  {
   "cell_type": "code",
   "execution_count": null,
   "id": "7f7547fa-8d40-4296-9990-5b2de25b68de",
   "metadata": {},
   "outputs": [],
   "source": []
  },
  {
   "cell_type": "code",
   "execution_count": null,
   "id": "e40e9997-a6d2-4d92-8279-77795cae3888",
   "metadata": {},
   "outputs": [],
   "source": []
  }
 ],
 "metadata": {
  "kernelspec": {
   "display_name": "Python 3 (ipykernel)",
   "language": "python",
   "name": "python3"
  },
  "language_info": {
   "codemirror_mode": {
    "name": "ipython",
    "version": 3
   },
   "file_extension": ".py",
   "mimetype": "text/x-python",
   "name": "python",
   "nbconvert_exporter": "python",
   "pygments_lexer": "ipython3",
   "version": "3.10.10"
  }
 },
 "nbformat": 4,
 "nbformat_minor": 5
}
