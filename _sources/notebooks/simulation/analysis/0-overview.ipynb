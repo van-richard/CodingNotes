{
 "cells": [
  {
   "cell_type": "markdown",
   "id": "ad4b2a15-a220-48d7-af1c-aec933b0adcb",
   "metadata": {
    "editable": true,
    "slideshow": {
     "slide_type": ""
    },
    "tags": []
   },
   "source": [
    "# Analysis"
   ]
  },
  {
   "cell_type": "markdown",
   "id": "3bdfba2f-b2e9-4aa4-a347-3abcbe7312b7",
   "metadata": {
    "editable": true,
    "slideshow": {
     "slide_type": ""
    },
    "tags": []
   },
   "source": [
    "Simulation analysis with Ambertools\n",
    "\n",
    "- [Pairwise Distance](./pairwisedistance.ipynb)\n",
    "- [PCA](./pca.ipynb)\n",
    "- [RMSD/RMSE](./rmsd.ipynb)\n",
    "- [RMSF](./rmsf.ipynb)"
   ]
  },
  {
   "cell_type": "code",
   "execution_count": null,
   "id": "37ab7112-b013-4704-92ef-093ccb03a670",
   "metadata": {
    "editable": true,
    "slideshow": {
     "slide_type": ""
    },
    "tags": []
   },
   "outputs": [],
   "source": []
  }
 ],
 "metadata": {
  "kernelspec": {
   "display_name": "Python 3 (ipykernel)",
   "language": "python",
   "name": "python3"
  },
  "language_info": {
   "codemirror_mode": {
    "name": "ipython",
    "version": 3
   },
   "file_extension": ".py",
   "mimetype": "text/x-python",
   "name": "python",
   "nbconvert_exporter": "python",
   "pygments_lexer": "ipython3",
   "version": "3.10.10"
  }
 },
 "nbformat": 4,
 "nbformat_minor": 5
}
