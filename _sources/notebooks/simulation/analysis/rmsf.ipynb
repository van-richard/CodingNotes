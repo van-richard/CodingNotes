{
 "cells": [
  {
   "cell_type": "markdown",
   "id": "69734253-d49b-45d2-86e6-b21187fabc31",
   "metadata": {
    "editable": true,
    "slideshow": {
     "slide_type": ""
    },
    "tags": []
   },
   "source": [
    "# RMSF\n",
    "\n",
    "Root Mean Square Fluctuation\n",
    "\n",
    "*Example*\n",
    "\n",
    "Plot for C$_{\\alpha}$ of protein in Amber MD simulation, with domains labeled by color.\n",
    "\n",
    "```python\n",
    "import pytraj as pt\n",
    "import matplotlib.pyplot as plt\n",
    "\n",
    "# Load trajectory\n",
    "traj = pt.iterload('prod.nc', top='step3_pbcsetup_1264.parm7')\n",
    "\n",
    "# Superimpose to 1st frame and alpha carbons\n",
    "pt.superpose(traj, ref=0, mask=\"@CA\")\n",
    "\n",
    "rmsf0 = pt.rmsf(traj, mask=\"@CA\")\n",
    "\n",
    "# Shade domains different color\n",
    "plt.axvspan(   1,   56, facecolor='tab:red', alpha=0.2)\n",
    "plt.axvspan( 718,  765, facecolor='tab:red', alpha=0.2)\n",
    "plt.axvspan( 925, 1102, facecolor='tab:red', alpha=0.2)\n",
    "plt.axvspan(  56,  718, facecolor='tab:blue', alpha=0.2)\n",
    "plt.axvspan( 765,  924, facecolor='tab:orange', alpha=0.2)\n",
    "plt.axvspan(1099, 1368, facecolor='tab:green', alpha=0.2)\n",
    "\n",
    "# Plot Residue # vs RMSF\n",
    "plt.plot(np.arange(1,len(rmsf0.T[0])+1), rmsf0.T[1])\n",
    "plt.xlabel('Residue Number')\n",
    "plt.ylabel('RMSF (Å)')\n",
    "plt.savefig('rmsf.png', dpi=300)\n",
    "```"
   ]
  }
 ],
 "metadata": {
  "kernelspec": {
   "display_name": "Python 3 (ipykernel)",
   "language": "python",
   "name": "python3"
  },
  "language_info": {
   "codemirror_mode": {
    "name": "ipython",
    "version": 3
   },
   "file_extension": ".py",
   "mimetype": "text/x-python",
   "name": "python",
   "nbconvert_exporter": "python",
   "pygments_lexer": "ipython3",
   "version": "3.10.10"
  }
 },
 "nbformat": 4,
 "nbformat_minor": 5
}
