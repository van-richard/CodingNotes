{
 "cells": [
  {
   "cell_type": "markdown",
   "id": "5ae8cbd2-a99b-41f5-8de1-765340f0efdb",
   "metadata": {
    "editable": true,
    "slideshow": {
     "slide_type": ""
    },
    "tags": []
   },
   "source": [
    "# RMSD \n",
    "\n",
    "## Root Mean Square Deviation\n",
    "\n",
    "*Example*\n",
    "\n",
    "```python\n",
    "import pytraj as pt\n",
    "import matplotlib.pyplot as plt\n",
    "\n",
    "# Load trajectory\n",
    "traj = pt.iterload('prod.nc', top='step3_pbcsetup_1264.parm7')\n",
    "\n",
    "rmsd = pt.rmsd(traj, mask=\"@CA\")\n",
    "\n",
    "# Plot Simulation Time vs RMSD\n",
    "plt.plot(rmsd)\n",
    "plt.xlabel('Time ')\n",
    "plt.ylabel('RMSF (Å)')\n",
    "plt.savefig('rmsf.png', dpi=300)\n",
    "\n",
    "```\n",
    "\n",
    "## Pairwise Root Mean Square Deviation\n",
    "\n",
    "2D-RMSD \n",
    "\n",
    "*Example*\n",
    "\n",
    "```python\n",
    "import pytraj as pt\n",
    "import matplotlib.pyplot as plt\n",
    "\n",
    "# Load trajectory\n",
    "traj = pt.iterload('prod.nc', top='step3_pbcsetup_1264.parm7')\n",
    "\n",
    "rmsd = pt.pairwise_rmsd(traj, mask=\"@CA\")\n",
    "\n",
    "# Plot Simulation Time vs RMSD\n",
    "plt.plot(rmsd)\n",
    "plt.xlabel('Time ')\n",
    "plt.ylabel('RMSF (Å)')\n",
    "plt.savefig('rmsf.png', dpi=300)\n",
    "```"
   ]
  },
  {
   "cell_type": "code",
   "execution_count": null,
   "id": "0333a1ed-c959-4976-94f4-cc694f14aab3",
   "metadata": {},
   "outputs": [],
   "source": []
  }
 ],
 "metadata": {
  "kernelspec": {
   "display_name": "Python 3 (ipykernel)",
   "language": "python",
   "name": "python3"
  },
  "language_info": {
   "codemirror_mode": {
    "name": "ipython",
    "version": 3
   },
   "file_extension": ".py",
   "mimetype": "text/x-python",
   "name": "python",
   "nbconvert_exporter": "python",
   "pygments_lexer": "ipython3",
   "version": "3.10.10"
  }
 },
 "nbformat": 4,
 "nbformat_minor": 5
}
