{
 "cells": [
  {
   "cell_type": "markdown",
   "id": "c5107eea-3e68-40cb-bc8e-922a39d282f4",
   "metadata": {
    "editable": true,
    "slideshow": {
     "slide_type": ""
    },
    "tags": []
   },
   "source": [
    "# Pairwise Distance\n",
    "\n",
    "*Example*\n",
    "\n",
    "```python\n",
    "import pytraj as pt\n",
    "from pytraj import matrix\n",
    "import seaborn as sns\n",
    "traj1 = pt.iterload('free_126/prod*nc', top='free_126/step3_pbcsetup_1264.parm7')\n",
    "\n",
    "mat = matrix.dist(traj1, mask='@CA')\n",
    "np.save('npy/free_126_ca_matrix_dist.npy', mat)\n",
    "\n",
    "sns.heatmap(mat)\n",
    "```"
   ]
  }
 ],
 "metadata": {
  "kernelspec": {
   "display_name": "Python 3 (ipykernel)",
   "language": "python",
   "name": "python3"
  },
  "language_info": {
   "codemirror_mode": {
    "name": "ipython",
    "version": 3
   },
   "file_extension": ".py",
   "mimetype": "text/x-python",
   "name": "python",
   "nbconvert_exporter": "python",
   "pygments_lexer": "ipython3",
   "version": "3.10.10"
  }
 },
 "nbformat": 4,
 "nbformat_minor": 5
}
