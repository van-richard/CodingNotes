{
 "cells": [
  {
   "cell_type": "markdown",
   "id": "0423ac86-d26b-4953-885c-e05e3c53196c",
   "metadata": {},
   "source": [
    "# PDB Files\n",
    "\n",
    "## Background\n",
    "\n",
    "Before starting any simulation, we need a structure. Protein structures are deposited to the PDB data bank as `.pdb` files. \n",
    "\n",
    "## PDBs - Protein Data Bank\n",
    "\n",
    "These are files which contain atomic coordinates and other information which descripes biological molecules. Structural biologist use experimental methods such as X-ray crystallography, Nuclear Magnetic Resonace spectroscopy, and Cryo-electron microscopy to determine the location of atoms in the structure. The information is then deposited to a [PDB data bank](https://www.rcsb.org)."
   ]
  },
  {
   "cell_type": "code",
   "execution_count": null,
   "id": "ff58ca24-0d74-40ca-b902-73f82e95c7ba",
   "metadata": {},
   "outputs": [],
   "source": []
  }
 ],
 "metadata": {
  "kernelspec": {
   "display_name": "Python 3 (ipykernel)",
   "language": "python",
   "name": "python3"
  },
  "language_info": {
   "codemirror_mode": {
    "name": "ipython",
    "version": 3
   },
   "file_extension": ".py",
   "mimetype": "text/x-python",
   "name": "python",
   "nbconvert_exporter": "python",
   "pygments_lexer": "ipython3",
   "version": "3.10.10"
  }
 },
 "nbformat": 4,
 "nbformat_minor": 5
}
