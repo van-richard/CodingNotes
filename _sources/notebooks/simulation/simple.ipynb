{
 "cells": [
  {
   "cell_type": "markdown",
   "id": "4eec7822-0d44-4336-905c-b44b18163072",
   "metadata": {
    "user_expressions": []
   },
   "source": [
    "# Simple MD Example"
   ]
  },
  {
   "cell_type": "markdown",
   "id": "df0764c8-d83f-4194-ba8d-963290a8b286",
   "metadata": {
    "tags": [],
    "user_expressions": []
   },
   "source": [
    "A simple example of how to run MD simulations is with the molecule, Alanine Dipeptide. We will model the residue, solvate it in a water box, equilibrate the system, and run MD production simulations with AmberTools. This should take roughly an hour.\n",
    "\n",
    "```{figure} ../../_static/simple.mov\n",
    "---\n",
    "width: 50%\n",
    "---\n",
    "MD trajectory of Alanine Dipeptide (*ball-and-stick*) in water (*line*) viewed using VMD.\n",
    "```\n",
    "\n",
    "The system, Alanine Dipeptide, is the amino acid, Alanine, with the charged ends neutralized. This is done by \"capping\" the N-terminal with an acetyl group, and C-terminal with N-methylamide.\n",
    "\n",
    "In this tutorial, we will:\n",
    "\n",
    "1. Make a new project folder\n",
    "2. Use `tleap` to make the molecule (in Amber format)\n",
    "3. Prepare inputs for MD simulations\n",
    "4. Run MD simulations with `sander`\n",
    "5. Analyze the trajectory\n",
    "\n",
    "**This assumes you have already installed some form of conda, and made the conda environment \"ambertools\".**\n",
    "\n",
    "````{note}\n",
    "- This tutorial can be perform on your local computer or with Google Colab\n",
    "- Download my files for reference: [simple.tar.bz2](../../assets/simple.tar.bz2 \"download\")\n",
    "    - To do this on command line:\n",
    "         1. Right-click the link\n",
    "         2. Choose copy link\n",
    "         3. On your terminal, use the command, `wget` followed by pasting the link\n",
    "         4. Extract the file with `tar xvjf simple.tar.bz2`\n",
    "````"
   ]
  },
  {
   "cell_type": "markdown",
   "id": "f953f283-2c41-445d-9ebe-a61ff191db7c",
   "metadata": {
    "tags": [],
    "user_expressions": []
   },
   "source": [
    "## Prepare a Project Folder\n",
    "\n",
    "Make a new project folder, name it `simple`, and then `cd` into it. This will be our working directory."
   ]
  },
  {
   "cell_type": "markdown",
   "id": "d2d52feb-0304-4ece-99c3-bafd2b2d1289",
   "metadata": {
    "user_expressions": []
   },
   "source": [
    "```bash\n",
    "mkdir -p simple\n",
    "cd simple\n",
    "```"
   ]
  },
  {
   "cell_type": "markdown",
   "id": "83c3e8d4-6fe0-4751-ba21-45dd32cdf64e",
   "metadata": {
    "user_expressions": []
   },
   "source": [
    "The `-p` option for `mkdir` will report no error if existing, and make parent directories as needed. "
   ]
  },
  {
   "cell_type": "markdown",
   "id": "21ea9682-efd3-406e-922d-34b4635fbd1e",
   "metadata": {
    "user_expressions": []
   },
   "source": [
    "## Prepare Amber Inputs (`.parm7` & `.rst7`)\n",
    "\n",
    "Alanine dipeptide is an amino acid, so we can use `tleap` to generate the topology (`.parm7`) and coordinate files(`.rst7`). We need to make a script called, \"tleap.in\", which will be the input to the `tleap` program"
   ]
  },
  {
   "cell_type": "markdown",
   "id": "70671008-c60d-414d-a11d-23eca31c2da5",
   "metadata": {
    "tags": [
     "code-cell"
    ],
    "user_expressions": []
   },
   "source": [
    "```bash\n",
    "# tleap.in file\n",
    "source leaprc.protein.ff19SB\n",
    "source leaprc.water.TIP3P\n",
    "\n",
    "system = sequence { ACE ALA NME }\n",
    "\n",
    "solvatebox system TIP3PBOX 12.0 iso 0.8\n",
    "\n",
    "saveamberparm system step3_pbcsetup.parm7 step3_pbcsetup.rst7\n",
    "\n",
    "quit\n",
    "```"
   ]
  },
  {
   "cell_type": "markdown",
   "id": "a80d08f7-c1d2-4423-a67b-73d8c7a3e297",
   "metadata": {
    "user_expressions": []
   },
   "source": [
    "Where:\n",
    "\n",
    "* `source` lines tell Amber which force field parameters we want for our molecules, this is always at the top of the file\n",
    "    * `leaprc.protein.ff19SB` contains protein information\n",
    "    * `leaprc.water.TIP3P` has the water parameters\n",
    "* `system = sequence { ACE ALA NME }` makes use of the `sequence` command which combines amino acid residues together to build a molecule, and this is stored as \"system\" variable\n",
    "* `solvatebox system TIP3PBOX 12.0 iso 0.8` create a a water box around the `system`, such that the minimum distance between any atom in `system` and the edge of the periodic box `12.0` Å. \n",
    "    * `iso` rotates the `system` to orient the principal axes\n",
    "    * `0.8` is how close a solvent atom can be to the system atoms\n",
    "* `saveamberparm system step3_pbcsetup.parm7 step3_pbcsetup.rst7` saves `system` as Amber topology (`step3_pbcsetup.parm7`) and coordinate (`step3_pbcsetup.rst7`) files\n",
    "* `quit` exits the tleap program."
   ]
  },
  {
   "cell_type": "markdown",
   "id": "a1abebef-20f6-41f3-a69b-b6d85207d65c",
   "metadata": {
    "user_expressions": []
   },
   "source": [
    "Now we can run `tleap`:\n",
    "\n",
    "```bash\n",
    "tleap -sf tleap.in\n",
    "```\n",
    "\n",
    "The `-sf` for `tleap` lets us run the script `tleap.in`, otherwise it will run interactively in the command line.\n"
   ]
  },
  {
   "cell_type": "markdown",
   "id": "3840e797-16cf-4106-9526-79d68bf16950",
   "metadata": {
    "user_expressions": []
   },
   "source": [
    "```bash\n",
    "tleap -sf tleap.in\n",
    "```\n",
    "\n",
    "If you list the files in this directory, you should see `step3_pbcsetup.parm7` and `step3_pbcsetup.rst7`.\n",
    "\n",
    "```{note}\n",
    "Visualize these two files with VMD. Always do this before moving on!\n",
    "```"
   ]
  },
  {
   "cell_type": "markdown",
   "id": "6bd17429-9014-4047-a1c9-c4ff7eed9aaf",
   "metadata": {
    "user_expressions": []
   },
   "source": [
    "## MD Inputs - Simulation Settings\n",
    "\n",
    "Now, we will make the Amber MD input files. These files contain the settings for each MD run. We will have 3 steps:\n",
    "\n",
    "1. Minimization\n",
    "2. Heating (for 20 ps from 0 K to 300 K)\n",
    "3. Production MD (100 ps at 300 K and 1 atm)\n",
    "\n",
    "::::{tab-set}\n",
    "::: {tab-item} min.mdin\n",
    "```bash\n",
    "Minimize\n",
    " &cntrl\n",
    "  imin=1    \n",
    "  ntx=1,        \n",
    "  irest=0,\n",
    "  maxcyc=2000,\n",
    "  ncyc=1000,\n",
    "  ntpr=100,\n",
    "  ntwx=0,\n",
    "  cut=8.0,\n",
    " /\n",
    "```\n",
    ":::\n",
    ":::{tab-item} heat.mdin\n",
    "```bash\n",
    "Heat\n",
    " &cntrl\n",
    "  imin=0,\n",
    "  ntx=1,\n",
    "  irest=0,\n",
    "  nstlim=10000,\n",
    "  dt=0.002,\n",
    "  ntf=2,\n",
    "  ntc=2,\n",
    "  tempi=0.0,\n",
    "  temp0=300.0,\n",
    "  ntpr=100,\n",
    "  ntwx=100,\n",
    "  cut=8.0,\n",
    "  ntb=1,\n",
    "  ntp=0,\n",
    "  ntt=3,\n",
    "  gamma_ln=2.0,\n",
    "  nmropt=1,\n",
    "  ig=-1,\n",
    " /\n",
    "&wt type='TEMP0', istep1=0, istep2=9000, value1=0.0, value2=300.0 /\n",
    "&wt type='TEMP0', istep1=9001, istep2=10000, value1=300.0, value2=300.0 /\n",
    "&wt type='END' /\n",
    "```\n",
    ":::\n",
    ":::{tab-item} prod.mdin\n",
    "```bash\n",
    "Production\n",
    " &cntrl\n",
    "  imin=0,\n",
    "  ntx=5,\n",
    "  irest=1,\n",
    "  nstlim=50000,\n",
    "  dt=0.002,\n",
    "  ntf=2,\n",
    "  ntc=2,\n",
    "  temp0=300.0,\n",
    "  ntpr=100,\n",
    "  ntwx=100,\n",
    "  cut=8.0,\n",
    "  ntb=2,\n",
    "  ntp=1,\n",
    "  ntt=3,\n",
    "  barostat=1,\n",
    "  gamma_ln=2.0,\n",
    "  ig=-1,\n",
    " /\n",
    "```\n",
    ":::\n",
    "::::"
   ]
  },
  {
   "cell_type": "markdown",
   "id": "4e7d8b4e-8ddc-4782-ad62-141ddfeffac7",
   "metadata": {
    "user_expressions": []
   },
   "source": [
    "## Running the Simulation\n",
    "\n",
    "Amber has 2 MD engines, `sander` and `pmemd`. `sander` is free and shipped with Ambertools. \n",
    "\n",
    "```{note}\n",
    "You can also run this with the MPI version of `sander` or `pmemd`, or the GPU version of `pmemd` called `pmemd.cuda` if you have access to our Amber software. Just change `sander` to your desired MD engine.\n",
    "```\n",
    "\n",
    "Run each step in sequential order, starting with minimization.\n",
    "\n",
    "::::{tab-set}\n",
    ":::{tab-item} Step 1 - Minimization\n",
    "```bash\n",
    "sander -O -i min.in -p step3_pbcsetup.parm7 -c step3_pbcsetup.rst7 -o min.out -r min.ncrst -inf min.mdinfo\n",
    "```\n",
    ":::\n",
    "::::{tab-item} Step 2 - Heating\n",
    ":::\n",
    "```bash\n",
    "sander -O -i heat.in -p step3_pbcsetup.parm7 -c min.ncrst -o heat.out -r heat.ncrst -inf heat.mdinfo -x heat.nc\n",
    "```\n",
    ":::\n",
    "::::{tab-item} Step 3 - Production MD\n",
    ":::\n",
    "```bash\n",
    "sander -O -i prod.in -p step3_pbcsetup.parm7 -c heat.ncrst -o prod.out -r prod.ncrst -inf prod.mdinfo -x prod.nc\n",
    "```\n",
    ":::\n",
    "::::\n",
    "\n",
    "\n",
    "## Conclusion\n",
    "\n",
    "Now you can visual the results with VMD or Chimera, and perform some analysis."
   ]
  },
  {
   "cell_type": "code",
   "execution_count": null,
   "id": "1d1233c1-c9d3-44c7-9085-680209f355c8",
   "metadata": {},
   "outputs": [],
   "source": []
  }
 ],
 "metadata": {
  "kernelspec": {
   "display_name": "Python 3 (ipykernel)",
   "language": "python",
   "name": "python3"
  },
  "language_info": {
   "codemirror_mode": {
    "name": "ipython",
    "version": 3
   },
   "file_extension": ".py",
   "mimetype": "text/x-python",
   "name": "python",
   "nbconvert_exporter": "python",
   "pygments_lexer": "ipython3",
   "version": "3.10.10"
  }
 },
 "nbformat": 4,
 "nbformat_minor": 5
}
