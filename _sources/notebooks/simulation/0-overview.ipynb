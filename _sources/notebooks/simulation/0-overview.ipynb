{
 "cells": [
  {
   "cell_type": "markdown",
   "id": "25156711-a1f0-43d3-867a-a178d2b39e91",
   "metadata": {
    "editable": true,
    "slideshow": {
     "slide_type": ""
    },
    "tags": []
   },
   "source": [
    "# Molecular Simulations"
   ]
  },
  {
   "cell_type": "markdown",
   "id": "eb6d8eac-8c44-42eb-a928-c6866612cad1",
   "metadata": {
    "editable": true,
    "slideshow": {
     "slide_type": ""
    },
    "tags": []
   },
   "source": [
    "## Introduction\n",
    "\n",
    "Before you run any simulation, consider the following:\n",
    "\n",
    "- What is your scientific question?\n",
    "- Can your hypothesis be tested with MD?\n",
    "- Is there experimental evidence for the property you're investigating?\n",
    "- What timescale is the property you're testing for?\n",
    "\n",
    "General steps of running molecular dynamics (MD) simulations are shown below. However, consider the following questions before running you systems should be:\n",
    "\n",
    "1. System Preparations\n",
    "     - What ions or molecules are in your system?\n",
    "     - Is the force field for each type of ion/molecule sufficient?\n",
    "     - What protonation states are your titratable residues?\n",
    "2. Equilibrate the System\n",
    "    - What is the target environmental conditions for your system?\n",
    "    - Is temperature, pressure, and/or the energy of the sytem stable? \n",
    "3. Production Simulations \n",
    "    - How long do you need your simulation?\n",
    "4. Analysis of Trajectories\n",
    "    - What property of the system addresses your hypothesis?"
   ]
  },
  {
   "cell_type": "markdown",
   "id": "96420e0f-f4b9-4f28-a78d-70c0b7f22ef7",
   "metadata": {},
   "source": [
    "## PDB Files\n",
    "\n",
    "### Background\n",
    "\n",
    "Before starting any simulation, we need a structure. Protein structures are deposited to the PDB data bank as `.pdb` files. \n",
    "\n",
    "### PDBs - Protein Data Bank\n",
    "\n",
    "These are files which contain atomic coordinates and other information which descripes biological molecules. Structural biologist use experimental methods such as X-ray crystallography, Nuclear Magnetic Resonace spectroscopy, and Cryo-electron microscopy to determine the location of atoms in the structure. The information is then deposited to a [PDB data bank](https://www.rcsb.org)."
   ]
  },
  {
   "cell_type": "code",
   "execution_count": null,
   "id": "46da9f54-791c-42d2-a05b-25d938546032",
   "metadata": {},
   "outputs": [],
   "source": []
  }
 ],
 "metadata": {
  "kernelspec": {
   "display_name": "Python 3 (ipykernel)",
   "language": "python",
   "name": "python3"
  },
  "language_info": {
   "codemirror_mode": {
    "name": "ipython",
    "version": 3
   },
   "file_extension": ".py",
   "mimetype": "text/x-python",
   "name": "python",
   "nbconvert_exporter": "python",
   "pygments_lexer": "ipython3",
   "version": "3.10.10"
  }
 },
 "nbformat": 4,
 "nbformat_minor": 5
}
