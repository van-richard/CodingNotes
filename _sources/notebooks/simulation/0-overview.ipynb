{
 "cells": [
  {
   "cell_type": "markdown",
   "id": "eb6d8eac-8c44-42eb-a928-c6866612cad1",
   "metadata": {
    "editable": true,
    "slideshow": {
     "slide_type": ""
    },
    "tags": []
   },
   "source": [
    "# Simulations\n",
    "\n",
    "Before you run any simulation, consider the following:\n",
    "\n",
    "- What is your scientific question?\n",
    "- Can your hypothesis be tested with MD?\n",
    "- Is there experimental evidence for the property you're investigating?\n",
    "- What timescale is the property you're testing for?\n",
    "\n",
    "General steps of running molecular dynamics (MD) simulations are shown below. However, consider the following questions before running you systems should be:\n",
    "\n",
    "1. System Preparations\n",
    "     - What ions or molecules are in your system?\n",
    "     - Is the force field for each type of ion/molecule sufficient?\n",
    "     - What protonation states are your titratable residues?\n",
    "2. Equilibrate the System\n",
    "    - What is the target environmental conditions for your system?\n",
    "    - Is temperature, pressure, and/or the energy of the sytem stable? \n",
    "3. Production Simulations \n",
    "    - How long do you need your simulation?\n",
    "4. Analysis of Trajectories\n",
    "    - What property of the system addresses your hypothesis?"
   ]
  },
  {
   "cell_type": "markdown",
   "id": "96420e0f-f4b9-4f28-a78d-70c0b7f22ef7",
   "metadata": {
    "editable": true,
    "slideshow": {
     "slide_type": ""
    },
    "tags": []
   },
   "source": [
    "## Protein Structure\n",
    "\n",
    "### Background\n",
    "\n",
    "Before starting any simulation, we need a structure. Protein structures are deposited to the PDB data bank as `.pdb` files. \n",
    "\n",
    "### PDBs - Protein Data Bank\n",
    "\n",
    "These are files which contain atomic coordinates and other information which descripes biological molecules. Structural biologist use experimental methods such as X-ray crystallography, Nuclear Magnetic Resonace spectroscopy, and Cryo-electron microscopy to determine the location of atoms in the structure. The information is then deposited to a [PDB data bank (RCSB)](https://www.rcsb.org).\n",
    "\n",
    "For more information, please refer to the following resource:\n",
    "\n",
    "[PDB 101](https://pdb101.rcsb.org/learn/guide-to-understanding-pdb-data/introduction#:~:text=A%20typical%20PDB%20formatted%20file,the%20atoms%20and%20their%20coordinates.)\n",
    "\n",
    "> \"The primary information stored in the PDB archive consists of coordinate files for biological molecules. These files list the atoms in each protein, and their 3D location in space. These files are available in several formats (PDB, mmCIF, XML). A typical PDB formatted file includes a large \"header\" section of text that summarizes the protein, citation information, and the details of the structure solution, followed by the sequence and a long list of the atoms and their coordinates. The archive also contains the experimental observations that are used to determine these atomic coordinates.\"\n",
    "\n"
   ]
  },
  {
   "cell_type": "markdown",
   "id": "8413d4e1-b1b6-43f8-8ba5-d66366127eda",
   "metadata": {
    "editable": true,
    "slideshow": {
     "slide_type": ""
    },
    "tags": []
   },
   "source": [
    "## Types of Simulations\n",
    "\n",
    "### Classical Mechanics\n",
    "\n",
    "Molecular dynamic (MD) simulations uses classical Newtonian mechanics to describe the motions of atoms and molecules\n",
    "\n",
    "These simulations involve:\n",
    "\n",
    "- Explicit a particles (atoms, ions)\n",
    "- Particles interact via relatively simple analytical potential (i.e. *force field*)\n",
    "- Newton’s equations of motion are integrated for all particles simultaneously\n",
    "- Hundreds to millions of particles depending on model\n",
    "- Simulation time could be from 10 ps to 1 μs depending on model (typically ns\n",
    "\n",
    "Energy is:\n",
    "\n",
    "$$\n",
    "E_{total} = E_{bonded} + E_{nonbonded}\n",
    "$$\n",
    "\n",
    "The bonded and nonbonded terms are:\n",
    "\n",
    "$$\n",
    "E_{total} = E_{bonds} + E_{angles} + E_{torsion} + E_{vDW} + E_{Coulomb}\n",
    "$$\n",
    "\n",
    "and each energy contribution term has a potential function, for example, the van der waals term $E_{vDW}$ is defined by the Lennard-Jones potential:\n",
    "\n",
    "$$\n",
    "E_{vDW} = 4\\epsilon  \\left[ (\\frac{\\sigma}{r})^{12} - (\\frac{\\sigma}{r})^{6} \\right]\n",
    "$$\n",
    "\n",
    "The potential functions have preset bonding arrangements, therefore, classical MD on its own cannot be used to model chemical reactions.  \n",
    "\n",
    "A MD simulation generates a sequence of configurations phase space connected by time. These is called a *trajectoy* of all particles in the system as a function of time. Time averages and other properties can be calculated from a trajectory.\n",
    "\n",
    "### Quantum Mechanics\n",
    "\n",
    "Quantum mechanical (QM) methods more accurately describe the behavior of the electrons in atoms and molecules and can model chemistry -- the making and breaking of chemical bond. We do this by solving the Schrodinger equation:\n",
    "\n",
    "$$\n",
    "\\hat{H} \\Psi = E \\Psi\n",
    "$$\n",
    "\n",
    "Hatree-Fock, basis sets, semi-empirical methods, density functional theory, MP2, coupled cluster theory"
   ]
  },
  {
   "cell_type": "code",
   "execution_count": null,
   "id": "72eb450c-5240-4e73-aee0-b0097486f691",
   "metadata": {
    "editable": true,
    "slideshow": {
     "slide_type": ""
    },
    "tags": []
   },
   "outputs": [],
   "source": []
  },
  {
   "cell_type": "code",
   "execution_count": null,
   "id": "cdc855d5-65a4-4fc6-a632-8bbbae09707f",
   "metadata": {},
   "outputs": [],
   "source": []
  },
  {
   "cell_type": "code",
   "execution_count": null,
   "id": "87b1ffac-6f11-44e6-923d-1af4986a8278",
   "metadata": {},
   "outputs": [],
   "source": []
  }
 ],
 "metadata": {
  "kernelspec": {
   "display_name": "Python 3 (ipykernel)",
   "language": "python",
   "name": "python3"
  },
  "language_info": {
   "codemirror_mode": {
    "name": "ipython",
    "version": 3
   },
   "file_extension": ".py",
   "mimetype": "text/x-python",
   "name": "python",
   "nbconvert_exporter": "python",
   "pygments_lexer": "ipython3",
   "version": "3.10.10"
  }
 },
 "nbformat": 4,
 "nbformat_minor": 5
}
