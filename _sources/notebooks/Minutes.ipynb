{
 "cells": [
  {
   "cell_type": "markdown",
   "id": "ff5efeea-4379-43fd-a210-401bfbf779c1",
   "metadata": {},
   "source": [
    "# Minutes\n",
    "\n",
    "(I hope this is a less than 5 minute read)"
   ]
  },
  {
   "cell_type": "markdown",
   "id": "c27d7334-d2ee-46fc-946f-3c765d42f67c",
   "metadata": {},
   "source": [
    "### Terminal and the Command Line\n",
    "\n",
    "A terminal is just a text-based interface to your computer. If you have MacOS, then this is the `Terminal` app that is already installed on your computer. If you have a Windows machine, then you have a similar interface called `Command Prompt`. \n",
    "\n",
    "**NOTE TO WINDOW'S USERS:** Depending on which version of Windows you have, you will need to activate WSL and install the `Ubuntu` app. I will write a [tutorial]() to show you how to do this.. soon..\n",
    "\n",
    "### Unix/Linux\n",
    "\n",
    "Like Windows and MacOS, Linux is just a operating system. However, Linux is open-source, allowing the user the freedom to run any program, study the how the program works, make changes to the program, redistribute copies of modiciation. It is community driven, 'by the people, for the people' (lol). There are several distributions available, in other words, there are different flavors of linux systems depending on your \"tech\" tastes. Some popular distributions you might have heard are linux mint, debian, ubuntu, and fedora. For supercomputing clusters, you will often find them running Red Hat Enterprise Linux, Ubuntu Server, CentOS, or SUSE Enterprise Linus distributions.\n",
    "\n",
    "Unix is very similar to Linux, in that it is a modular OS made up of kernals, shell, etc. A shell could be the terminal I mentioned earlier, an example of Unix system is MacOS.\n",
    "\n",
    "### Bash\n",
    "\n",
    "Bash is Unix shell and command language. It was the default login shell for most Linux distributions. Most of use in this lab use Bash, but there are other shells available like `zsh`, `tcsh`, or `csh`. Bash is a command processor that will run in your Terminal. You give Bash a command, and it will execute it for you.\n",
    "\n",
    "### SSH/Slurm\n",
    "\n",
    "SSH stands for  Secure Shell or Secure Socket Shell. It is a network protocol that gives users, a secure way to access a computer over an unsecure network (WiFi). SSH is a suite of utilities that implement a SSH protocol such as strong password authentication, public key authentication, and encrypted communication between 2 computers connecting over an open network (internet). We use SSH to log into Schooner or Pete (our supercomputers) from our personal laptops.\n",
    "\n",
    "Slurm is an open-source cluster management system. Slurm is often used in high performance super computing centers to mange jobs. Slurm will have its own set of command which we will discuss later.\n",
    "\n",
    "### Git/Github\n",
    "\n",
    "Git is a free and open source version control system designed to manage coding projects. Github is a web-based hosting serice for git repositories (a place where you store data, files, resources). Aside from manging coding projects, we use Github to keep our presentations, papers, and other lab management things. Github is just a website, whereas git is a command in your Bash Terminal. Git will come with its own set of commands which we will discuss later.\n"
   ]
  },
  {
   "cell_type": "markdown",
   "id": "6f7082ef-adc9-4204-b192-2aad7d895ecb",
   "metadata": {},
   "source": [
    "## Visualization Software\n",
    "\n",
    "### IQmol\n",
    "\n",
    "[IQmol Download](http://iqmol.org)\n",
    "\n",
    "> \"IQmol is a free open-source molecular editor and visualization package. It offers a range of features including a molecular editor, surface generation (orbitals and densities) and animations (vibrational modes and reaction pathways).\"\n",
    "\n",
    "### Chimera/ChimeraX\n",
    "\n",
    "[Chimera/ChimeraX Download](https://www.cgl.ucsf.edu/chimerax/)\n",
    "\n",
    "> \"UCSF ChimeraX (or simply ChimeraX) is the next-generation molecular visualization program from the Resource for Biocomputing, Visualization, and Informatics (RBVI), following UCSF Chimera. ChimeraX can be downloaded free of charge for academic, government, nonprofit, and personal use. Commercial users, please see ChimeraX commercial licensing.\"\n",
    "\n",
    "### VMD\n",
    "\n",
    "[VMD Download](https://www.ks.uiuc.edu/Research/vmd/)\n",
    "\n",
    "> \"VMD is a molecular visualization program for displaying, animating, and analyzing large biomolecular systems using 3-D graphics and built-in scripting. VMD supports computers running MacOS X, Unix, or Windows, is distributed free of charge, and includes source code.\""
   ]
  },
  {
   "cell_type": "markdown",
   "id": "0b649765-3955-463e-b233-2044cd1ac162",
   "metadata": {},
   "source": [
    "## What is Python? Conda?\n",
    "\n",
    "> \"Python is an interpreted, object-oriented, high-level programming language with dynamic semantics. Its high-level built in data structures, combined with dynamic typing and dynamic binding, make it very attractive for Rapid Application Development, as well as for use as a scripting or glue language to connect existing components together. Python's simple, easy to learn syntax emphasizes readability and therefore reduces the cost of program maintenance. Python supports modules and packages, which encourages program modularity and code reuse. The Python interpreter and the extensive standard library are available in source or binary form without charge for all major platforms, and can be freely distributed.\"\n",
    "\n",
    "> \"Conda is an open source package management system and environment management system that runs on Windows, macOS, and Linux. Conda quickly installs, runs and updates packages and their dependencies. Conda easily creates, saves, loads and switches between environments on your local computer. It was created for Python programs, but it can package and distribute software for any language.\""
   ]
  },
  {
   "cell_type": "markdown",
   "id": "abf072a0-9e98-464b-9ecc-56bd69695834",
   "metadata": {},
   "source": [
    "## What is computational chemistry?"
   ]
  }
 ],
 "metadata": {
  "kernelspec": {
   "display_name": "Python 3 (ipykernel)",
   "language": "python",
   "name": "python3"
  },
  "language_info": {
   "codemirror_mode": {
    "name": "ipython",
    "version": 3
   },
   "file_extension": ".py",
   "mimetype": "text/x-python",
   "name": "python",
   "nbconvert_exporter": "python",
   "pygments_lexer": "ipython3",
   "version": "3.10.10"
  }
 },
 "nbformat": 4,
 "nbformat_minor": 5
}
