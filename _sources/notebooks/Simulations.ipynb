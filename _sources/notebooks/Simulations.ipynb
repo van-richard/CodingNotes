{
 "cells": [
  {
   "cell_type": "markdown",
   "id": "eb6d8eac-8c44-42eb-a928-c6866612cad1",
   "metadata": {
    "editable": true,
    "slideshow": {
     "slide_type": ""
    },
    "tags": []
   },
   "source": [
    "# Molecular Dynamics\n",
    "\n",
    "## Overview\n",
    "\n",
    "Before you run any simulation, consider the following questions:\n",
    "\n",
    "- What is your scientific question?\n",
    "- Can your hypothesis be tested with MD?\n",
    "- Is there experimental evidence for the property you're investigating?\n",
    "- What timescale is the property you're testing for?\n",
    "\n",
    "General steps of running molecular dynamics (MD) simulations are shown below. However, consider the following questions before running you systems should be:\n",
    "\n",
    "1. System Preparations\n",
    "     - What ions or molecules are in your system?\n",
    "     - Is the force field for each type of ion/molecule sufficient?\n",
    "     - What protonation states are your titratable residues?\n",
    "2. Equilibrate the System\n",
    "    - What is the target environmental conditions for your system?\n",
    "    - Is temperature, pressure, and/or the energy of the sytem stable? \n",
    "3. Production Simulations \n",
    "    - How long do you need your simulation?\n",
    "4. Analysis of Trajectories\n",
    "    - What property of the system addresses your hypothesis?"
   ]
  },
  {
   "cell_type": "markdown",
   "id": "8413d4e1-b1b6-43f8-8ba5-d66366127eda",
   "metadata": {
    "editable": true,
    "slideshow": {
     "slide_type": ""
    },
    "tags": []
   },
   "source": [
    "### Types of Simulations\n",
    "\n",
    "#### Classical Mechanics\n",
    "\n",
    "Molecular dynamic (MD) simulations uses classical Newtonian mechanics to describe the motions of atoms and molecules\n",
    "\n",
    "These simulations involve:\n",
    "\n",
    "- Explicit a particles (atoms, ions)\n",
    "- Particles interact via relatively simple analytical potential (i.e. *force field*)\n",
    "- Newton’s equations of motion are integrated for all particles simultaneously\n",
    "- Hundreds to millions of particles depending on model\n",
    "- Simulation time could be from 10 ps to 1 μs depending on model (typically ns\n",
    "\n",
    "Energy is:\n",
    "\n",
    "$$\n",
    "E_{total} = E_{bonded} + E_{nonbonded}\n",
    "$$\n",
    "\n",
    "The bonded and nonbonded terms are:\n",
    "\n",
    "$$\n",
    "E_{total} = E_{bonds} + E_{angles} + E_{torsion} + E_{vDW} + E_{Coulomb}\n",
    "$$\n",
    "\n",
    "and each energy contribution term has a potential function, for example, the van der waals term $E_{vDW}$ is defined by the Lennard-Jones potential:\n",
    "\n",
    "$$\n",
    "E_{vDW} = 4\\epsilon  \\left[ (\\frac{\\sigma}{r})^{12} - (\\frac{\\sigma}{r})^{6} \\right]\n",
    "$$\n",
    "\n",
    "The potential functions have preset bonding arrangements, therefore, classical MD on its own cannot be used to model chemical reactions.  \n",
    "\n",
    "A MD simulation generates a sequence of configurations phase space connected by time. These is called a *trajectoy* of all particles in the system as a function of time. Time averages and other properties can be calculated from a trajectory.\n",
    "\n",
    "#### Quantum Mechanics\n",
    "\n",
    "Quantum mechanical (QM) methods more accurately describe the behavior of the electrons in atoms and molecules and can model chemistry -- the making and breaking of chemical bond. We do this by solving the Schrodinger equation:\n",
    "\n",
    "$$\n",
    "\\hat{H} \\Psi = E \\Psi\n",
    "$$\n",
    "\n",
    "Hatree-Fock, basis sets, semi-empirical methods, density functional theory, MP2, coupled cluster theory"
   ]
  },
  {
   "cell_type": "code",
   "execution_count": null,
   "id": "d6aab866-d857-47ef-8144-6f8cc8824162",
   "metadata": {},
   "outputs": [],
   "source": []
  }
 ],
 "metadata": {
  "kernelspec": {
   "display_name": "Python 3 (ipykernel)",
   "language": "python",
   "name": "python3"
  },
  "language_info": {
   "codemirror_mode": {
    "name": "ipython",
    "version": 3
   },
   "file_extension": ".py",
   "mimetype": "text/x-python",
   "name": "python",
   "nbconvert_exporter": "python",
   "pygments_lexer": "ipython3",
   "version": "3.10.10"
  }
 },
 "nbformat": 4,
 "nbformat_minor": 5
}
