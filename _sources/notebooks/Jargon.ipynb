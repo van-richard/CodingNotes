{
 "cells": [
  {
   "cell_type": "markdown",
   "id": "ff5efeea-4379-43fd-a210-401bfbf779c1",
   "metadata": {},
   "source": [
    "# Learn the Jargon"
   ]
  },
  {
   "cell_type": "markdown",
   "id": "989185b5-1aaa-4d7a-bbee-c38903a67963",
   "metadata": {},
   "source": [
    "## What is a Computer?\n",
    "\n",
    "### Unix/Linux\n",
    "\n",
    "Like Windows and MacOS, Linux is just a operating system. However, Linux is open-source, allowing the user the freedom to run any program, study the how the program works, make changes to the program, redistribute copies of modiciation. It is community driven, 'by the people, for the people' (lol). There are several distributions available, in other words, there are different flavors of linux systems depending on your \"tech\" tastes. Some popular distributions you might have heard are linux mint, debian, ubuntu, and fedora. For supercomputing clusters, you will often find them running Red Hat Enterprise Linux, Ubuntu Server, CentOS, or SUSE Enterprise Linus distributions.\n",
    "\n",
    "Unix is very similar to Linux, in that it is a modular OS made up of kernals, shell, etc. A shell could be the terminal I mentioned earlier, an example of Unix system is MacOS."
   ]
  },
  {
   "cell_type": "markdown",
   "id": "f1ef9f32-bce2-4be8-a763-449ee73ba2ac",
   "metadata": {},
   "source": [
    "### Terminal and the Command Line\n",
    "\n",
    "A terminal is just a text-based interface to your computer. If you have MacOS, then this is the `Terminal` app that is already installed on your computer. If you have a Windows machine, then you have a similar interface called `Command Prompt`. \n",
    "\n",
    "**NOTE TO WINDOW'S USERS:** Depending on which version of Windows you have, you will need to activate WSL and install the `Ubuntu` app. Someday, I will write a tutorial to show you how to do this.."
   ]
  },
  {
   "cell_type": "markdown",
   "id": "10526cdf-56e3-4ee7-9807-a33aa7860302",
   "metadata": {},
   "source": [
    "### Bash\n",
    "\n",
    "`Bash` is Unix shell and command language. It was the default login shell for most Linux distributions. Most of use in this lab use Bash, but there are other shells available like `zsh`, `tcsh`, or `csh`. `Bash` is a command processor that will run in your Terminal. You give Bash a command, and it will execute it for you. More is discussed [here](https://van-richard.github.io/CodingNotes/notebooks/commandline/bash.html)"
   ]
  },
  {
   "cell_type": "markdown",
   "id": "a80e6c41-2e3c-4563-8d20-b7cbb0deb26a",
   "metadata": {},
   "source": [
    "## Supercomputers\n",
    "\n",
    "### Overview\n",
    "\n",
    "Supercomputers or high-performance computing clusters is where we perform most of our calculations.\n",
    "\n",
    "In Oklahoma, we have access to:\n",
    "\n",
    "1. [Oscer, OU's supercomputer](https://www.ou.edu/oscer)\n",
    "2. [Pete, OSU's supercomputer](https://hpcc.okstate.edu/pete-supercomputer.html)\n",
    "\n",
    "At OU, the supercomputer's name can be Oscer or Schooner. I've heard people use this interchangably.\n",
    "\n",
    "`ssh` is the command is we use to log into a computer over the internet. Tips are discussed [here](https://van-richard.github.io/CodingNotes/notebooks/commandline/ssh.html)\n",
    "\n",
    "Slurm is the cluster management system used on high-performance clusters (HPC) such as the Oscer or Pete supercomputers. Slurm will come with its own set of commands discussed [here](https://van-richard.github.io/CodingNotes/notebooks/commandline/slurm.html)\n",
    "\n",
    "#### SSH\n",
    "\n",
    "SSH stands for \"Secure Shell\" or \"Secure Socket Shell\". It is a network protocol that gives users, a secure way to access a computer over an unsecure network (WiFi). SSH is a suite of utilities that implement a SSH protocol such as strong password authentication, public key authentication, and encrypted communication between 2 computers connecting over an open network (internet). We use SSH to log into Schooner or Pete (our supercomputers) from our personal laptops.\n",
    "\n",
    "#### Slurm\n",
    "\n",
    "Slurm is an open-source cluster management system. Slurm is often used in high performance super computing centers to mange jobs."
   ]
  },
  {
   "cell_type": "markdown",
   "id": "c9f8aa75-0b74-451f-94b2-fe7e463b8b7c",
   "metadata": {},
   "source": [
    "## Git/Github\n",
    "\n",
    "### Overview\n",
    "\n",
    "**Git** is a free and open source version control system designed to manage coding projects.\n",
    "\n",
    "**[GitHub](https://www.github.com)** is a web-based hosting serice for git repositories (a place where you store data, files, resources). \n",
    "\n",
    "Aside from manging coding projects with `git`, we use Github to store our presentations, papers, and other lab management things. *Github is just a website, whereas `git` is a command in your `Bash` terminal.* Git will come with its own set of commands which we will discuss [here](https://van-richard.github.io/CodingNotes/notebooks/commandline/git.html)."
   ]
  },
  {
   "cell_type": "markdown",
   "id": "6f7082ef-adc9-4204-b192-2aad7d895ecb",
   "metadata": {},
   "source": [
    "## Visualization Softwares\n",
    "\n",
    "### Overview\n",
    "\n",
    "There are a plethora of molecular visualization softwares you can find on the internet. Depending on your focus, there will only be a handful which you will use in your day to day. I use the following:\n",
    "\n",
    "- [IQmol](http://iqmol.org)\n",
    "- [ChimeraX](https://www.cgl.ucsf.edu/chimerax/) \n",
    "- [VMD]( https://www.ks.uiuc.edu/Research/vmd/)\n",
    "- [ChemDraw](https://connect.revvitysignals.com/sitesubscription/Gallery.aspx)\n",
    "- [Schrodinger Maestro](https://www.schrodinger.com/products/maestro)\n",
    "\n",
    "### IQmol\n",
    "\n",
    "For modelling/visualizing small molecues. You can even run short QChem jobs with this.\n",
    "\n",
    "[IQmol Download](http://iqmol.org)\n",
    "\n",
    "> \"IQmol is a free open-source molecular editor and visualization package. It offers a range of features including a molecular editor, surface generation (orbitals and densities) and animations (vibrational modes and reaction pathways).\"\n",
    "\n",
    "### Chimera/ChimeraX\n",
    "\n",
    "For modelling/visualizing protein structures from the protein data bank. \n",
    "\n",
    "Chimera for docking studies, whereas ChimeraX is for figures and videos.\n",
    "\n",
    "[Chimera/ChimeraX Download](https://www.cgl.ucsf.edu/chimerax/)\n",
    "\n",
    "> \"UCSF ChimeraX (or simply ChimeraX) is the next-generation molecular visualization program from the Resource for Biocomputing, Visualization, and Informatics (RBVI), following UCSF Chimera. ChimeraX can be downloaded free of charge for academic, government, nonprofit, and personal use. Commercial users, please see ChimeraX commercial licensing.\"\n",
    "\n",
    "### VMD\n",
    "\n",
    "Visualization and movie making of Molecular Dynamics trajectories.\n",
    "\n",
    "[VMD Download](https://www.ks.uiuc.edu/Research/vmd/)\n",
    "\n",
    "> \"VMD is a molecular visualization program for displaying, animating, and analyzing large biomolecular systems using 3-D graphics and built-in scripting. VMD supports computers running MacOS X, Unix, or Windows, is distributed free of charge, and includes source code.\"\n",
    "\n",
    "### ChemDraw\n",
    "\n",
    "### Shrodinger Maestro"
   ]
  },
  {
   "cell_type": "markdown",
   "id": "0b649765-3955-463e-b233-2044cd1ac162",
   "metadata": {},
   "source": [
    "## What is Python? Conda?\n",
    "\n",
    "### Overview\n",
    "\n",
    "Python is a programming language.\n",
    "\n",
    "Conda is a software used to manage Python.\n",
    "\n",
    "### Python\n",
    "\n",
    "Python is a high-level, interpreted programming language known for its simplicity and readability. It was created by Guido van Rossum and first released in 1991. Python is widely used in various fields, including web development (this website), data analysis, artificial intelligence, scientific computing, and more.\n",
    "\n",
    "Some reasons why Python has grown in popularity include:\n",
    "\n",
    "1. **Readability:** Python's syntax is designed to be clear and easy to read, which makes it an excellent choice for beginners and experienced programmers alike. It uses indentation (whitespace) to define code blocks, which enforces a consistent and clean code style.\n",
    "2. **Interpreted:** Python is an interpreted language, meaning that you don't need to compile your code before running it. The Python interpreter reads your code line by line and executes it, which can speed up development.\n",
    "3. **Extensive Standard Library:** Python comes with a vast standard library that provides modules and functions for a wide range of tasks. This library simplifies many common programming tasks, such as working with files, networking, and more.\n",
    "4. **Object-Oriented:** Python supports object-oriented programming (OOP) principles, including classes and inheritance, making it suitable for building complex and organized software projects.\n",
    "5. **Community and Ecosystem:** Python has a large and active community of developers who contribute to its growth. This community has created a vast ecosystem of third-party libraries and frameworks, such as Django for web development, NumPy for scientific computing, and TensorFlow for machine learning.\n",
    "6. **Open Source:** Python is open-source, which means it's freely available, and its source code can be modified and redistributed, fostering collaboration and innovation.\n",
    "\n",
    "There are many other reasons, but for the laymen, this pretty much sums it up!\n",
    "\n",
    "### Conda\n",
    "\n",
    "> \"When I say Conda, this implies the use of Anaconda, Miniconda, and/or Miniforge.\"\n",
    "\n",
    "When I say \"Conda,\" what I mean are the programs, **Anaconda, Miniconda, and/or Miniforge**. They are all software tools and distributions commonly used for *managing and working with Python.* \n",
    "\n",
    "1. **Anaconda:** A comprehensive Python distribution that comes with a wide range of pre-installed data science and scientific computing packages. It's designed to simplify the installation and management of packages commonly used in data analysis, machine learning, and scientific research.\n",
    "\n",
    "    **Features:**\n",
    "    - A graphical user interface called Anaconda Navigator for managing packages and environments.\n",
    "    - A package manager called conda for installing, updating, and managing Python packages and environments.\n",
    "    - Includes popular packages like NumPy, Pandas, Matplotlib, scikit-learn, Jupyter Notebook, and many others.\n",
    "    - Cross-platform (works on Windows, macOS, and Linux).\n",
    "    \n",
    "    Anaconda is suitable for users who want a hassle-free way to set up a Python environment with all the necessary data science tools and libraries.\n",
    "\n",
    "2. **Miniconda:** A minimalistic version of Anaconda. Instead of including a large set of pre-installed packages, Miniconda provides you with a minimal Python and conda installation. You can then choose which packages to install according to your specific needs.\n",
    "\n",
    "   **Features:**\n",
    "    - Lightweight and customizable.\n",
    "    - Allows you to create and manage isolated Python environments using conda.\n",
    "    - Provides the flexibility to build a custom environment tailored to your project requirements.\n",
    "    \n",
    "    Miniconda is ideal for users who want more control over their Python environment and prefer to install packages individually based on their project's requirements.\n",
    "\n",
    "4. **Miniforge:** Similar to Miniconda but is specifically designed for users who want to work with the conda package manager and Python environments in a simplified and lightweight way. It's built on top of Conda-Forge, a community-driven collection of conda packages.\n",
    "\n",
    "   **Features:**\n",
    "    - Simplifies the installation and management of Python packages using conda.\n",
    "    - Provides a streamlined and efficient package management experience.\n",
    "    - Compatible with Conda-Forge packages, which often include a broader range of community-contributed packages compared to Anaconda's default repository.\n",
    "\n",
    "    Miniforge is suitable for users who prefer a minimalistic conda setup and access to a broad range of community-contributed packages."
   ]
  },
  {
   "cell_type": "markdown",
   "id": "abf072a0-9e98-464b-9ecc-56bd69695834",
   "metadata": {},
   "source": [
    "## What is computational chemistry?\n",
    "\n",
    "What is it? What do we do? What are the questions, and insights?"
   ]
  },
  {
   "cell_type": "code",
   "execution_count": null,
   "id": "0da109e8-a363-4cd6-a503-f3244df411f7",
   "metadata": {},
   "outputs": [],
   "source": []
  }
 ],
 "metadata": {
  "kernelspec": {
   "display_name": "Python 3 (ipykernel)",
   "language": "python",
   "name": "python3"
  },
  "language_info": {
   "codemirror_mode": {
    "name": "ipython",
    "version": 3
   },
   "file_extension": ".py",
   "mimetype": "text/x-python",
   "name": "python",
   "nbconvert_exporter": "python",
   "pygments_lexer": "ipython3",
   "version": "3.10.10"
  }
 },
 "nbformat": 4,
 "nbformat_minor": 5
}
