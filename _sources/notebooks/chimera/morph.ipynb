{
 "cells": [
  {
   "cell_type": "markdown",
   "id": "9c9d68b4-9257-4e57-a557-395ac13773fe",
   "metadata": {},
   "source": [
    "# Morphing"
   ]
  },
  {
   "cell_type": "code",
   "execution_count": 4,
   "id": "3506e8e0-2517-4ab3-86de-4ce3ad4ab408",
   "metadata": {},
   "outputs": [
    {
     "data": {
      "text/html": [
       "<img src=\"../../_static/chimerax_morph_fncas12a.mp4\" width=\"50%\" height=\"50%\" align=\"center\"/>"
      ],
      "text/plain": [
       "<IPython.core.display.HTML object>"
      ]
     },
     "execution_count": 4,
     "metadata": {},
     "output_type": "execute_result"
    }
   ],
   "source": [
    "from IPython.display import HTML\n",
    "html = '<img src=\"../../_static/chimerax_morph_fncas12a.mp4\" width=\"50%\" height=\"50%\" align=\"center\"/>'\n",
    "HTML(html)"
   ]
  },
  {
   "cell_type": "markdown",
   "id": "a526829b-fbb6-4c37-ae8b-0c42f001b681",
   "metadata": {},
   "source": [
    "## Morphing transition between 2 PDB structures\n",
    "\n",
    "Note: You must align the structures before morphing.\n",
    "\n",
    "*Morph between 2 PDB structures of FnCas12a (PDB 6GTG to 6I1K)*\n",
    "\n",
    "The code looks like:\n",
    "\n",
    "```\n",
    "morph #1,2,3,4,5 frames 100\n",
    "```\n",
    "\n",
    "### Example\n",
    "\n",
    "Open 2 PDB files for FnCas12a.\n",
    "\n",
    "```\n",
    "open 6i1k 6gtg\n",
    "```\n",
    "\n",
    "Align the two structures.\n",
    "\n",
    "```\n",
    "match #2 to #1\n",
    "```\n",
    "\n",
    "Morph transition is done by: \n",
    "\n",
    "```\n",
    "morph #1,2,3,4,5 frames 100\n",
    "```"
   ]
  },
  {
   "cell_type": "code",
   "execution_count": null,
   "id": "4402687e-0b26-428e-b955-6aedda01be91",
   "metadata": {},
   "outputs": [],
   "source": []
  }
 ],
 "metadata": {
  "kernelspec": {
   "display_name": "Python 3 (ipykernel)",
   "language": "python",
   "name": "python3"
  },
  "language_info": {
   "codemirror_mode": {
    "name": "ipython",
    "version": 3
   },
   "file_extension": ".py",
   "mimetype": "text/x-python",
   "name": "python",
   "nbconvert_exporter": "python",
   "pygments_lexer": "ipython3",
   "version": "3.10.10"
  }
 },
 "nbformat": 4,
 "nbformat_minor": 5
}
