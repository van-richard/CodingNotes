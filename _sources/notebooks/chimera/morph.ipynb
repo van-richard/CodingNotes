{
 "cells": [
  {
   "cell_type": "markdown",
   "id": "9c9d68b4-9257-4e57-a557-395ac13773fe",
   "metadata": {
    "editable": true,
    "slideshow": {
     "slide_type": ""
    },
    "tags": []
   },
   "source": [
    "# Morphing"
   ]
  },
  {
   "cell_type": "code",
   "execution_count": 2,
   "id": "4402687e-0b26-428e-b955-6aedda01be91",
   "metadata": {
    "editable": true,
    "slideshow": {
     "slide_type": ""
    },
    "tags": []
   },
   "outputs": [
    {
     "data": {
      "text/html": [
       "<video src=\"../../_static/chimerax_morph_fncas12a.mp4\" width=\"50%\" height=\"50%\" align=\"center\"/>"
      ],
      "text/plain": [
       "<IPython.core.display.HTML object>"
      ]
     },
     "execution_count": 2,
     "metadata": {},
     "output_type": "execute_result"
    }
   ],
   "source": [
    "from IPython.display import HTML\n",
    "\n",
    "HTML(\"\"\"<video src=\"../../_static/chimerax_morph_fncas12a.mp4\" width=\"50%\" height=\"50%\" align=\"center\"/>\"\"\")"
   ]
  },
  {
   "cell_type": "markdown",
   "id": "8ef12b35-2b61-447d-b223-fd2e3afa0b6e",
   "metadata": {
    "editable": true,
    "raw_mimetype": "",
    "slideshow": {
     "slide_type": ""
    },
    "tags": []
   },
   "source": [
    "## Morphing transition between 2 PDB structures\n",
    "\n",
    "Note: You need to align the structures before morphing.\n",
    "\n",
    "\n",
    "*Morph between 2 PDB structures of FnCas12a (PDB 6GTG to 6I1K)*\n",
    "\n",
    "The code looks like this:\n",
    "\n",
    "```\n",
    "morph #1,2,3,4,5 frames 100\n",
    "```"
   ]
  },
  {
   "cell_type": "code",
   "execution_count": null,
   "id": "97e66e84-50e4-4e63-a23f-ecabc51644da",
   "metadata": {
    "editable": true,
    "slideshow": {
     "slide_type": ""
    },
    "tags": []
   },
   "outputs": [],
   "source": []
  }
 ],
 "metadata": {
  "kernelspec": {
   "display_name": "Python 3 (ipykernel)",
   "language": "python",
   "name": "python3"
  },
  "language_info": {
   "codemirror_mode": {
    "name": "ipython",
    "version": 3
   },
   "file_extension": ".py",
   "mimetype": "text/x-python",
   "name": "python",
   "nbconvert_exporter": "python",
   "pygments_lexer": "ipython3",
   "version": "3.10.10"
  }
 },
 "nbformat": 4,
 "nbformat_minor": 5
}
