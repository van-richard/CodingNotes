{
 "cells": [
  {
   "cell_type": "markdown",
   "id": "f1e29ed8-c160-4f85-a8e4-f36be1b5dc83",
   "metadata": {
    "editable": true,
    "slideshow": {
     "slide_type": ""
    },
    "tags": []
   },
   "source": [
    "# Fading "
   ]
  },
  {
   "cell_type": "code",
   "execution_count": 2,
   "id": "3285a100-38aa-4644-999c-a8c63d7c5b4c",
   "metadata": {
    "editable": true,
    "slideshow": {
     "slide_type": ""
    },
    "tags": [
     "hide-input"
    ]
   },
   "outputs": [
    {
     "data": {
      "text/html": [
       "<video src=\"../../_static/chimerax_fade_cas9.mp4\" width=\"50%\" height=\"50%\" align=\"center\"/>"
      ],
      "text/plain": [
       "<IPython.core.display.HTML object>"
      ]
     },
     "execution_count": 2,
     "metadata": {},
     "output_type": "execute_result"
    }
   ],
   "source": [
    "from IPython.display import HTML\n",
    "\n",
    "HTML(\"\"\"<video src=\"../../_static/chimerax_fade_cas9.mp4\" width=\"50%\" height=\"50%\" align=\"center\"/>\"\"\")"
   ]
  },
  {
   "cell_type": "markdown",
   "id": "241b311c-7e9e-42aa-962a-128e86a5f929",
   "metadata": {
    "editable": true,
    "slideshow": {
     "slide_type": ""
    },
    "tags": []
   },
   "source": [
    "The code looks like:\n",
    "\n",
    "```\n",
    "crossfade 48\n",
    "hide #1 ribbon,atom\n",
    "wait 48\n",
    "```\n",
    "\n",
    "One liner:\n",
    "\n",
    "```\n",
    "crossfade 48; hide #1 ribbon,atom; wait 48\n",
    "```\n",
    "\n",
    "Where:\n",
    "\n",
    "crossfade [frames] - fade for # of frames\n",
    "[action] - can be hiding ribbon, show atoms, color, etc.\n",
    "wait [frames] - wait this number of frames before executing next line"
   ]
  },
  {
   "cell_type": "code",
   "execution_count": null,
   "id": "0ae555fc-beff-4916-a5ef-26d30a170d1a",
   "metadata": {
    "editable": true,
    "slideshow": {
     "slide_type": ""
    },
    "tags": []
   },
   "outputs": [],
   "source": []
  }
 ],
 "metadata": {
  "kernelspec": {
   "display_name": "Python 3 (ipykernel)",
   "language": "python",
   "name": "python3"
  },
  "language_info": {
   "codemirror_mode": {
    "name": "ipython",
    "version": 3
   },
   "file_extension": ".py",
   "mimetype": "text/x-python",
   "name": "python",
   "nbconvert_exporter": "python",
   "pygments_lexer": "ipython3",
   "version": "3.10.10"
  }
 },
 "nbformat": 4,
 "nbformat_minor": 5
}
