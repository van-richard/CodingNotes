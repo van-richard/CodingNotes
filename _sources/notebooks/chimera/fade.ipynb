{
 "cells": [
  {
   "cell_type": "markdown",
   "id": "f1e29ed8-c160-4f85-a8e4-f36be1b5dc83",
   "metadata": {},
   "source": [
    "# Fading between Visual States"
   ]
  },
  {
   "cell_type": "markdown",
   "id": "c4aceaf5-4b69-472c-bece-56272b7797ab",
   "metadata": {},
   "source": [
    "<video src=\"../../_static/chimerax_fade_cas9.mp4\" width=\"50%\" height=\"50%\" align=\"center\"/>"
   ]
  },
  {
   "cell_type": "markdown",
   "id": "241b311c-7e9e-42aa-962a-128e86a5f929",
   "metadata": {},
   "source": [
    "The code looks like:\n",
    "\n",
    "```\n",
    "crossfade 48\n",
    "hide #1 ribbon,atom\n",
    "wait 48\n",
    "```\n",
    "\n",
    "One liner:\n",
    "\n",
    "```\n",
    "crossfade 48; hide #1 ribbon,atom; wait 48\n",
    "```\n",
    "\n",
    "Where:\n",
    "\n",
    "crossfade [frames] - fade for # of frames\n",
    "[action] - can be hiding ribbon, show atoms, color, etc.\n",
    "wait [frames] - wait this number of frames before executing next line"
   ]
  },
  {
   "cell_type": "code",
   "execution_count": null,
   "id": "0ae555fc-beff-4916-a5ef-26d30a170d1a",
   "metadata": {},
   "outputs": [],
   "source": []
  }
 ],
 "metadata": {
  "kernelspec": {
   "display_name": "Python 3 (ipykernel)",
   "language": "python",
   "name": "python3"
  },
  "language_info": {
   "codemirror_mode": {
    "name": "ipython",
    "version": 3
   },
   "file_extension": ".py",
   "mimetype": "text/x-python",
   "name": "python",
   "nbconvert_exporter": "python",
   "pygments_lexer": "ipython3",
   "version": "3.10.10"
  }
 },
 "nbformat": 4,
 "nbformat_minor": 5
}
