{
 "cells": [
  {
   "cell_type": "markdown",
   "id": "c60be1c9-06ab-4dc2-a699-f2436eed4a8b",
   "metadata": {
    "editable": true,
    "slideshow": {
     "slide_type": ""
    },
    "tags": []
   },
   "source": [
    "# Saving Images"
   ]
  },
  {
   "cell_type": "markdown",
   "id": "d8931a05-0408-42c7-9a2d-54ceea086069",
   "metadata": {},
   "source": [
    "You can save figures using the command line interface. The following example saves the display as a `.png` file. `Supersample 3` helps the quality, and `transparentBackground` removes the white background.\n",
    "\n",
    "One liner:\n",
    "\n",
    "```\n",
    "save ~/Desktop/picture.png supersample 3 transparentBackground True\n",
    "```"
   ]
  },
  {
   "cell_type": "code",
   "execution_count": null,
   "id": "8b9b684d-400a-4085-acc0-f9401331f1cf",
   "metadata": {},
   "outputs": [],
   "source": []
  }
 ],
 "metadata": {
  "kernelspec": {
   "display_name": "Python 3 (ipykernel)",
   "language": "python",
   "name": "python3"
  },
  "language_info": {
   "codemirror_mode": {
    "name": "ipython",
    "version": 3
   },
   "file_extension": ".py",
   "mimetype": "text/x-python",
   "name": "python",
   "nbconvert_exporter": "python",
   "pygments_lexer": "ipython3",
   "version": "3.10.10"
  }
 },
 "nbformat": 4,
 "nbformat_minor": 5
}
