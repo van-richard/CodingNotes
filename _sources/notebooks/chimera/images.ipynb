{
 "cells": [
  {
   "cell_type": "markdown",
   "id": "0318a3c3-499b-4c54-a138-6dcced07d3c6",
   "metadata": {},
   "source": [
    "# Saving Images\n",
    "\n",
    "### High quality PNG file.\n",
    "\n",
    "```\n",
    "save <location> supersample 3 \n",
    "```\n",
    "\n",
    "### Transparent Background\n",
    "\n",
    "```\n",
    "save <location> transparentBackground True\n",
    "```\n",
    "\n",
    "Combining Commands\n",
    "\n",
    "```\n",
    "save ~/Desktop/picture.png supersample 3 transparentBackground True\n",
    "```\n"
   ]
  },
  {
   "cell_type": "code",
   "execution_count": null,
   "id": "8b9b684d-400a-4085-acc0-f9401331f1cf",
   "metadata": {},
   "outputs": [],
   "source": []
  }
 ],
 "metadata": {
  "kernelspec": {
   "display_name": "Python 3 (ipykernel)",
   "language": "python",
   "name": "python3"
  },
  "language_info": {
   "codemirror_mode": {
    "name": "ipython",
    "version": 3
   },
   "file_extension": ".py",
   "mimetype": "text/x-python",
   "name": "python",
   "nbconvert_exporter": "python",
   "pygments_lexer": "ipython3",
   "version": "3.10.10"
  }
 },
 "nbformat": 4,
 "nbformat_minor": 5
}
