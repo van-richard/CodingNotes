{
 "cells": [
  {
   "cell_type": "markdown",
   "id": "b44a9b92-ff41-4d4c-9341-ad3d4c07c596",
   "metadata": {},
   "source": [
    "# Chimera/ChimeraX\n",
    "\n",
    "## Open PDB from RCSB\n",
    "\n",
    "On ChimeraX command line, type:\n",
    "\n",
    "```\n",
    "open *PDB_CODE*\n",
    "```\n",
    "\n",
    "Wher *PDB_CODE* is the 4-letter code from [RCSB](https://www.google.com/search?client=safari&rls=en&q=rcsb&ie=UTF-8&oe=UTF-8)\n",
    "\n",
    "## Command line is independent of model panel!\n",
    "\n",
    "Command Line Options:\n",
    "\n",
    "| Option                  | Meaning |\n",
    "| :-----                  | :------ |\n",
    "| show [model #] [ribbon, atom, etc.] | Displays the selection in ribbon, atom, etc. | \n",
    "| hide [model #] [ribbon, atom, etc.] | Hides the selection in ribbon, atom, etc. | \n",
    "| color byhetero | Colors by hetero-atom |\n",
    "| color bychain | Colors by chain |\n",
    "| color bymodel | Colors by model # |\n",
    "| split [option: model #] | Splits the model by chain |\n",
    "| sel [model, chain, residue, or atom #] | Select the model, chain, residue, or atom |\n",
    "\n"
   ]
  },
  {
   "cell_type": "code",
   "execution_count": null,
   "id": "2af4a414-635c-4521-baca-979877d3d6d3",
   "metadata": {},
   "outputs": [],
   "source": []
  }
 ],
 "metadata": {
  "kernelspec": {
   "display_name": "Python 3 (ipykernel)",
   "language": "python",
   "name": "python3"
  },
  "language_info": {
   "codemirror_mode": {
    "name": "ipython",
    "version": 3
   },
   "file_extension": ".py",
   "mimetype": "text/x-python",
   "name": "python",
   "nbconvert_exporter": "python",
   "pygments_lexer": "ipython3",
   "version": "3.10.10"
  }
 },
 "nbformat": 4,
 "nbformat_minor": 5
}
