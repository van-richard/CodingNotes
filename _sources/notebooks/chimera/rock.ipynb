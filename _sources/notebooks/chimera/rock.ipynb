{
 "cells": [
  {
   "cell_type": "markdown",
   "id": "150fd462-92be-422b-bc60-a45e79618dd5",
   "metadata": {
    "editable": true,
    "slideshow": {
     "slide_type": ""
    },
    "tags": []
   },
   "source": [
    "# Spin"
   ]
  },
  {
   "cell_type": "code",
   "execution_count": 1,
   "id": "75a384bf-a47e-4fac-b94e-38c261c95bd4",
   "metadata": {
    "editable": true,
    "raw_mimetype": "",
    "slideshow": {
     "slide_type": ""
    },
    "tags": [
     "hide-input"
    ]
   },
   "outputs": [
    {
     "data": {
      "text/html": [
       "<video src=\"../../_static/chimerax_spin_cas9.mp4\" width=\"50%\" height=\"50%\" align=\"center\"/>"
      ],
      "text/plain": [
       "<IPython.core.display.HTML object>"
      ]
     },
     "execution_count": 1,
     "metadata": {},
     "output_type": "execute_result"
    }
   ],
   "source": [
    "from IPython.display import HTML\n",
    "\n",
    "HTML(\"\"\"<video src=\"../../_static/chimerax_spin_cas9.mp4\" width=\"50%\" height=\"50%\" align=\"center\"/>\"\"\")"
   ]
  },
  {
   "cell_type": "markdown",
   "id": "13bc96d0-98af-44d0-a12a-646c980f0f3f",
   "metadata": {
    "editable": true,
    "slideshow": {
     "slide_type": ""
    },
    "tags": []
   },
   "source": [
    "The code looks like \n",
    "\n",
    "```\n",
    "movie record supersample 3\n",
    "turn y 1 360\n",
    "wait 360\n",
    "movie encode ~/Desktop/movie.mp4\n",
    "```\n",
    "\n",
    "One liner:\n",
    "\n",
    "```\n",
    "movie record supersample 3; turn y 1 360; wait 360; movie encode ~/Desktop/movie.mp4\n",
    "```\n",
    "\n",
    "Where:\n",
    "\n",
    "movie record [options] - begins the screen recording, addition option `supersample 3`\n",
    "turn [axis] [degree] [frame #] - spin on the `y`-axis at `1` degree every `360` frames\n",
    "wait [frame] - number of wait-frames before running the next line\n",
    "movie encode [location] - save the video at specified location\n",
    "\n"
   ]
  },
  {
   "cell_type": "code",
   "execution_count": null,
   "id": "fe2caeb8-49c2-4f12-891f-cb33c7906940",
   "metadata": {},
   "outputs": [],
   "source": []
  }
 ],
 "metadata": {
  "kernelspec": {
   "display_name": "Python 3 (ipykernel)",
   "language": "python",
   "name": "python3"
  },
  "language_info": {
   "codemirror_mode": {
    "name": "ipython",
    "version": 3
   },
   "file_extension": ".py",
   "mimetype": "text/x-python",
   "name": "python",
   "nbconvert_exporter": "python",
   "pygments_lexer": "ipython3",
   "version": "3.10.10"
  }
 },
 "nbformat": 4,
 "nbformat_minor": 5
}
