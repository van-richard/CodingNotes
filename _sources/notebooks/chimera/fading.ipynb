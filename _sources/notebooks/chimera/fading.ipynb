{
 "cells": [
  {
   "cell_type": "markdown",
   "id": "82024d31-2904-4012-a7ba-439d0bb22f4c",
   "metadata": {},
   "source": [
    "# Fading between Visual States\n",
    "\n",
    "The code looks like:\n",
    "\n",
    "```\n",
    "crossfade 48\n",
    "hide #1 ribbon,atom\n",
    "wait 48\n",
    "```\n",
    "\n",
    "One liner:\n",
    "\n",
    "```\n",
    "crossfade 48; hide #1 ribbon,atom; wait 48\n",
    "```\n",
    "\n",
    "Where:\n",
    "\n",
    "crossfade [frames] - fade for # of frames\n",
    "[action] - can be hiding ribbon, show atoms, color, etc.\n",
    "wait [frames] - wait this number of frames before executing next line"
   ]
  },
  {
   "cell_type": "code",
   "execution_count": null,
   "id": "0ae555fc-beff-4916-a5ef-26d30a170d1a",
   "metadata": {},
   "outputs": [],
   "source": []
  }
 ],
 "metadata": {
  "kernelspec": {
   "display_name": "Python 3 (ipykernel)",
   "language": "python",
   "name": "python3"
  },
  "language_info": {
   "codemirror_mode": {
    "name": "ipython",
    "version": 3
   },
   "file_extension": ".py",
   "mimetype": "text/x-python",
   "name": "python",
   "nbconvert_exporter": "python",
   "pygments_lexer": "ipython3",
   "version": "3.10.10"
  }
 },
 "nbformat": 4,
 "nbformat_minor": 5
}
