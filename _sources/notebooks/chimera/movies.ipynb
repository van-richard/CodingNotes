{
 "cells": [
  {
   "cell_type": "markdown",
   "id": "150fd462-92be-422b-bc60-a45e79618dd5",
   "metadata": {},
   "source": [
    "# Movie Making with ChimeraX"
   ]
  },
  {
   "cell_type": "markdown",
   "id": "ceff8ec4-a980-49ff-8563-e8334a49e104",
   "metadata": {},
   "source": [
    "## Fading between Models in a Movie\n",
    "\n",
    "The code looks like \n",
    "\n",
    "```\n",
    "crossfade 48\n",
    "hide #1 ribbon,atom\n",
    "wait 48\n",
    "```\n",
    "\n",
    "One liner:\n",
    "\n",
    "```\n",
    "crossfade 48; hide #1 ribbon,atom; wait 48\n",
    "```\n",
    "\n",
    "Where:\n",
    "\n",
    "crossfade [frames] - fade for # of frames\n",
    "[action] - can be hiding ribbon, show atoms, color, etc.\n",
    "wait [frames] - wait this number of frames before executing next line"
   ]
  },
  {
   "cell_type": "markdown",
   "id": "5ff21b42-245d-488e-9707-db64bc9c0a49",
   "metadata": {},
   "source": [
    "## Morphing transition between 2 PDB structures\n",
    "\n",
    "\n",
    "<img src=\"https://van-richard.github.io/CodingNotes/notebooks/chimera/example/chimerax_morph.mp4\" width=\"250\" height=\"250\"/>\n",
    "\n",
    "*Morph between 2 PDB structures of FnCas12a (PDB 6GTG to 6I1K)*\n",
    "\n",
    "The code looks like:\n",
    "\n",
    "```\n",
    "morph #1,2,3,4,5 frames 100\n",
    "```\n",
    "\n",
    "### Example\n",
    "\n",
    "Open 2 PDB files for FnCas12a.\n",
    "\n",
    "```\n",
    "open 6i1k 6gtg\n",
    "```\n",
    "\n",
    "Align the two structures.\n",
    "\n",
    "```\n",
    "match #2 to #1\n",
    "```\n",
    "\n",
    "Morph transition is done by: \n",
    "\n",
    "```\n",
    "morph #1,2,3,4,5 frames 100\n",
    "```"
   ]
  },
  {
   "cell_type": "markdown",
   "id": "860785ec-c11b-4014-b6c1-a2f39ecacd97",
   "metadata": {},
   "source": [
    "## Rocking the View in a Movie\n",
    "\n",
    "The code looks like \n",
    "\n",
    "```\n",
    "movie record supersample 3\n",
    "rock y 25 360\n",
    "wait 360\n",
    "movie encode ~/Desktop/movie.mp4\n",
    "```\n",
    "\n",
    "One liner:\n",
    "\n",
    "```\n",
    "movie record supersample 3; rock y 25 360; wait 360; movie encode ~/Desktop/movie.mp4\n",
    "```\n",
    "\n",
    "Where:\n",
    "\n",
    "movie record [options] - begins the screen recording, addition option `supersample 3`\n",
    "rock [axix] [degree] [frame #] - rock along the `y`-axis, moving `25` degree along the axis for `360` frames\n",
    "wait [frame] - number of wait-frames before running the next line\n",
    "movie encode [location] - save the video at specified location"
   ]
  },
  {
   "cell_type": "markdown",
   "id": "13bc96d0-98af-44d0-a12a-646c980f0f3f",
   "metadata": {},
   "source": [
    "## Spinning the PDB in a Movie\n",
    "\n",
    "The code looks like \n",
    "\n",
    "```\n",
    "movie record supersample 3\n",
    "turn y 1 360\n",
    "wait 360\n",
    "movie encode ~/Desktop/movie.mp4\n",
    "```\n",
    "\n",
    "One liner:\n",
    "\n",
    "```\n",
    "movie record supersample 3; turn y 1 360; wait 360; movie encode ~/Desktop/movie.mp4\n",
    "```\n",
    "\n",
    "Where:\n",
    "\n",
    "movie record [options] - begins the screen recording, addition option `supersample 3`\n",
    "turn [axis] [degree] [frame #] - spin on the `y`-axis at `1` degree every `360` frames\n",
    "wait [frame] - number of wait-frames before running the next line\n",
    "movie encode [location] - save the video at specified location\n",
    "\n"
   ]
  },
  {
   "cell_type": "code",
   "execution_count": null,
   "id": "d4cd9f7e-abce-4f1f-bf10-a563e4d11f20",
   "metadata": {},
   "outputs": [],
   "source": []
  }
 ],
 "metadata": {
  "kernelspec": {
   "display_name": "Python 3 (ipykernel)",
   "language": "python",
   "name": "python3"
  },
  "language_info": {
   "codemirror_mode": {
    "name": "ipython",
    "version": 3
   },
   "file_extension": ".py",
   "mimetype": "text/x-python",
   "name": "python",
   "nbconvert_exporter": "python",
   "pygments_lexer": "ipython3",
   "version": "3.10.10"
  }
 },
 "nbformat": 4,
 "nbformat_minor": 5
}
