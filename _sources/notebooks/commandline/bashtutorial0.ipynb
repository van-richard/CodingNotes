{
 "cells": [
  {
   "cell_type": "markdown",
   "id": "d57111ee-284a-4e72-ae04-cccdf2c6b258",
   "metadata": {},
   "source": [
    "# Tutorial: Navigating with Bash"
   ]
  },
  {
   "cell_type": "markdown",
   "id": "c0e8b234-2214-4198-84a2-ea7088eb3b5b",
   "metadata": {},
   "source": [
    "## Overview\n",
    "\n",
    "We will learn how to navigate the command line interface by example! \n",
    "\n",
    "No mouse/trackpad needed! "
   ]
  },
  {
   "cell_type": "markdown",
   "id": "4ed1ba36-599f-4750-8159-52cfa04bad00",
   "metadata": {},
   "source": [
    "## Where are we?\n",
    "\n",
    "The first command we are going to learn is `pwd` which stands for Print Working Directory. A lot of commands are named as an abbreviation of a word or words describing them. `pwd` tells you what your current or present working directory (folder) is.\n",
    "\n",
    "```bash\n",
    "pwd\n",
    "```\n",
    "\n",
    "Navigating the terminal will rely on you being in the right location. As you're moving around directories, it is easy to lose track of where you are. Use this command often to remind yourself where you presently are."
   ]
  },
  {
   "cell_type": "markdown",
   "id": "e58c347a-59ab-4862-9414-3ef842ccc2fb",
   "metadata": {},
   "source": [
    "## What is here?\n",
    "\n",
    "We know where we are, but we want to know what files/folders are here! To do this, use `ls`, short for list.\n",
    "\n",
    "```bash\n",
    "ls\n",
    "```"
   ]
  },
  {
   "cell_type": "markdown",
   "id": "0e47e822-0013-41ac-b1b1-d211a4ea34f4",
   "metadata": {},
   "source": [
    "## How to make a new folder/directory?\n",
    "\n",
    "Let's make a new folder/directory so our current working directory isn't so lonely. To do this, use the `mkdir` command, short for make directory. This command takes an argument, i.e. the new folder name!\n",
    "\n",
    "The syntax is `mkdir [arugment]` or in other words `mkdir [new folder name]`. Here, I will use the braket notations (`[]`) to imply this is some sort of input given by you. We can start by making a new folder called `test/`.\n",
    "\n",
    "```bash\n",
    "mkdir test\n",
    "```\n",
    "\n",
    "**NOTE:** Avoid using spaces in filenames and/or folders. This causes some extra key strokes which we will touch on later! An example would be making a folder called \"amino acids\". Rather than using a space, use an underscore (`mkdir amino_acids`) or hyphen (`mkdir amino-acids`)."
   ]
  },
  {
   "cell_type": "markdown",
   "id": "d3f7e177-b33f-41f4-b4c1-4e241f7def5c",
   "metadata": {},
   "source": [
    "## Moving in/out of folders/directories\n",
    "\n",
    "We can enter a folder with the `cd` command, short for change directories. This command takes an argument, following the syntax `cd [argument]` or in other words `cd [folder name]`.\n",
    "\n",
    "```bash\n",
    "cd test\n",
    "```\n",
    "\n",
    "Check where you are with `pwd`, and you should see that you're in the new working directory!\n",
    "\n",
    "```bash\n",
    "pwd\n",
    "```\n",
    "\n",
    "To go back one directory, use the argument `../`.\n",
    "\n",
    "```bash\n",
    "cd ../\n",
    "```\n",
    "\n",
    "If you check your current working directory again, you should see that you're back home"
   ]
  },
  {
   "cell_type": "markdown",
   "id": "c1b5d162-451c-4bdd-aa1c-ae78532d0e39",
   "metadata": {},
   "source": [
    "## What are paths?\n",
    "\n",
    "There are 2 types of paths we can use, absolute and relative. Whenever we refer to a file or directory we are using one of these paths. Whenever we refer to a file or directory, we can, in fact, use either type of path (either way, the system will still be directed to the same location).\n",
    "\n",
    "To begin with, we have to understand that the file system under linux is a hierarchical structure. At the very top of the structure is what's called the root directory. It is denoted by a single slash ( / ). It has subdirectories, they have subdirectories and so on. Files may reside in any of these directories.\n",
    "\n",
    "Absolute paths specify a location (file or directory) in relation to the root directory. You can identify them easily as they always begin with a forward slash ( / )\n",
    "\n",
    "Relative paths specify a location (file or directory) in relation to where we currently are in the system. They will not begin with a slash.\n"
   ]
  },
  {
   "cell_type": "markdown",
   "id": "f6f8cc07-5c2e-426c-ba7f-df1aae03a646",
   "metadata": {},
   "source": []
  },
  {
   "cell_type": "markdown",
   "id": "a7c8b149-75d6-4c82-b395-d3739bbb965a",
   "metadata": {},
   "source": []
  },
  {
   "cell_type": "markdown",
   "id": "714260c0-4fdc-4625-b82f-3701b3255694",
   "metadata": {},
   "source": []
  },
  {
   "cell_type": "markdown",
   "id": "3f3854e5-0124-4a80-ab22-5b045db3193d",
   "metadata": {},
   "source": []
  }
 ],
 "metadata": {
  "kernelspec": {
   "display_name": "Python 3 (ipykernel)",
   "language": "python",
   "name": "python3"
  },
  "language_info": {
   "codemirror_mode": {
    "name": "ipython",
    "version": 3
   },
   "file_extension": ".py",
   "mimetype": "text/x-python",
   "name": "python",
   "nbconvert_exporter": "python",
   "pygments_lexer": "ipython3",
   "version": "3.10.10"
  }
 },
 "nbformat": 4,
 "nbformat_minor": 5
}
