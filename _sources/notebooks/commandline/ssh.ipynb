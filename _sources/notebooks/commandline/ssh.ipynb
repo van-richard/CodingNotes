{
 "cells": [
  {
   "cell_type": "markdown",
   "id": "d9216444-cd2b-48e4-bb0b-6fdb7051716f",
   "metadata": {},
   "source": [
    "# SSH-ing\n",
    "\n",
    "`ssh` is Secure Shell protocol used for remote logins, allowing access to a computer over the internet.\n",
    "\n",
    "[SSH on wikipedia](https://en.wikipedia.org/wiki/Secure_Shell)\n",
    "> \"Secure Shell Protocol is a cryptographic network protocol for operating network services securely over an unsecured network. Its most notable applications are remote login and command-line execution. SSH applications are based on a client–server architecture, connecting an SSH client instance with an SSH server.\"\n",
    "\n",
    "Before this, you will need to apply to a supercomputing center (OSCER, PETE, etc.) for an account with the group.\n",
    "\n",
    "I recommend creating a simple username. For example, my username is `van` just about everywhere.\n",
    "\n",
    "Once you have an account set up, you can login from your terminal in this notation:\n",
    "\n",
    "```bash\n",
    "ssh username@ssh.server.example.edu\n",
    "```\n",
    "\n",
    "With my username, it would look like:\n",
    "\n",
    "```bash\n",
    "ssh van@ssh.server.example.edu\n",
    "```\n",
    "\n",
    "If this is your first time logging in, you will get the following prompt. *Answer `yes`* This will only happen on the first login.\n",
    "\n",
    "```bash\n",
    "The authenticity of host 'ssh.server.example.edu' cannot be established.\n",
    " DSA key fingerprint is 01:23:45:67:89:ab:cd:ef:ff:fe:dc:ba:98:76:54:32:10.\n",
    " Are you sure you want to continue connecting (yes/no)?\n",
    "```\n",
    "\n",
    "Answering yes to the prompt will cause the session to continue, and the host key is stored in the local system's known_hosts file. This is a hidden file, stored by default in a hidden directory, called `/.ssh/known_hosts`, in the your home directory. Once the host key has been stored in the known_hosts file, the client system can connect directly to that server again without need for any approvals."
   ]
  },
  {
   "cell_type": "markdown",
   "id": "574b3758-1147-4754-a039-a08e41dcbf0f",
   "metadata": {},
   "source": [
    "# Automate Login with No Password\n",
    "\n",
    "It is possible to sign into your supercomputing account without entering a password. You will need to generate a public key pair to use when authenticating with the server.\n",
    "\n",
    "On your local computer, run the following:\n",
    "\n",
    "```bash\n",
    "ssh-keygen -t rsa -b 4096\n",
    "```\n",
    "\n",
    "*Do not set a passphrase when creating the key (Press enter 3 times).*\n",
    "\n",
    "Make sure that this file is only readable by you! The public key file (`id_dsa.pub` or `id_rsa.pub`) as the name implies can be uploaded to other systems to which you would like passwordless access.\n",
    "\n",
    "Create a `~/.ssh` directory on the supercomputer from **your local machine**. You do not need to log-in yet.\n",
    "\n",
    "```bash\n",
    "ssh van@ssh.server.example.edu mkdir -p .ssh\n",
    "```\n",
    "\n",
    "\n",
    "Now you can add your *public key* (`id_dsa.pub` or `id_rsa.pub`) to the server. This will be the last time you enter your password.\n",
    "\n",
    "```bash\n",
    "cat .ssh/id_rsa.pub | ssh van@ssh.server.example.edu 'cat >> ~/.ssh/authorized_keys'\n",
    "```"
   ]
  },
  {
   "cell_type": "code",
   "execution_count": null,
   "id": "bdd89f3f-6a7a-410c-aa19-1f2d5b1df17a",
   "metadata": {},
   "outputs": [],
   "source": []
  }
 ],
 "metadata": {
  "kernelspec": {
   "display_name": "Python 3 (ipykernel)",
   "language": "python",
   "name": "python3"
  },
  "language_info": {
   "codemirror_mode": {
    "name": "ipython",
    "version": 3
   },
   "file_extension": ".py",
   "mimetype": "text/x-python",
   "name": "python",
   "nbconvert_exporter": "python",
   "pygments_lexer": "ipython3",
   "version": "3.10.10"
  }
 },
 "nbformat": 4,
 "nbformat_minor": 5
}
