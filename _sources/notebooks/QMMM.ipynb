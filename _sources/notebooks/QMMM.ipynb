{
 "cells": [
  {
   "cell_type": "markdown",
   "id": "54174b99-55a8-46e1-afb2-765be3ed34a8",
   "metadata": {},
   "source": [
    "# QM/MM Examples"
   ]
  },
  {
   "cell_type": "code",
   "execution_count": null,
   "id": "91adc4f9-061a-426d-ba0d-b6521dd43014",
   "metadata": {},
   "outputs": [],
   "source": []
  }
 ],
 "metadata": {
  "kernelspec": {
   "display_name": "Python 3 (ipykernel)",
   "language": "python",
   "name": "python3"
  },
  "language_info": {
   "codemirror_mode": {
    "name": "ipython",
    "version": 3
   },
   "file_extension": ".py",
   "mimetype": "text/x-python",
   "name": "python",
   "nbconvert_exporter": "python",
   "pygments_lexer": "ipython3",
   "version": "3.10.10"
  }
 },
 "nbformat": 4,
 "nbformat_minor": 5
}
