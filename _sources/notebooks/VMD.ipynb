{
 "cells": [
  {
   "cell_type": "markdown",
   "id": "7be46cdd-74ed-4210-85ea-173af9615b81",
   "metadata": {},
   "source": [
    "# VMD"
   ]
  },
  {
   "cell_type": "markdown",
   "id": "db422069-28c6-4dd2-b546-5430d5b45d43",
   "metadata": {},
   "source": [
    "MD trajectories can be viewed with the VMD software"
   ]
  },
  {
   "cell_type": "markdown",
   "id": "408e6f67-a785-4034-a2ec-2da9ae152653",
   "metadata": {},
   "source": []
  }
 ],
 "metadata": {
  "kernelspec": {
   "display_name": "Python 3 (ipykernel)",
   "language": "python",
   "name": "python3"
  },
  "language_info": {
   "codemirror_mode": {
    "name": "ipython",
    "version": 3
   },
   "file_extension": ".py",
   "mimetype": "text/x-python",
   "name": "python",
   "nbconvert_exporter": "python",
   "pygments_lexer": "ipython3",
   "version": "3.10.10"
  }
 },
 "nbformat": 4,
 "nbformat_minor": 5
}
