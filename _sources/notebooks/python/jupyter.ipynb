{
 "cells": [
  {
   "cell_type": "markdown",
   "id": "e2d85aa7-1ecf-40c4-8e93-c53b4b6df95a",
   "metadata": {},
   "source": [
    "# Jupyter Notebooks\n",
    "\n",
    "The Jupyter Notebook App is a server-client application that allows editing and running notebook documents via a web browser. The Jupyter Notebook App can be executed on a local desktop requiring no internet access (as described in this document) or can be installed on a remote server and accessed through the internet.\n",
    "\n",
    "In addition to displaying/editing/running notebook documents, the Jupyter Notebook App has a “Dashboard” (Notebook Dashboard), a “control panel” showing local files and allowing to open notebook documents or shutting down their kernels."
   ]
  },
  {
   "cell_type": "markdown",
   "id": "4b0116bc-efd4-41fd-8043-d9c26e316a03",
   "metadata": {},
   "source": [
    "## Kernals\n",
    "\n",
    "A notebook kernel is a “computational engine” that executes the code contained in a Notebook document. The ipython kernel, referenced in this guide, executes python code. Kernels for many other languages exist (official kernels).\n",
    "\n",
    "When you open a Notebook document, the associated kernel is automatically launched. When the notebook is executed (either cell-by-cell or with menu Cell -> Run All), the kernel performs the computation and produces the results. Depending on the type of computations, the kernel may consume significant CPU and RAM. Note that the RAM is not released until the kernel is shut-down."
   ]
  },
  {
   "cell_type": "markdown",
   "id": "e2c0ffde-a7cf-4aea-92ad-996a22c14dcc",
   "metadata": {},
   "source": [
    "## Conda Kernals\n",
    "\n",
    "Install `jupyterlab` and `nb_conda_kernels` into your `base` conda environment.\n",
    "\n",
    "The `jupyterlab` package is for running notebooks.\n",
    "the `nb_conda_kernels` package allows you to switch conda environments directly in the web browser.\n",
    "\n",
    "```bash\n",
    "conda install -c conda-forge jupyterlab nb_conda_kernels\n",
    "```\n",
    "\n",
    "To run jupyter, type:\n",
    "\n",
    "```bash\n",
    "jupyter lab\n",
    "```\n",
    "\n",
    "This should open your brower automatically. If not, copy the first or second link."
   ]
  },
  {
   "cell_type": "code",
   "execution_count": null,
   "id": "89c03ee5-c05a-4a2c-acc3-b6cb2c1bd41a",
   "metadata": {},
   "outputs": [],
   "source": []
  }
 ],
 "metadata": {
  "kernelspec": {
   "display_name": "Python 3 (ipykernel)",
   "language": "python",
   "name": "python3"
  },
  "language_info": {
   "codemirror_mode": {
    "name": "ipython",
    "version": 3
   },
   "file_extension": ".py",
   "mimetype": "text/x-python",
   "name": "python",
   "nbconvert_exporter": "python",
   "pygments_lexer": "ipython3",
   "version": "3.10.10"
  }
 },
 "nbformat": 4,
 "nbformat_minor": 5
}
