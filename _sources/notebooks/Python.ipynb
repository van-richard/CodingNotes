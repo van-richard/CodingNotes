{
 "cells": [
  {
   "cell_type": "markdown",
   "id": "1d91378c-7b27-4e72-8449-f4e39e7c7088",
   "metadata": {},
   "source": [
    "# Python & Conda"
   ]
  },
  {
   "cell_type": "markdown",
   "id": "4eaf6d8f-4859-4dbd-8793-5a435563d7b4",
   "metadata": {},
   "source": [
    "## Overview"
   ]
  },
  {
   "cell_type": "markdown",
   "id": "50bf5cd2-4433-4c8b-89cf-481c31ad55b6",
   "metadata": {},
   "source": [
    "## Installing with Conda\n",
    "\n",
    "I prefer using Miniforge, so this tutorial will walk you through installing Miniforge3. \n",
    "\n",
    "Visit the (Miniconda3 github](https://github.com/conda-forge/miniforge)."
   ]
  }
 ],
 "metadata": {
  "kernelspec": {
   "display_name": "Python 3 (ipykernel)",
   "language": "python",
   "name": "python3"
  },
  "language_info": {
   "codemirror_mode": {
    "name": "ipython",
    "version": 3
   },
   "file_extension": ".py",
   "mimetype": "text/x-python",
   "name": "python",
   "nbconvert_exporter": "python",
   "pygments_lexer": "ipython3",
   "version": "3.10.10"
  }
 },
 "nbformat": 4,
 "nbformat_minor": 5
}
