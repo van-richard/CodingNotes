{
 "cells": [
  {
   "cell_type": "markdown",
   "id": "59ec3db0-5c24-4844-a125-f5f91cd08ee6",
   "metadata": {
    "editable": true,
    "slideshow": {
     "slide_type": ""
    },
    "tags": []
   },
   "source": [
    "# Create Websites"
   ]
  },
  {
   "cell_type": "markdown",
   "id": "e39c2236-856c-4cc6-8e2b-99944f314ac0",
   "metadata": {
    "editable": true,
    "slideshow": {
     "slide_type": ""
    },
    "tags": []
   },
   "source": [
    "## Jupyter Book\n",
    "\n",
    "### Background\n",
    "\n",
    "Design a website using jupyter notebooks\n",
    "\n",
    "[Jupyter-Book](https://jupyterbook.org/en/stable/intro.html)\n",
    "\n",
    "### Tutorial\n",
    "\n",
    "Adapted from the webpage.\n",
    "\n",
    "In a `conda` environment, install the package, `jupyter-book`\n",
    "\n",
    "```bash\n",
    "conda install -c conda-forge jupyter-book\n",
    "```\n",
    "\n",
    "Create a new book\n",
    "\n",
    "```bash\n",
    "jupyter-book create mynewbook/\n",
    "```\n",
    "\n",
    "Building the book\n",
    "\n",
    "```bash\n",
    "jupyter-book build mybookname/\n",
    "```\n",
    "\n",
    "To publish the book to a Github repository, I use ghp-import.\n",
    "\n",
    "```bash\n",
    "pip install ghp-import\n",
    "ghp-import -n -p -f _build/html\n",
    "```\n",
    "\n",
    "Then\n",
    "\n",
    "```bash\n",
    "git add .\n",
    "git commit -a \n",
    "git push\n",
    "```\n",
    "\n",
    "I automated this with a `build.sh` script:\n",
    "\n",
    "```bash\n",
    "#!/bin/bash\n",
    "\n",
    "# Import aliases\n",
    "shopt -s expand_aliases \n",
    "source ~/.bash_aliases  \n",
    "\n",
    "# Build book and push changes\n",
    "myconda jupyter-book build . --all \n",
    "ghp-import -n -p -f _build/html \n",
    "```\n",
    "\n",
    "To publish you book online, you need to host it on a public repository on Github.\n",
    "\n",
    "1. First, log in to GitHub, then go to the “create a new repository” page: new\n",
    "2. Next, give your online repository a name and a description. Make your repository public and do not initialize it with a README file, then click “Create repository”.\n",
    "3. Now, clone the (currently empty) online repository to a location on your local computer. You can do this via the command line with:\n",
    "\n",
    "```bash\n",
    "git clone https://github.com/<my-org>/<my-repository-name> \n",
    "```\n",
    "\n",
    "4. Copy all of your book files and folders into this newly cloned repository. For example, if you created your book locally with `jupyter-book create mylocalbook` and your new repository is called ”myonlinebook,“ you could do this via the command line with:\n",
    "\n",
    "```bash\n",
    "cp -r mylocalbook/* myonlinebook/ \n",
    "```\n",
    "\n",
    "5. Now you need to sync your local and remote (i.e., online) repositories. You can do this with the following commands: \n",
    "\n",
    "```bash\n",
    "bash build.sh\n",
    "```\n",
    "6. Update the settings for your GitHub pages site:\n",
    "   - Use the `gh-pages` branch to host your website.\n",
    "   - Choose root directory `/` if you’re building the book in it’s own repository. Choose `/docs` directory if you’re building documentation with jupyter-book. From the main branch of your book’s root directory (which should contain the `_build/html` folder\n"
   ]
  },
  {
   "cell_type": "code",
   "execution_count": null,
   "id": "ab8ca113-898d-45e1-a778-4860c3f427ba",
   "metadata": {
    "editable": true,
    "slideshow": {
     "slide_type": ""
    },
    "tags": []
   },
   "outputs": [],
   "source": []
  },
  {
   "cell_type": "code",
   "execution_count": null,
   "id": "eb2b1b9f-f8dc-4edd-b3a3-c7be496ce146",
   "metadata": {},
   "outputs": [],
   "source": []
  }
 ],
 "metadata": {
  "kernelspec": {
   "display_name": "Python 3 (ipykernel)",
   "language": "python",
   "name": "python3"
  },
  "language_info": {
   "codemirror_mode": {
    "name": "ipython",
    "version": 3
   },
   "file_extension": ".py",
   "mimetype": "text/x-python",
   "name": "python",
   "nbconvert_exporter": "python",
   "pygments_lexer": "ipython3",
   "version": "3.10.10"
  }
 },
 "nbformat": 4,
 "nbformat_minor": 5
}
