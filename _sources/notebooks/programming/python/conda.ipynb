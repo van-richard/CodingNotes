{
 "cells": [
  {
   "cell_type": "markdown",
   "id": "2c13e3c2-1d1f-4dc7-9354-263ba8b328b9",
   "metadata": {
    "editable": true,
    "slideshow": {
     "slide_type": ""
    },
    "tags": []
   },
   "source": [
    "# Conda Commands"
   ]
  },
  {
   "cell_type": "markdown",
   "id": "39b3a532-e8c6-405e-8d55-a0c2f91cbfde",
   "metadata": {},
   "source": [
    "## Installing Conda\n",
    "\n",
    "I recommend installing [Miniforge](https://github.com/conda-forge/miniforge). \n",
    "\n",
    "In the repository:\n",
    "\n",
    "1. Scroll down to the `Download` section\n",
    "2. Find your operating system (OS)\n",
    "3. Click the link\n",
    "4. Copy the downloaded file to your `~/Programs` folder\n",
    "5. Run the installation script with `bash <Miniforge-link>.sh`\n",
    "6. Choose your installation directory as `~/Programs/miniforge3`"
   ]
  },
  {
   "cell_type": "markdown",
   "id": "9071e837-79c1-4e38-8f39-a7966bf045e4",
   "metadata": {},
   "source": [
    "## Base Environment\n",
    "\n",
    "By defuault, conda will starts in your `base` environment. Generally I don't install very many packages here.\n",
    "\n",
    "```bash\n",
    "(base) username@computer:~ username$\n",
    "```"
   ]
  },
  {
   "cell_type": "markdown",
   "id": "8e533d16-eb0c-4552-a1e6-8fb77a722c23",
   "metadata": {},
   "source": [
    "## Creating a new virtual environment.\n",
    "\n",
    "```\n",
    "conda create -n <name>                          # Create New environment\n",
    "conda create -n <name> python=<version-number>  # Specific Python version\n",
    "```"
   ]
  },
  {
   "cell_type": "markdown",
   "id": "b1955638-ad35-4a00-9f15-978d21f12707",
   "metadata": {},
   "source": [
    "## Running the new environment.\n",
    "\n",
    "```\n",
    "conda activate <name>\n",
    "```"
   ]
  },
  {
   "cell_type": "markdown",
   "id": "357f2d86-0dcb-4111-8640-3c56aa194c6d",
   "metadata": {},
   "source": [
    "In your new activated environment, you can now install needed packages.\n",
    "\n",
    "```\n",
    "conda install <package-name>                 # Install Package\n",
    "conda install -c conda-forge <package-name>  # Install package from a specific channel (-c)\n",
    "```"
   ]
  },
  {
   "cell_type": "markdown",
   "id": "895ab501-f826-444e-b995-527d6c304aeb",
   "metadata": {},
   "source": [
    "## Leave a virutal environment.\n",
    "\n",
    "```\n",
    "conda deactivate\n",
    "```"
   ]
  },
  {
   "cell_type": "markdown",
   "id": "bc82c63d-7272-4966-a055-a11ca5d0805a",
   "metadata": {},
   "source": [
    "## Deleting conda environments and related packages.\n",
    "\n",
    "```\n",
    "conda env remove -n <name>\n",
    "```"
   ]
  },
  {
   "cell_type": "markdown",
   "id": "d87438fb-ceec-40ea-9312-bbb8eacd0824",
   "metadata": {},
   "source": [
    "## List available environments.\n",
    "\n",
    "```\n",
    "conda env list\n",
    "```"
   ]
  },
  {
   "cell_type": "markdown",
   "id": "f5af4a43-8857-43f0-9957-94dba1cac489",
   "metadata": {},
   "source": [
    "## List packages within an environment.\n",
    "\n",
    "```\n",
    "conda activate <name>\n",
    "conda list\n",
    "```\n",
    "\n",
    "\n",
    "## Exporting environments to a YML file.\n",
    "\n",
    "```\n",
    "conda activate <name>\n",
    "conda env export > <name>.yml\n",
    "```\n",
    "\n",
    "\n",
    "## Installing a Conda environment from a YML file.\n",
    "\n",
    "```\n",
    "conda env create -f <name>.yml\n",
    "```\n",
    "\n",
    "\n",
    "## Example with AmberTools\n",
    "\n",
    "```\n",
    "conda create -n ambertools\n",
    "conda activate ambertools\n",
    "conda install -c conda-forge ambertools=22 compilers\n",
    "```\n"
   ]
  },
  {
   "cell_type": "markdown",
   "id": "f1e771c3-c51c-412d-967d-cfad7d687e26",
   "metadata": {},
   "source": []
  }
 ],
 "metadata": {
  "kernelspec": {
   "display_name": "Python 3 (ipykernel)",
   "language": "python",
   "name": "python3"
  },
  "language_info": {
   "codemirror_mode": {
    "name": "ipython",
    "version": 3
   },
   "file_extension": ".py",
   "mimetype": "text/x-python",
   "name": "python",
   "nbconvert_exporter": "python",
   "pygments_lexer": "ipython3",
   "version": "3.10.10"
  }
 },
 "nbformat": 4,
 "nbformat_minor": 5
}
