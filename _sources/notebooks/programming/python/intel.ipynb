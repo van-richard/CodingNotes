{
 "cells": [
  {
   "cell_type": "markdown",
   "id": "915f1c26-6080-4031-9ac3-5ec23210f0e2",
   "metadata": {},
   "source": [
    "# Intel Environment on Conda with m1/m2 Macs\n",
    "\n",
    "Intel Conda environment on m1/m2 Macs. \n",
    "\n",
    "```bash\n",
    "CONDA_SUBDIR=osx-64 conda create -n ambertools python=3.10\n",
    "conda activate ambertools\n",
    "python -c \"import platform;print(platform.machine()) \"\n",
    "conda env config vars set CONDA_SUBDIR=osx-64\n",
    "conda deactivate\n",
    "conda activate ambertools\n",
    "```\n"
   ]
  },
  {
   "cell_type": "code",
   "execution_count": null,
   "id": "3fff81c8-836b-4e9e-b871-ce4fc3477138",
   "metadata": {},
   "outputs": [],
   "source": []
  }
 ],
 "metadata": {
  "kernelspec": {
   "display_name": "Python 3 (ipykernel)",
   "language": "python",
   "name": "python3"
  },
  "language_info": {
   "codemirror_mode": {
    "name": "ipython",
    "version": 3
   },
   "file_extension": ".py",
   "mimetype": "text/x-python",
   "name": "python",
   "nbconvert_exporter": "python",
   "pygments_lexer": "ipython3",
   "version": "3.10.10"
  }
 },
 "nbformat": 4,
 "nbformat_minor": 5
}
