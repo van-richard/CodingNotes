{
 "cells": [
  {
   "cell_type": "markdown",
   "id": "16fc7214-e0ee-4682-a7c4-4fff1dfbf779",
   "metadata": {
    "editable": true,
    "slideshow": {
     "slide_type": ""
    },
    "tags": []
   },
   "source": [
    "# ffmpeg\n",
    "\n",
    "[ffmpeg Download](https://ffmpeg.org)\n",
    "\n",
    "`ffmpeg` can convert image files to a video. Download the program, and add this to your `~/Programs` folder.\n",
    "\n",
    "After creating image files from VMD, use `ffmpeg` to make the video by:\n",
    "\n",
    "```bash\n",
    "~/Programs/ffmpeg file.%05d.ppm -b:v 500M output.mp4\n",
    "```\n",
    "\n",
    "`file.%05d.ppm` - `file` is the name of your output, `%05d` is a a 5 digit number left-padded with zeros, and `ppm` is the file type.\n",
    "\n",
    "`-b:v 500M` - Set bitrate to 500 M for better quality\n",
    "\n",
    "`output.mp4` - Video name and filetype\n"
   ]
  },
  {
   "cell_type": "code",
   "execution_count": null,
   "id": "8ab7f9ee-d78b-4788-85b8-bf405c550e11",
   "metadata": {
    "editable": true,
    "slideshow": {
     "slide_type": ""
    },
    "tags": []
   },
   "outputs": [],
   "source": []
  }
 ],
 "metadata": {
  "kernelspec": {
   "display_name": "Python 3 (ipykernel)",
   "language": "python",
   "name": "python3"
  },
  "language_info": {
   "codemirror_mode": {
    "name": "ipython",
    "version": 3
   },
   "file_extension": ".py",
   "mimetype": "text/x-python",
   "name": "python",
   "nbconvert_exporter": "python",
   "pygments_lexer": "ipython3",
   "version": "3.10.10"
  }
 },
 "nbformat": 4,
 "nbformat_minor": 5
}
