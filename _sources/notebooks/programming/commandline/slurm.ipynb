{
 "cells": [
  {
   "cell_type": "markdown",
   "id": "d9216444-cd2b-48e4-bb0b-6fdb7051716f",
   "metadata": {},
   "source": [
    "# SLURM\n",
    "\n",
    "SLURM is an open source, fault-tolerant, and highly scalable cluster management and job scheduling system for large and small Linux clusters. \n",
    "\n",
    "[slurm.schemd.com](https://slurm.schedmd.com/overview.html)\n"
   ]
  },
  {
   "cell_type": "markdown",
   "id": "2126e7f0-7739-4c5b-88f1-ab95f9aca2c3",
   "metadata": {},
   "source": [
    "## Directives\n",
    "\n",
    "The way that Slurm determines how to allocate your jobs to the cluster (i.e. across how many compute nodes, with how many CPUs, for how long etc) is via Slurm directives that are included at the top of your job script. These directives are indicated by lines starting with `#SBATCH`\n",
    "\n",
    "### Basic Example\n",
    "\n",
    "Change the words in all-caps to what you need. \n",
    "\n",
    "```bash\n",
    "#!/bin/bash\n",
    "#SBATCH --partition=PARTITION\n",
    "#SBATCH --time=TIME (DAYS-HOURS:MINUTES:SECONDS)\n",
    "#SBATCH --nodes=NODES\n",
    "#SBATCH --ntasks=NTASKS\n",
    "#SBATCH --output=%j.out \n",
    "#SBATCH --error=%j.err\n",
    "#SBATCH --name=JOBNAME\n",
    "```\n",
    "\n",
    "### GPU Example\n",
    "\n",
    "```bash\n",
    "#!/bin/bash\n",
    "#SBATCH --partition=GPU_PARTITION\n",
    "#SBATCH --time=TIME (DAYS-HOURS:MINUTES:SECONDS)\n",
    "#SBATCH --nodes=NODES\n",
    "#SBATCH --ntasks=NTASKS\n",
    "#SBATCH --output=%j.out \n",
    "#SBATCH --error=%j.err\n",
    "#SBATCH --name=JOBNAME\n",
    "#SBATCH --gres=gpu:1\n",
    "```\n",
    "\n",
    "### Exclusive Example\n",
    "\n",
    "```bash\n",
    "#!/bin/bash\n",
    "#SBATCH --partition=GPU_PARTITION\n",
    "#SBATCH --time=TIME (DAYS-HOURS:MINUTES:SECONDS)\n",
    "#SBATCH --nodes=NODES\n",
    "#SBATCH --ntasks=NTASKS\n",
    "#SBATCH --output=%j.out \n",
    "#SBATCH --error=%j.err\n",
    "#SBATCH --name=JOBNAME\n",
    "#SBATCH --mem=0\n",
    "#SBATCH --exclusive\n",
    "```\n"
   ]
  },
  {
   "cell_type": "code",
   "execution_count": null,
   "id": "1a8f17b8-6c88-4c5b-ab3c-2dc4e33b1caf",
   "metadata": {},
   "outputs": [],
   "source": []
  }
 ],
 "metadata": {
  "kernelspec": {
   "display_name": "Python 3 (ipykernel)",
   "language": "python",
   "name": "python3"
  },
  "language_info": {
   "codemirror_mode": {
    "name": "ipython",
    "version": 3
   },
   "file_extension": ".py",
   "mimetype": "text/x-python",
   "name": "python",
   "nbconvert_exporter": "python",
   "pygments_lexer": "ipython3",
   "version": "3.10.10"
  }
 },
 "nbformat": 4,
 "nbformat_minor": 5
}
