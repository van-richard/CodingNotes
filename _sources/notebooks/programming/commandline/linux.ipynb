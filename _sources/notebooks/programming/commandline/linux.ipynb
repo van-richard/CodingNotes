{
 "cells": [
  {
   "cell_type": "markdown",
   "id": "c2243401-0ea9-4d75-85b1-3017ad4e36ae",
   "metadata": {
    "editable": true,
    "slideshow": {
     "slide_type": ""
    },
    "tags": []
   },
   "source": [
    "# Unix/Linux Commands"
   ]
  },
  {
   "cell_type": "markdown",
   "id": "ea24fbbd-612d-4348-aa5f-3147e44f3dd9",
   "metadata": {},
   "source": [
    "## awk\n",
    "\n",
    "Manipulation of text.\n",
    "\n",
    "Treating a text file, were each space is a column, you can print the columns with:\n",
    "\n",
    "```bash\n",
    "awk '{print $1}' file\n",
    "```\n",
    "\n",
    "Where `$1` is the first column. Index starts at 1.\n",
    "\n",
    "Separator\n",
    "\n",
    "You can chose the field separator with, `-F`. This example choses the comma as the separator, and print the 5th column:\n",
    "\n",
    "```bash\n",
    "awk -F ',' '{print $5} file'\n",
    "```\n",
    "\n",
    "`awk` can do math. Average a column by:\n",
    "\n",
    "```bash\n",
    "awk '{ total += $2; count++ } END { print total/count }' file\n",
    "```\n",
    "\n",
    "Add to value in column\n",
    "\n",
    "```bash\n",
    "awk '{print $1 + 1}' file\n",
    "```"
   ]
  },
  {
   "cell_type": "markdown",
   "id": "31c34a43-dc12-4a9a-af08-bf06b4c4e115",
   "metadata": {},
   "source": [
    "## cat\n",
    "\n",
    "Print files to stdout\n",
    "\n",
    "```bash\n",
    "cat file.txt\n",
    "```\n",
    "\n",
    "We can also read the file using `cat`:\n",
    "\n",
    "```bash\n",
    "Contents=$(cat file.txt)\n",
    "```\n",
    "\n",
    "- \"\\n\" prints a new line character\n",
    "- \"-e\" to interpret the new line escape characters as escape characters\n",
    "\n",
    "```bash\n",
    "echo -e \"START OF FILE\\n$Contents\\nEND OF FILE\"\n",
    "```"
   ]
  },
  {
   "cell_type": "markdown",
   "id": "d4417472-0600-41a9-9446-adc657f5d751",
   "metadata": {},
   "source": [
    "## cd \n",
    "\n",
    "Change directories\n",
    "\n",
    "Since bash works in the context of a current directory, you might want to run your command in some other directory. We have cd for changing location:\n",
    "\n",
    "Change to home directory\n",
    "\n",
    "```bash\n",
    "cd ~ \n",
    "```\n",
    "\n",
    "or\n",
    "\n",
    "```bash\n",
    "cd     \n",
    "```\n",
    "\n",
    "Go back one directory\n",
    "\n",
    "```bash\n",
    "cd ../\n",
    "```\n",
    "\n",
    "Go to specific directory\n",
    "\n",
    "```bash\n",
    "cd /home/username/Documents  \n",
    "```\n",
    "\n",
    "Go the the previous directory you were in\n",
    "\n",
    "```bash\n",
    "cd -   \n",
    "```"
   ]
  },
  {
   "cell_type": "markdown",
   "id": "379cd11e-9f75-4eb1-a217-0e4ce113ee39",
   "metadata": {},
   "source": [
    "## cp \n",
    "\n",
    "Copy files/folders.\n",
    "\n",
    "To copy file1 to file2 (new name):\n",
    "\n",
    "```bash\n",
    "cp [FILE_1] [FILE_2]\n",
    "```\n",
    "\n",
    "Copy folders:\n",
    "\n",
    "```bash\n",
    "cp -r [FOLDER_1] [FOLDER_2]\n",
    "```\n",
    "\n",
    "Use `cp` to copy files or directories from one place to another.\n",
    "\n",
    "- `cp` creates NEW versions of the sources, so editing the copy won't affect the original (and vice versa).\n",
    "\n",
    "**Note that it will overwrite the destination if it already exists.**\n",
    "\n",
    "```bash\n",
    "cp srcFile.txt clone.txt\n",
    "```\n",
    "\n",
    "or\n",
    "\n",
    "```bash\n",
    "cp -r srcDirectory/ dst/ # recursively copy\n",
    "```\n",
    "\n",
    "Copying can be down with paths\n",
    "\n",
    "```bash\n",
    "cp -r /path/to/dir_1 /path/to/dir_2\n",
    "```"
   ]
  },
  {
   "cell_type": "markdown",
   "id": "083671c9-64c6-4681-bb1f-7d47f49b785b",
   "metadata": {},
   "source": [
    "## cut\n",
    "\n",
    "Prints only the first column before the `,` character\n",
    "\n",
    "```bash\n",
    "cut -d ',' -f 1 file.txt\n",
    "```"
   ]
  },
  {
   "cell_type": "markdown",
   "id": "602b06db-3af8-471f-a4c6-2ceca93c5197",
   "metadata": {},
   "source": [
    "## grep \n",
    "\n",
    "Searching for Pattern in File/Folders\n",
    "\n",
    "Example\n",
    "\n",
    "```bash\n",
    "grep [OPTIONS] 'PATTERN' FILE\n",
    "```\n",
    "\n",
    "Search pattern ignoring case\n",
    "\n",
    "```bash\n",
    "grep -i PATTERN FILE\n",
    "```\n",
    "\n",
    "Search pattern and get NEXT NUMBER of lines\n",
    "\n",
    "```bash\n",
    "grep -A NUMBER PATTERN FILE\n",
    "```\n",
    "\n",
    "Search pattern and get previous NUMBER of  lines\n",
    "\n",
    "```bash\n",
    "grep -B NUMBER PATTERN FILE\n",
    "```\n",
    "\n",
    "Print to stdout all lines of file.txt which match some regex. The example prints lines which begin with \"foo\" and end in \"bar\"\n",
    "\n",
    "```bash\n",
    "grep \"^foo.*bar$\" file.txt\n",
    "```\n",
    "\n",
    "Pass the option \"-c\" to instead print the number of lines matching the regex\n",
    "\n",
    "```bash\n",
    "grep -c \"^foo.*bar$\" file.txt\n",
    "```\n",
    "\n",
    "Other useful options are:\n",
    "\n",
    "```bash\n",
    "grep -r \"^foo.*bar$\" someDir/ # recursively `grep`\n",
    "grep -n \"^foo.*bar$\" file.txt # give line numbers\n",
    "grep -rI \"^foo.*bar$\" someDir/ # recursively `grep`, but ignore binary files\n",
    "```\n",
    "\n",
    "Perform the same initial search, but filter out the lines containing \"baz\"\n",
    "\n",
    "```bash\n",
    "grep \"^foo.*bar$\" file.txt | grep -v \"baz\"\n",
    "```\n",
    "\n",
    "If you literally want to search for the string, and not the regex, use `fgrep` (or `grep -F`)\n",
    "\n",
    "```bash\n",
    "fgrep \"foobar\" file.txt\n",
    "```"
   ]
  },
  {
   "cell_type": "markdown",
   "id": "9053dcf3-6e0d-4e56-a016-44e48ea3e702",
   "metadata": {},
   "source": [
    "## head\n",
    "\n",
    "Print the first 10 lines of `file.txt`.\n",
    "\n",
    "```bash\n",
    "head file.txt\n",
    "```\n",
    "\n",
    "Print X-number of lines of `file.txt`.\n",
    "\n",
    "```bash\n",
    "head -n X file.txt # Where x is a number \n",
    "```"
   ]
  },
  {
   "cell_type": "markdown",
   "id": "dbe68d52-65fe-4de9-9c55-4f08af6244c2",
   "metadata": {},
   "source": [
    "## help\n",
    "\n",
    "Read Bash shell built-ins documentation with the bash `help` built-in:\n",
    "\n",
    "```bash\n",
    "help\n",
    "help help\n",
    "help for\n",
    "help return\n",
    "help source\n",
    "help .\n",
    "```"
   ]
  },
  {
   "cell_type": "markdown",
   "id": "681d8649-1c5a-4860-a1b1-eced29e91445",
   "metadata": {},
   "source": [
    "## info\n",
    "\n",
    "Read info documentation with `info` (`?` for help)\n",
    "\n",
    "```bash\n",
    "apropos info | grep '^info.*('\n",
    "man info\n",
    "info info\n",
    "info 5 info\n",
    "```"
   ]
  },
  {
   "cell_type": "markdown",
   "id": "72cc9a40-f6d0-4d18-84d9-0ad1593522c6",
   "metadata": {},
   "source": [
    "## ls \n",
    "\n",
    "List information about files/folders \n",
    "\n",
    "The default is to list the files in the current directory. Adding options can change how the list is organized.\n",
    "\n",
    "```bash\n",
    "ls [option] [directory]\n",
    "```\n",
    "\n",
    "List directories\n",
    "\n",
    "```bash\n",
    "ls -d\n",
    "```\n",
    "\n",
    "Long list format \n",
    "\n",
    "```bash\n",
    "ls -l\n",
    "```\n",
    "\n",
    "Sort by time (newest first)\n",
    "\n",
    "```bash\n",
    "ls -t\n",
    "```\n",
    "\n",
    "List files with file size in kilobytes/megabytes/gigabytes\n",
    "\n",
    "```bash\n",
    "ls -h\n",
    "```\n",
    "\n",
    "Sort alphabetically\n",
    "\n",
    "```bash\n",
    "ls -X\n",
    "```"
   ]
  },
  {
   "cell_type": "markdown",
   "id": "dae3fac9-6f9f-4eae-ad89-9d18477e511e",
   "metadata": {
    "editable": true,
    "slideshow": {
     "slide_type": ""
    },
    "tags": []
   },
   "source": [
    "## man\n",
    "\n",
    "Get documentation for various functions with `man`\n",
    "\n",
    "```bash\n",
    "man grep # documentation for grep\n",
    "\n",
    "man sed # documentation for sed \n",
    "```"
   ]
  },
  {
   "cell_type": "markdown",
   "id": "2e6b103a-3604-453e-88b8-c853f200060d",
   "metadata": {
    "editable": true,
    "slideshow": {
     "slide_type": ""
    },
    "tags": []
   },
   "source": [
    "## mkdir\n",
    "\n",
    "Create new directories.\n",
    "\n",
    "```bash\n",
    "mkdir myNewDir\n",
    "```\n",
    "\n",
    "The `-p` flag causes new intermediate directories to be created as necessary.\n",
    "\n",
    "```bash\n",
    "mkdir -p myNewDir/with/intermediate/directories\n",
    "```\n",
    "\n",
    "If the intermediate directories didn't already exist, running the above command without the `-p` flag would return an error"
   ]
  },
  {
   "cell_type": "markdown",
   "id": "ca8171d7-56f1-4869-9224-29c2e7fd071d",
   "metadata": {},
   "source": [
    "## mv \n",
    "\n",
    "Move files or directories from one place to another.\n",
    "\n",
    "`mv` is similar to `cp`, but it deletes the source.\n",
    "`mv` is also useful for renaming files!\n",
    "\n",
    "```bash\n",
    "mv source.txt new.txt\n",
    "```"
   ]
  },
  {
   "cell_type": "markdown",
   "id": "9f310cfd-5f1a-4c43-abee-d7ca1161130d",
   "metadata": {},
   "source": [
    "## sed \n",
    "\n",
    "Tranform/replace text!\n",
    "\n",
    "We can replace some text, INPUT, with another text, OUTPUT, in a file with `sed`. The notation is:\n",
    "\n",
    "```bash\n",
    "sed 's/INPUT/OUTPUT/' file\n",
    "```\n",
    "\n",
    "Create a new file with replacement\n",
    "\n",
    "```bash\n",
    "sed 's/INPUT/OUTPUT/' file > newfile\n",
    "```\n",
    "\n",
    "Replace occurances within the file\n",
    "\n",
    "```bash\n",
    "sed -i 's/INPUT/OUTPUT/' file\n",
    "```\n",
    "\n",
    "Replace all occurances\n",
    "\n",
    "```bash\n",
    "sed 's/INPUT/OUTPUT/g' file\n",
    "```\n",
    "\n",
    "Delete lines containing pattern\n",
    "\n",
    "```bash\n",
    "sed '/INPUT/d' file\n",
    "```\n",
    "\n",
    "Variables with sed\n",
    "\n",
    "```bash\n",
    "sed \"s/INPUT/${VARIABLE}/\" file\n",
    "```\n",
    "\n",
    "Multiple inputs\n",
    "\n",
    "```bash\n",
    "sed -e 's/INPUT1/OUTPUT1/;s/INPUT2/OUTPUT2/;s/INPUT3/OUTPUT3/' file\n",
    "```"
   ]
  },
  {
   "cell_type": "markdown",
   "id": "01dc7413-be5b-4bae-bf52-e8af661e4a21",
   "metadata": {
    "editable": true,
    "slideshow": {
     "slide_type": ""
    },
    "tags": []
   },
   "source": [
    "## seq \n",
    "\n",
    "Print a sequence of numbers. Default increment of 1.\n",
    "\n",
    "```bash\n",
    "seq FIRST INCREMENT LAST\n",
    "```\n",
    "\n",
    "This returns a sequence of numbers between 0 and 10.\n",
    "\n",
    "```bash\n",
    "seq 0 10\n",
    "```\n",
    "\n",
    "Sequence with Placeholders\n",
    "\n",
    "```bash\n",
    "seq -w 0 40\n",
    "```"
   ]
  },
  {
   "cell_type": "markdown",
   "id": "fc7b2f81-f255-4d77-b13e-2c15101ba630",
   "metadata": {},
   "source": [
    "## sort\n",
    "\n",
    "Print `file.txt` lines in sorted order\n",
    "\n",
    "```bash\n",
    "sort file.txt\n",
    "```"
   ]
  },
  {
   "cell_type": "markdown",
   "id": "43347245-ff2f-474c-8b28-5a14ab184e1f",
   "metadata": {
    "editable": true,
    "slideshow": {
     "slide_type": ""
    },
    "tags": []
   },
   "source": [
    "## setfacl \n",
    "\n",
    "Give specific user permission to read/write/execute a folder.\n",
    "\n",
    "`setfacl` is short for set File ACL (Access Control List). This sets permissions for specific users, without changing the owndership of the directory.\n",
    "\n",
    "```bash\n",
    "setfacl -m u:username:rwx myfolder\n",
    "```\n",
    "\n",
    "Options \n",
    "\n",
    "Helpful options.\n",
    "\n",
    "| Option | Meaning |\n",
    "| :----- | :------ |\n",
    "| \\-m, \\--modify=acl        | modify the current ACL(s) of file(s) |\n",
    "| \\-M, \\--modify-file=file  | read ACL entries to modify from file |\n",
    "| \\-x, \\--remove=acl        | remove entries from the ACL(s) of file(s) |\n",
    "| \\-b, \\--remove-all        | remove all extended ACL entries |\n",
    "| \\-R, \\--recursive         | recurse into subdirectories |"
   ]
  },
  {
   "cell_type": "markdown",
   "id": "52881b38-83c0-44d7-9cd3-029e1a20f8e0",
   "metadata": {},
   "source": [
    "## sudo\n",
    "\n",
    "`sudo` is used to perform commands as the superuser usually it will ask interactively the password of superuser\n",
    "\n",
    "```bash\n",
    "NAME1=$(whoami)\n",
    "NAME2=$(sudo whoami)\n",
    "echo \"Was $NAME1, then became more powerful $NAME2\"\n",
    "```"
   ]
  },
  {
   "cell_type": "markdown",
   "id": "339fc706-f5c9-4652-be23-79b6562dc30a",
   "metadata": {
    "editable": true,
    "slideshow": {
     "slide_type": ""
    },
    "tags": []
   },
   "source": [
    "## tail\n",
    "\n",
    "Print the last 10 lines of `file.txt`.\n",
    "\n",
    "```bash\n",
    "tail file.txt\n",
    "```\n",
    "\n",
    "Print X-number of lines of `file.txt`.\n",
    "\n",
    "```bash\n",
    "tail -n X file.txt # Where x is a number \n",
    "```"
   ]
  },
  {
   "cell_type": "markdown",
   "id": "a6fc2925-b50f-42b7-8e7e-5aac83df9cfc",
   "metadata": {
    "editable": true,
    "slideshow": {
     "slide_type": ""
    },
    "tags": []
   },
   "source": [
    "## tar\n",
    "\n",
    "`tar` stands for tape archive.\n",
    "\n",
    "We can use the `tar` command to create, compressed, or uncompressed Archive files, and also maintain/modify them.\n",
    "\n",
    "Archive files are used to collect multiple data files together into a single file for easier portability and storage, or simply to compress files to use less storage space. \n",
    "\n",
    "Example of opening `tar` files:\n",
    "\n",
    "```bash\n",
    "tar xvf file.tar\n",
    "```\n",
    "\n",
    "Example of creating `tar` files:\n",
    "\n",
    "```bash\n",
    "tar cvf file.tar file\n",
    "```\n",
    "\n",
    "`gzip` compression on the `tar` Archive\n",
    "\n",
    "```bash\n",
    "tar cvzf folder.tar.gz folder # Creating tar\n",
    "\n",
    "tar xvzf folder.tar.gz # Extract tar \n",
    "```\n",
    "\n",
    "`bzip2` compression on `tar` Archive\n",
    "\n",
    "```bash\n",
    "tar cfvj folder.tar.bz2 folder # Creating tar\n",
    "\n",
    "tar xvjf folder.tar.bz2 # Extract tar\n",
    "```"
   ]
  },
  {
   "cell_type": "markdown",
   "id": "de98e635-775c-4c52-911f-793dfd595c92",
   "metadata": {
    "editable": true,
    "slideshow": {
     "slide_type": ""
    },
    "tags": []
   },
   "source": [
    "## trap\n",
    "\n",
    "The `trap` command allows you to execute a command whenever your script receives a signal. Here, `trap` will execute `rm` if it receives any of the three listed signals.\n",
    "\n",
    "```bash\n",
    "trap \"rm $TEMP_FILE; exit\" SIGHUP SIGINT SIGTERM\n",
    "```"
   ]
  },
  {
   "cell_type": "code",
   "execution_count": null,
   "id": "026978d2-1c0b-4532-a0b3-185c00e8dce5",
   "metadata": {
    "editable": true,
    "slideshow": {
     "slide_type": ""
    },
    "tags": []
   },
   "outputs": [],
   "source": []
  }
 ],
 "metadata": {
  "kernelspec": {
   "display_name": "Python 3 (ipykernel)",
   "language": "python",
   "name": "python3"
  },
  "language_info": {
   "codemirror_mode": {
    "name": "ipython",
    "version": 3
   },
   "file_extension": ".py",
   "mimetype": "text/x-python",
   "name": "python",
   "nbconvert_exporter": "python",
   "pygments_lexer": "ipython3",
   "version": "3.10.10"
  }
 },
 "nbformat": 4,
 "nbformat_minor": 5
}
