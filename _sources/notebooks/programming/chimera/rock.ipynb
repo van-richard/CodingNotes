{
 "cells": [
  {
   "cell_type": "markdown",
   "id": "150fd462-92be-422b-bc60-a45e79618dd5",
   "metadata": {},
   "source": [
    "# Spin"
   ]
  },
  {
   "cell_type": "markdown",
   "id": "0e1c30f7-1a5b-4ec4-b431-57645c5234e9",
   "metadata": {},
   "source": [
    "<video src=\"../../_static/chiemrax_spin_cas9_surface.mp4\" width=\"50%\" height=\"50%\" align=\"center\"/>"
   ]
  },
  {
   "cell_type": "markdown",
   "id": "13bc96d0-98af-44d0-a12a-646c980f0f3f",
   "metadata": {},
   "source": [
    "The code looks like \n",
    "\n",
    "```\n",
    "movie record supersample 3\n",
    "turn y 1 360\n",
    "wait 360\n",
    "movie encode ~/Desktop/movie.mp4\n",
    "```\n",
    "\n",
    "One liner:\n",
    "\n",
    "```\n",
    "movie record supersample 3; turn y 1 360; wait 360; movie encode ~/Desktop/movie.mp4\n",
    "```\n",
    "\n",
    "Where:\n",
    "\n",
    "movie record [options] - begins the screen recording, addition option `supersample 3`\n",
    "turn [axis] [degree] [frame #] - spin on the `y`-axis at `1` degree every `360` frames\n",
    "wait [frame] - number of wait-frames before running the next line\n",
    "movie encode [location] - save the video at specified location\n",
    "\n"
   ]
  },
  {
   "cell_type": "code",
   "execution_count": null,
   "id": "fe2caeb8-49c2-4f12-891f-cb33c7906940",
   "metadata": {},
   "outputs": [],
   "source": []
  }
 ],
 "metadata": {
  "kernelspec": {
   "display_name": "Python 3 (ipykernel)",
   "language": "python",
   "name": "python3"
  },
  "language_info": {
   "codemirror_mode": {
    "name": "ipython",
    "version": 3
   },
   "file_extension": ".py",
   "mimetype": "text/x-python",
   "name": "python",
   "nbconvert_exporter": "python",
   "pygments_lexer": "ipython3",
   "version": "3.10.10"
  }
 },
 "nbformat": 4,
 "nbformat_minor": 5
}
