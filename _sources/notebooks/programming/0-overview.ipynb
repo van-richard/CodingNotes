{
 "cells": [
  {
   "cell_type": "markdown",
   "id": "25156711-a1f0-43d3-867a-a178d2b39e91",
   "metadata": {
    "editable": true,
    "slideshow": {
     "slide_type": ""
    },
    "tags": []
   },
   "source": [
    "# Programming"
   ]
  },
  {
   "cell_type": "code",
   "execution_count": null,
   "id": "3cb4aa00-275c-4e4f-a5a0-3131d2cafce2",
   "metadata": {},
   "outputs": [],
   "source": []
  }
 ],
 "metadata": {
  "kernelspec": {
   "display_name": "Python 3 (ipykernel)",
   "language": "python",
   "name": "python3"
  },
  "language_info": {
   "codemirror_mode": {
    "name": "ipython",
    "version": 3
   },
   "file_extension": ".py",
   "mimetype": "text/x-python",
   "name": "python",
   "nbconvert_exporter": "python",
   "pygments_lexer": "ipython3",
   "version": "3.10.10"
  }
 },
 "nbformat": 4,
 "nbformat_minor": 5
}
