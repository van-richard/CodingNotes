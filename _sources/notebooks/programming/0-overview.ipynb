{
 "cells": [
  {
   "cell_type": "markdown",
   "id": "9fa84064-746d-4202-aa4e-ba085087c1b3",
   "metadata": {
    "editable": true,
    "slideshow": {
     "slide_type": ""
    },
    "tags": []
   },
   "source": [
    "Tips, tricks, and cheatsheets and examples for all things code!\n",
    "\n",
    "The first day of computational chemistry can feel very overwhelming, from using the terminal to seeing the plethora of modelling software. To do well in computational biochemistry research, I believe the minimum skills you will need is some familiarity with the command line (e.g. `Bash` scripting, `vi/vim` for text editing), `python` for data analysis and plotting figures, and `git` for coordinating work with the lab. \n",
    "\n",
    "If you are working with biological systems, then you should be comfortable with Chimera or ChimeraX and VMD.\n",
    "\n",
    "If you're working with small molecules, then you should be comfortable with IQmol and ChemDraw.\n",
    "\n",
    "Here, I documented some things I learned, some notes and examples for `Bash`, `vi/vim`, `python`, and `git`. Hopefully this helps you too!\n",
    "\n",
    "(I hope this stays organized)"
   ]
  },
  {
   "cell_type": "code",
   "execution_count": null,
   "id": "37540892-85db-4f88-a1b4-4074c372dbc4",
   "metadata": {
    "editable": true,
    "slideshow": {
     "slide_type": ""
    },
    "tags": []
   },
   "outputs": [],
   "source": []
  }
 ],
 "metadata": {
  "kernelspec": {
   "display_name": "Python 3 (ipykernel)",
   "language": "python",
   "name": "python3"
  },
  "language_info": {
   "codemirror_mode": {
    "name": "ipython",
    "version": 3
   },
   "file_extension": ".py",
   "mimetype": "text/x-python",
   "name": "python",
   "nbconvert_exporter": "python",
   "pygments_lexer": "ipython3",
   "version": "3.10.10"
  }
 },
 "nbformat": 4,
 "nbformat_minor": 5
}
