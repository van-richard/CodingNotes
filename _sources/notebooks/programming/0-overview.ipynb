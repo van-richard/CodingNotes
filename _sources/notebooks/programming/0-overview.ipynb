{
 "cells": [
  {
   "cell_type": "markdown",
   "id": "25156711-a1f0-43d3-867a-a178d2b39e91",
   "metadata": {
    "editable": true,
    "slideshow": {
     "slide_type": ""
    },
    "tags": []
   },
   "source": [
    "# Programming"
   ]
  },
  {
   "cell_type": "markdown",
   "id": "9fa84064-746d-4202-aa4e-ba085087c1b3",
   "metadata": {
    "editable": true,
    "slideshow": {
     "slide_type": ""
    },
    "tags": []
   },
   "source": [
    "## Topics\n",
    "\n",
    "Command Line Tools\n",
    "\n",
    "- Bash (Unix Shell)\n",
    "    - Vi/Vim (Text Editor)\n",
    "    - Git (with GitHub)\n",
    "- Python \n",
    "\n",
    "Molecular Visualization\n",
    "\n",
    "- ChimeraX \n",
    "- VMD\n",
    "\n",
    "Molecular Dynamics\n",
    "\n",
    "- Amber\n",
    "\n",
    "Simulation Analysis\n",
    "\n",
    "- Ambertools\n"
   ]
  },
  {
   "cell_type": "code",
   "execution_count": null,
   "id": "37540892-85db-4f88-a1b4-4074c372dbc4",
   "metadata": {
    "editable": true,
    "slideshow": {
     "slide_type": ""
    },
    "tags": []
   },
   "outputs": [],
   "source": []
  }
 ],
 "metadata": {
  "kernelspec": {
   "display_name": "Python 3 (ipykernel)",
   "language": "python",
   "name": "python3"
  },
  "language_info": {
   "codemirror_mode": {
    "name": "ipython",
    "version": 3
   },
   "file_extension": ".py",
   "mimetype": "text/x-python",
   "name": "python",
   "nbconvert_exporter": "python",
   "pygments_lexer": "ipython3",
   "version": "3.10.10"
  }
 },
 "nbformat": 4,
 "nbformat_minor": 5
}
