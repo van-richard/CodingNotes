{
  "nbformat": 4,
  "nbformat_minor": 0,
  "metadata": {
    "colab": {
      "provenance": [],
      "gpuType": "T4"
    },
    "kernelspec": {
      "name": "python3",
      "display_name": "Python 3"
    },
    "language_info": {
      "name": "python"
    },
    "accelerator": "GPU"
  },
  "cells": [
    {
      "cell_type": "code",
      "execution_count": null,
      "metadata": {
        "id": "98HHYE6lPP_y"
      },
      "outputs": [],
      "source": [
        "import cupy"
      ]
    },
    {
      "cell_type": "code",
      "source": [
        "cupy.cuda.Event()"
      ],
      "metadata": {
        "colab": {
          "base_uri": "https://localhost:8080/"
        },
        "id": "Xo5MX8HPPkh3",
        "outputId": "4dce6f5b-85f1-4435-ee51-e97f294a44ca"
      },
      "execution_count": null,
      "outputs": [
        {
          "output_type": "execute_result",
          "data": {
            "text/plain": [
              "<cupy.cuda.stream.Event at 0x7f254b3312a0>"
            ]
          },
          "metadata": {},
          "execution_count": 4
        }
      ]
    },
    {
      "cell_type": "code",
      "source": [
        "# prompt: get gpu timings with cuda.Events()\n",
        "\n",
        "import cupy as cp\n",
        "import time\n",
        "\n",
        "# Create two events\n",
        "start_event = cp.cuda.Event()\n",
        "end_event = cp.cuda.Event()\n",
        "\n",
        "# Record the start event\n",
        "start_event.record()\n",
        "\n",
        "# Your CUDA kernel or operation here\n",
        "# For example:\n",
        "x = cp.arange(10000000).astype('f')\n",
        "y = x * 2\n",
        "\n",
        "# Record the end event\n",
        "end_event.record()\n",
        "\n",
        "# Synchronize the events\n",
        "end_event.synchronize()\n",
        "\n",
        "# Calculate the elapsed time\n",
        "elapsed_time = cp.cuda.get_elapsed_time(start_event, end_event)\n",
        "\n",
        "print(f\"Elapsed time: {elapsed_time} ms\")\n"
      ],
      "metadata": {
        "colab": {
          "base_uri": "https://localhost:8080/"
        },
        "id": "5cNSw59MPVKM",
        "outputId": "e72591c2-7560-44f4-8b94-efa500fe4282"
      },
      "execution_count": null,
      "outputs": [
        {
          "output_type": "stream",
          "name": "stdout",
          "text": [
            "Elapsed time: 805.1527099609375 ms\n"
          ]
        }
      ]
    }
  ]
}