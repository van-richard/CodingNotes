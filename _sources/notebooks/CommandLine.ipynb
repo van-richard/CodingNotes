{
 "cells": [
  {
   "cell_type": "markdown",
   "id": "6bf57c05-8a49-40c7-9f7a-b2bc2184a3a3",
   "metadata": {},
   "source": [
    "# Terminal & Command Line"
   ]
  },
  {
   "cell_type": "markdown",
   "id": "b62345c3-5771-41ef-869b-e890bd6d384e",
   "metadata": {},
   "source": [
    "## Overview\n",
    "\n",
    "This will be different if you have MacOS or Windows machine.\n",
    "\n",
    "Please skip to the section for you."
   ]
  },
  {
   "cell_type": "markdown",
   "id": "1045699d-8a7b-48a4-8c96-724e40f923d1",
   "metadata": {},
   "source": [
    "## MacOS Command Line\n",
    "\n",
    "You computer should already have the \"terminal\" application preinstalled. There are 2 way to open the application:\n",
    "\n",
    "1. Press `cmd`+`[space]`. Then type `terminal`.\n",
    "2. Click the `launchpad` application. Search for `terminal`.\n",
    "\n",
    "Congratualations! You opened the terminal!"
   ]
  },
  {
   "cell_type": "markdown",
   "id": "8c495842-7eb4-4b87-9c6d-418a9d603a6d",
   "metadata": {},
   "source": [
    "## Windows Command Line\n",
    "\n",
    "To use a Linux terminal on a Windows machine, you will need to install the Ubuntu application. This will differ if you're using Windows 10 or Windows 11.\n",
    "\n",
    "I will write this up, but here is my reference.\n",
    "\n",
    "[Install Ubuntu on WSL](https://ubuntu.com/tutorials/install-ubuntu-on-wsl2-on-windows-10#1-overview)\n"
   ]
  },
  {
   "cell_type": "code",
   "execution_count": null,
   "id": "ca96918b-4f21-4d11-8d31-ff5360c62c4f",
   "metadata": {},
   "outputs": [],
   "source": []
  }
 ],
 "metadata": {
  "kernelspec": {
   "display_name": "Python 3 (ipykernel)",
   "language": "python",
   "name": "python3"
  },
  "language_info": {
   "codemirror_mode": {
    "name": "ipython",
    "version": 3
   },
   "file_extension": ".py",
   "mimetype": "text/x-python",
   "name": "python",
   "nbconvert_exporter": "python",
   "pygments_lexer": "ipython3",
   "version": "3.10.10"
  }
 },
 "nbformat": 4,
 "nbformat_minor": 5
}
