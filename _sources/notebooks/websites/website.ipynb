{
 "cells": [
  {
   "cell_type": "markdown",
   "id": "2d4e66e6-07cb-4803-bd8c-0455a17f2629",
   "metadata": {},
   "source": [
    "# Make Your Own Website"
   ]
  }
 ],
 "metadata": {
  "kernelspec": {
   "display_name": "Python 3 (ipykernel)",
   "language": "python",
   "name": "python3"
  },
  "language_info": {
   "codemirror_mode": {
    "name": "ipython",
    "version": 3
   },
   "file_extension": ".py",
   "mimetype": "text/x-python",
   "name": "python",
   "nbconvert_exporter": "python",
   "pygments_lexer": "ipython3",
   "version": "3.10.10"
  }
 },
 "nbformat": 4,
 "nbformat_minor": 5
}
