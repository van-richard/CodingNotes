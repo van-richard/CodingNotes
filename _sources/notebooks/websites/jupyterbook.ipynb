{
 "cells": [
  {
   "cell_type": "markdown",
   "id": "079edfbc-9d5b-43bb-a301-a5a95e0b9163",
   "metadata": {},
   "source": [
    "# Jupyter Book\n",
    "\n",
    "In a `conda` environemnt, install the package.\n",
    "\n",
    "```bash\n",
    "conda install -c conda-forge jupyter-book\n",
    "```\n",
    "\n",
    "Create a new book\n",
    "\n",
    "```bash\n",
    "jupyter-book create mynewbook/\n",
    "```\n",
    "\n",
    "Building the book\n",
    "\n",
    "```bash\n",
    "jupyter-book build mybookname/\n",
    "```\n",
    "\n",
    "To publish the book to a Github repository, I use ghp-import.\n",
    "\n",
    "```bash\n",
    "pip install ghp-import\n",
    "ghp-import -n -p -f _build/html\n",
    "```\n",
    "\n",
    "Then\n",
    "\n",
    "```bash\n",
    "git add .\n",
    "git commit -a \n",
    "git push\n",
    "```"
   ]
  },
  {
   "cell_type": "code",
   "execution_count": null,
   "id": "ab8ca113-898d-45e1-a778-4860c3f427ba",
   "metadata": {},
   "outputs": [],
   "source": []
  }
 ],
 "metadata": {
  "kernelspec": {
   "display_name": "Python 3 (ipykernel)",
   "language": "python",
   "name": "python3"
  },
  "language_info": {
   "codemirror_mode": {
    "name": "ipython",
    "version": 3
   },
   "file_extension": ".py",
   "mimetype": "text/x-python",
   "name": "python",
   "nbconvert_exporter": "python",
   "pygments_lexer": "ipython3",
   "version": "3.10.10"
  }
 },
 "nbformat": 4,
 "nbformat_minor": 5
}
