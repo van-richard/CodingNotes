{
 "cells": [
  {
   "cell_type": "markdown",
   "id": "223f5c9b-1b3b-430e-8dd3-8e120b80d060",
   "metadata": {},
   "source": [
    "# Simulation Tutorials \n",
    "\n",
    "## Classical Molecular Dynamics Simulations\n",
    "\n",
    "* [Simple Simulation of Alanine Dipeptide](https://van-richard.github.io/CodingNotes/notebooks/simulation/simple.html)\n",
    "* [Using Distance Restraints with Alanine Dipeptide](https://van-richard.github.io/CodingNotes/notebooks/simulation/distance.html)\n",
    "\n",
    "## QM/MM Simulations\n",
    "\n",
    "* [Claisen Rearrangement Reaction](https://van-richard.github.io/CodingNotes/notebooks/simulation/claisen.html)"
   ]
  },
  {
   "cell_type": "markdown",
   "id": "c0326a0a-0b01-4e01-ac13-04a18b0c82e4",
   "metadata": {},
   "source": []
  },
  {
   "cell_type": "markdown",
   "id": "5711de74-b37f-4611-b2a7-db4b15b8150f",
   "metadata": {},
   "source": []
  }
 ],
 "metadata": {
  "kernelspec": {
   "display_name": "Python 3 (ipykernel)",
   "language": "python",
   "name": "python3"
  },
  "language_info": {
   "codemirror_mode": {
    "name": "ipython",
    "version": 3
   },
   "file_extension": ".py",
   "mimetype": "text/x-python",
   "name": "python",
   "nbconvert_exporter": "python",
   "pygments_lexer": "ipython3",
   "version": "3.10.10"
  }
 },
 "nbformat": 4,
 "nbformat_minor": 5
}
