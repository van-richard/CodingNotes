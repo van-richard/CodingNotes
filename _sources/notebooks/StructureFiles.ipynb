{
 "cells": [
  {
   "cell_type": "markdown",
   "id": "f1d711fe-dd3d-4e5b-829e-0c84292ed905",
   "metadata": {},
   "source": [
    "# Structure Files"
   ]
  },
  {
   "cell_type": "code",
   "execution_count": null,
   "id": "472350fd-ca20-4a47-afe0-ddf7517012de",
   "metadata": {},
   "outputs": [],
   "source": []
  }
 ],
 "metadata": {
  "kernelspec": {
   "display_name": "Python 3 (ipykernel)",
   "language": "python",
   "name": "python3"
  },
  "language_info": {
   "codemirror_mode": {
    "name": "ipython",
    "version": 3
   },
   "file_extension": ".py",
   "mimetype": "text/x-python",
   "name": "python",
   "nbconvert_exporter": "python",
   "pygments_lexer": "ipython3",
   "version": "3.10.10"
  }
 },
 "nbformat": 4,
 "nbformat_minor": 5
}
