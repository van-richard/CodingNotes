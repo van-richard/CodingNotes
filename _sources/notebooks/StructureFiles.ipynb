{
 "cells": [
  {
   "cell_type": "markdown",
   "id": "f1d711fe-dd3d-4e5b-829e-0c84292ed905",
   "metadata": {},
   "source": [
    "# Structure Files"
   ]
  },
  {
   "cell_type": "markdown",
   "id": "c8a70dde-c78e-4a15-934e-8b8626089c92",
   "metadata": {},
   "source": [
    "## Protein Structure\n",
    "\n",
    "### Background\n",
    "\n",
    "Before starting any simulation, we need a structure. Protein structures are deposited to the PDB data bank as `.pdb` files. \n",
    "\n",
    "### PDBs - Protein Data Bank\n",
    "\n",
    "These are files which contain atomic coordinates and other information which descripes biological molecules. Structural biologist use experimental methods such as X-ray crystallography, Nuclear Magnetic Resonace spectroscopy, and Cryo-electron microscopy to determine the location of atoms in the structure. The information is then deposited to a [PDB data bank (RCSB)](https://www.rcsb.org).\n",
    "\n",
    "For more information, please refer to the following resource:\n",
    "\n",
    "[PDB 101](https://pdb101.rcsb.org/learn/guide-to-understanding-pdb-data/introduction#:~:text=A%20typical%20PDB%20formatted%20file,the%20atoms%20and%20their%20coordinates.)\n",
    "\n",
    "> \"The primary information stored in the PDB archive consists of coordinate files for biological molecules. These files list the atoms in each protein, and their 3D location in space. These files are available in several formats (PDB, mmCIF, XML). A typical PDB formatted file includes a large \"header\" section of text that summarizes the protein, citation information, and the details of the structure solution, followed by the sequence and a long list of the atoms and their coordinates. The archive also contains the experimental observations that are used to determine these atomic coordinates.\"\n",
    "\n"
   ]
  },
  {
   "cell_type": "code",
   "execution_count": null,
   "id": "24dfdc2c-78e1-4e7a-8143-f2e431ac3a82",
   "metadata": {},
   "outputs": [],
   "source": []
  }
 ],
 "metadata": {
  "kernelspec": {
   "display_name": "Python 3 (ipykernel)",
   "language": "python",
   "name": "python3"
  },
  "language_info": {
   "codemirror_mode": {
    "name": "ipython",
    "version": 3
   },
   "file_extension": ".py",
   "mimetype": "text/x-python",
   "name": "python",
   "nbconvert_exporter": "python",
   "pygments_lexer": "ipython3",
   "version": "3.10.10"
  }
 },
 "nbformat": 4,
 "nbformat_minor": 5
}
