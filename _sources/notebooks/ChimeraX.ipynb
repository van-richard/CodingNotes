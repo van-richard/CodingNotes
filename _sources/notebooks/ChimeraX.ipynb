{
 "cells": [
  {
   "cell_type": "markdown",
   "id": "8125c7d6-9397-4c6d-bad6-dbb9fe9ab246",
   "metadata": {
    "editable": true,
    "slideshow": {
     "slide_type": ""
    },
    "tags": []
   },
   "source": [
    "# Chimera/ChimeraX\n",
    "\n",
    "Chimera and [ChimeraX](https://www.cgl.ucsf.edu/chimerax/) are both great molecular visualization tools developed by UCSF.\n",
    "\n",
    "ChimeraX is the newest program, and it can efficiently handle large data (i.e. PDBs with thousands of atoms). It is my prefered GUI when exploring new structures and making videos/figures.\n",
    "\n",
    "Download the latest version of ChimeraX, [HERE](https://www.cgl.ucsf.edu/chimerax/download.html)! You will need to register for an account, otherwise you'll get a notification everytime you open the software.\n",
    "\n",
    "## Basic Usage\n",
    "\n",
    "### Open PDB from RCSB\n",
    "\n",
    "On ChimeraX command line, type:\n",
    "\n",
    "```\n",
    "open *PDB_CODE*\n",
    "```\n",
    "\n",
    "Where *PDB_CODE* is the 4-letter code from [RCSB](https://www.google.com/search?client=safari&rls=en&q=rcsb&ie=UTF-8&oe=UTF-8)\n",
    "\n",
    "### Command line is independent of model panel!\n",
    "\n",
    "Rather than searching through the GUI for the function you need (Show/Hide atoms/ribbon/surface), you can use the commmand line interface to control the display.\n",
    "\n",
    "Command Line Options:\n",
    "\n",
    "| Option                  | Meaning |\n",
    "| :-----                  | :------ |\n",
    "| show [model #] [ribbon, atom, etc.] | Displays the selection in ribbon, atom, etc. | \n",
    "| hide [model #] [ribbon, atom, etc.] | Hides the selection in ribbon, atom, etc. | \n",
    "| color byhetero | Colors by hetero-atom |\n",
    "| color bychain | Colors by chain |\n",
    "| color bymodel | Colors by model # |\n",
    "| split [option: model #] | Splits the model by chain |\n",
    "| sel [model, chain, residue, or atom #] | Select the model, chain, residue, or atom |"
   ]
  },
  {
   "cell_type": "code",
   "execution_count": null,
   "id": "2af4a414-635c-4521-baca-979877d3d6d3",
   "metadata": {},
   "outputs": [],
   "source": []
  }
 ],
 "metadata": {
  "kernelspec": {
   "display_name": "Python 3 (ipykernel)",
   "language": "python",
   "name": "python3"
  },
  "language_info": {
   "codemirror_mode": {
    "name": "ipython",
    "version": 3
   },
   "file_extension": ".py",
   "mimetype": "text/x-python",
   "name": "python",
   "nbconvert_exporter": "python",
   "pygments_lexer": "ipython3",
   "version": "3.10.10"
  }
 },
 "nbformat": 4,
 "nbformat_minor": 5
}
