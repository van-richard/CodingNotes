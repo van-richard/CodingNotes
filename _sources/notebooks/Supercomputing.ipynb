{
 "cells": [
  {
   "cell_type": "markdown",
   "id": "52130f10-2baf-4e8e-92e8-2d7d16fe4c30",
   "metadata": {},
   "source": [
    "# Supercomputing"
   ]
  },
  {
   "cell_type": "markdown",
   "id": "8b895d52-3f4e-4a35-a449-e2cab01e33e9",
   "metadata": {},
   "source": [
    "## Overview\n",
    "\n",
    "A supercomputer is an extremely powerful and high-performance computing (HPC) machine designed to handle complex and computationally intensive tasks and simulations. These machines are among the fastest and most capable computers in the world and are typically used for scientific research, engineering simulations, weather forecasting, climate modeling, cryptography, and other demanding applications.\n",
    "\n",
    "In simple terms, they are like giant, powerful versions of regular computers, much larger and involve many more parts. They can take up entire rooms or even buildings. Inside these machines, you'll find thousands or even millions of smaller computer processors (like the brain of the computer) and a lot of memory (like the computer's short-term memory). Think of these processors as workers and the memory as their workspace.\n",
    "\n",
    "*insert supercomputer schematic*\n",
    "\n",
    "Hopefully, you have already made an account either the Oscer/Schooner or Pete supercomputer. These names refer to either OU's supercomputer (Oscer/Schooner), or OSU's super computer (Pete). \n",
    "\n",
    "If you recieved a confirmation email from them, the first thing you need to do is login and set your password."
   ]
  },
  {
   "cell_type": "markdown",
   "id": "508cb0a2-0812-49cd-b5f5-1d85a4ed8ca9",
   "metadata": {},
   "source": [
    "## What is `ssh`?\n",
    "\n",
    "To login remotely to a supercomputer, we use the command `ssh` on the terminal. This is short for secure shell protocol and can take a few arguments. The syntax is `ssh [username]@ssh.server.example.edu`.\n",
    "\n",
    "First, open your terminal, and follow the directions for Oscer or Pete SSH. Change the `[username]` part, to the username you created!!\n"
   ]
  },
  {
   "cell_type": "markdown",
   "id": "20dd1cb9-894e-464c-af79-cb6a5ca5c006",
   "metadata": {},
   "source": [
    "## What is Slurm?\n",
    "\n",
    "Since high-performace computing centers are composed of many parts (CPU, GPU, RAM, SSD, HDD, etc.), involving many different users (biological science, machine learning, etc.) with different needs. They require a job scheduling and resource management system. One system is Slurm.\n",
    "\n",
    "Slurm is like a traffic cop for computers. It's a software system used in big computer clusters, like those in data centers or supercomputers. Slurm helps manage and allocate the computing resources, like processors and memory, to different tasks or jobs that people want to run on the cluster.\n",
    "\n",
    "Imagine a busy intersection where the traffic cop directs cars to different lanes or tells them when to go. Slurm does something similar but for computer tasks, making sure they don't crash into each other and efficiently use the available resources, so everything runs smoothly. It helps coordinate and schedule who gets to use the computers and when.\n",
    "\n",
    "For us, the users, the key points of Slurm are:\n",
    "\n",
    "1. Job Submission/Management\n",
    "2. Resource Allocation/Utilization\n",
    "3. Scripting and Automation"
   ]
  },
  {
   "cell_type": "markdown",
   "id": "c428f03e-1d1c-4918-9d98-6d54871d4c2b",
   "metadata": {},
   "source": []
  }
 ],
 "metadata": {
  "kernelspec": {
   "display_name": "Python 3 (ipykernel)",
   "language": "python",
   "name": "python3"
  },
  "language_info": {
   "codemirror_mode": {
    "name": "ipython",
    "version": 3
   },
   "file_extension": ".py",
   "mimetype": "text/x-python",
   "name": "python",
   "nbconvert_exporter": "python",
   "pygments_lexer": "ipython3",
   "version": "3.10.10"
  }
 },
 "nbformat": 4,
 "nbformat_minor": 5
}
