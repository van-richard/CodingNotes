{
 "cells": [
  {
   "cell_type": "markdown",
   "id": "52130f10-2baf-4e8e-92e8-2d7d16fe4c30",
   "metadata": {},
   "source": [
    "# Supercomputing"
   ]
  },
  {
   "cell_type": "code",
   "execution_count": null,
   "id": "32f12292-e1ab-4473-82d9-b2e5422a221c",
   "metadata": {},
   "outputs": [],
   "source": []
  }
 ],
 "metadata": {
  "kernelspec": {
   "display_name": "Python 3 (ipykernel)",
   "language": "python",
   "name": "python3"
  },
  "language_info": {
   "codemirror_mode": {
    "name": "ipython",
    "version": 3
   },
   "file_extension": ".py",
   "mimetype": "text/x-python",
   "name": "python",
   "nbconvert_exporter": "python",
   "pygments_lexer": "ipython3",
   "version": "3.10.10"
  }
 },
 "nbformat": 4,
 "nbformat_minor": 5
}
