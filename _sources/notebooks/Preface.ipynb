{
 "cells": [
  {
   "cell_type": "markdown",
   "id": "001edf0a-c9b2-4842-8256-e5bb65322099",
   "metadata": {
    "editable": true,
    "slideshow": {
     "slide_type": ""
    },
    "tags": []
   },
   "source": [
    "# Preface\n",
    "\n",
    "Tips, tricks, cheatsheets, and examples for all things related to chemistry and code! I learned it the hard way so you don't have to.\n",
    "\n",
    "I still remember my first day in a computational chemistry lab. All I felt was stress, confusion, and it was overwhelming to see a terminal for the first time and hearing all the nonsense modelling software names. *BUT IT'S NOT AS BAD AS IT SOUNDS!* - believe it or not - From my short experience in computational chemistry, I learned that building a good foundation in one or two languages is better than trying to absorb all the information on the internet. \n",
    "\n",
    "In that spirit, I believe the bare minimum skills needed to do well in computational research is familiarity with the command line (e.g. `Bash` scripting, `vi/vim` for text editing), `python` for data analysis and plotting figures, and `git` for coordinating work with the lab. \n",
    "\n",
    "If you are working with biological systems, then you should be comfortable with Chimera/ChimeraX and VMD.\n",
    "\n",
    "If you're working on small molecules, then you should be comfortable with IQmol and ChemDraw.\n",
    "\n",
    "Here, I documented some things I learned along the way, some examples for `Bash`, `vi/vim`, `python`, `git`, and some movie making with ChimeraX and VMD. \n",
    "\n",
    "My goal for these notes is for you to have access to examples and explanations for our very niche problems.\n",
    "\n",
    "Remember to not beat yourself over, and struggle with a coding problem for too long! Spend 1 -2 hours **MAX**, if you can't figure it out, then reach out to anyone in lab.\n",
    "\n",
    "Best of luck on your journey into computational research!!!\n",
    "\n",
    "## Overview\n",
    "\n",
    "These notes are organized to help you with getting started with computational research:\n",
    "\n",
    "First, you will get familiar with our jargon! I will briefly explain some terms to help get you caught up. \n",
    "\n",
    "Next, I will introduce to you some foundational skills:\n",
    "\n",
    "    Part I - Foundational Skills\n",
    "    1. Navigating in the terminal with command line\n",
    "    2. Using the supercomputer\n",
    "    3. Looking at various structure files\n",
    "    \n",
    "    Part II - Foundational Skills\n",
    "    1. Scripting with `Bash` and `Python`\n",
    "    2. Making figures and movies\n",
    "    3. A basic protocol for MD simulations\n",
    "\n",
    "At the end of these sections, you should be comfortable working independently!\n",
    "\n",
    "Further readings include other simulation tutorials or fun programming activitie to try. At the very end is an appendix for quick referencing!\n",
    "\n",
    "(I hope this stays organized)"
   ]
  },
  {
   "cell_type": "code",
   "execution_count": null,
   "id": "37540892-85db-4f88-a1b4-4074c372dbc4",
   "metadata": {
    "editable": true,
    "slideshow": {
     "slide_type": ""
    },
    "tags": []
   },
   "outputs": [],
   "source": []
  }
 ],
 "metadata": {
  "kernelspec": {
   "display_name": "Python 3 (ipykernel)",
   "language": "python",
   "name": "python3"
  },
  "language_info": {
   "codemirror_mode": {
    "name": "ipython",
    "version": 3
   },
   "file_extension": ".py",
   "mimetype": "text/x-python",
   "name": "python",
   "nbconvert_exporter": "python",
   "pygments_lexer": "ipython3",
   "version": "3.10.10"
  }
 },
 "nbformat": 4,
 "nbformat_minor": 5
}
