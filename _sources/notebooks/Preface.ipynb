{
 "cells": [
  {
   "cell_type": "markdown",
   "id": "001edf0a-c9b2-4842-8256-e5bb65322099",
   "metadata": {
    "editable": true,
    "slideshow": {
     "slide_type": ""
    },
    "tags": []
   },
   "source": [
    "# Preface\n",
    "\n",
    "Tips, tricks, cheatsheets, and examples for all things related to chemistry and code! I learned it the hard way so you don't have to.\n",
    "\n",
    "I still remember my first day in a computational chemistry lab. All I felt was stress, confusion, and it was overwhelming to see a terminal for the first time and hearing all the nonsense modelling software names. *BUT IT'S NOT AS BAD AS IT SOUNDS!* - believe it or not - From my short experience in computational chemistry, I learned that building a good foundation in one or two languages is better than trying to absorb all the information on the internet. \n",
    "\n",
    "In that spirit, I believe the bare minimum skills needed to do well in computational research is familiarity with the command line (e.g. `Bash` scripting, `vi/vim` for text editing), `python` for data analysis and plotting figures, and `git` for coordinating work with the lab. \n",
    "\n",
    "If you are working with biological systems, then you should be comfortable with Chimera/ChimeraX and VMD.\n",
    "\n",
    "If you're working on small molecules, then you should be comfortable with IQmol and ChemDraw.\n",
    "\n",
    "Here, I documented some things I learned along the way, some examples for `Bash`, `vi/vim`, `python`, `git`, and some movie making with ChimeraX and VMD. \n",
    "\n",
    "My goal for these notes is for you to have access to examples and explanations for our very niche problems.\n",
    "\n",
    "Remember to not beat yourself over, and struggle with a coding problem for too long! Spend 1 -2 hours **MAX**, if you can't figure it out, then reach out to anyone in lab.\n",
    "\n",
    "Best of luck on your journey into computational research!!!\n",
    "\n",
    "## Contents\n",
    "\n",
    "I organized these notes as followed. First is **Minutes**, which should just take a few minutes to glimpse over and for you to get an idea of what computational tools we use. Next is **Foundational Skills**, which is split into 2 parts. **Part I** will help you develop the skills to navigate the command line, become familiar with our supercomputers (Schooner/Pete), learn about visualization softwares, and try some docking studies. **Part II** is focused on extending these skills to writing scripts in `Bash` and `python`. You will find that a lot of tasks become repetitive, and by writing scripts, we can automate of lot of our responsibilities. I also included some tips in making quality images/videos for presentations/publications. The last task is for you to run a simple molecular dynamics (MD) simulation of alanine dipeptide.\n",
    "\n",
    "At the end are additonal tutorials and other tips for you to try!\n",
    "\n",
    "\n",
    "## Workflow \n",
    "\n",
    "**Minutes**\n",
    "\n",
    "   * 5 Minute Explanation of..\n",
    "       * Terminal and the Command Line( i.e. Unix/Linux, `Bash`, SSH, Slurm, and `git`)\n",
    "   * Visualization Softwares\n",
    "       * IQmol, Chimera/ChimeraX, and VMD\n",
    "   * What is Python? Conda?\n",
    "   * What is Computational Chemistry?\n",
    "\n",
    "**Part I - Foundational Skills**\n",
    "\n",
    "* Programming I: An Introduction to..\n",
    "   * Command Line\n",
    "   * Supercomputing (Schooner/Pete)\n",
    "* Visualization I: Small molecules and Protein Structures..\n",
    "   * IQmol\n",
    "   * xyz/PDB Files\n",
    "   * ChimeraX\n",
    "* Macromolecular Modelling I: Predicting Binding Affinity with..\n",
    "   * Molecular Docking\n",
    "     \n",
    "**Part II - Foundational Skills**\n",
    "\n",
    "* Programming II: Scripting with..\n",
    "   *  Bash\n",
    "   *  Python\n",
    "* Visualization II: Making Quality Figures..\n",
    "   * ChimeraX Command Line\n",
    "   * Saving Images/Movies\n",
    "* Macromolecular Modelling II: Intoduction to..\n",
    "   * Molecular Simulations\n",
    "   * Tutorial: Simple MD of Alanine dipeptide\n",
    "   * Visualization with VMD\n",
    " \n",
    "**Additional Tutorials**\n",
    "\n",
    "*Classical MD*\n",
    "* Distance Restraints\n",
    "\n",
    "  \n",
    "*QM/MM*\n",
    "* Claisen Rearrangement\n",
    "* DNA Cleavage with I-Ppo1\n",
    "\n",
    "**Appendix**\n",
    "\n",
    "* Unix/Linux Commands\n",
    "\n",
    "\n",
    "(I hope this stays organized)"
   ]
  },
  {
   "cell_type": "code",
   "execution_count": null,
   "id": "37540892-85db-4f88-a1b4-4074c372dbc4",
   "metadata": {
    "editable": true,
    "slideshow": {
     "slide_type": ""
    },
    "tags": []
   },
   "outputs": [],
   "source": []
  }
 ],
 "metadata": {
  "kernelspec": {
   "display_name": "Python 3 (ipykernel)",
   "language": "python",
   "name": "python3"
  },
  "language_info": {
   "codemirror_mode": {
    "name": "ipython",
    "version": 3
   },
   "file_extension": ".py",
   "mimetype": "text/x-python",
   "name": "python",
   "nbconvert_exporter": "python",
   "pygments_lexer": "ipython3",
   "version": "3.10.10"
  }
 },
 "nbformat": 4,
 "nbformat_minor": 5
}
