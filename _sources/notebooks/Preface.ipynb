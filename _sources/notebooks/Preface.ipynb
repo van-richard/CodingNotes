{
 "cells": [
  {
   "cell_type": "markdown",
   "id": "ff5efeea-4379-43fd-a210-401bfbf779c1",
   "metadata": {},
   "source": [
    "# Preface"
   ]
  },
  {
   "cell_type": "markdown",
   "id": "c27d7334-d2ee-46fc-946f-3c765d42f67c",
   "metadata": {},
   "source": [
    "## Terminal and the Command Line\n",
    "\n",
    "### Unix/Linux\n",
    "\n",
    "### Bash\n",
    "\n",
    "### SSH/Slurm\n",
    "\n",
    "### Git\n"
   ]
  },
  {
   "cell_type": "markdown",
   "id": "6f7082ef-adc9-4204-b192-2aad7d895ecb",
   "metadata": {},
   "source": [
    "## Visualization Software\n",
    "\n",
    "### IQmol\n",
    "\n",
    "### Chimera/ChimeraX\n",
    "\n",
    "### VMD"
   ]
  },
  {
   "cell_type": "markdown",
   "id": "0b649765-3955-463e-b233-2044cd1ac162",
   "metadata": {},
   "source": [
    "## Python\n",
    "\n"
   ]
  },
  {
   "cell_type": "markdown",
   "id": "abf072a0-9e98-464b-9ecc-56bd69695834",
   "metadata": {},
   "source": [
    "## What is computational chemistry?"
   ]
  },
  {
   "cell_type": "code",
   "execution_count": null,
   "id": "3dd99f8b-70a2-43cb-bcdf-d51420ebc01a",
   "metadata": {},
   "outputs": [],
   "source": []
  }
 ],
 "metadata": {
  "kernelspec": {
   "display_name": "Python 3 (ipykernel)",
   "language": "python",
   "name": "python3"
  },
  "language_info": {
   "codemirror_mode": {
    "name": "ipython",
    "version": 3
   },
   "file_extension": ".py",
   "mimetype": "text/x-python",
   "name": "python",
   "nbconvert_exporter": "python",
   "pygments_lexer": "ipython3",
   "version": "3.10.10"
  }
 },
 "nbformat": 4,
 "nbformat_minor": 5
}
