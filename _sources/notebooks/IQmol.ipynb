{
 "cells": [
  {
   "cell_type": "markdown",
   "id": "88a50643-f466-4dc6-abdc-37d1148fb9b5",
   "metadata": {},
   "source": [
    "# IQmol"
   ]
  },
  {
   "cell_type": "code",
   "execution_count": null,
   "id": "291315fb-6cb5-44b8-8ad7-15ea19fc9d41",
   "metadata": {},
   "outputs": [],
   "source": []
  }
 ],
 "metadata": {
  "kernelspec": {
   "display_name": "Python 3 (ipykernel)",
   "language": "python",
   "name": "python3"
  },
  "language_info": {
   "codemirror_mode": {
    "name": "ipython",
    "version": 3
   },
   "file_extension": ".py",
   "mimetype": "text/x-python",
   "name": "python",
   "nbconvert_exporter": "python",
   "pygments_lexer": "ipython3",
   "version": "3.10.10"
  }
 },
 "nbformat": 4,
 "nbformat_minor": 5
}
