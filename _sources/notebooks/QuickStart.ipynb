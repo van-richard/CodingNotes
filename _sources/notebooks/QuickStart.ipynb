{
 "cells": [
  {
   "cell_type": "markdown",
   "id": "20f6a680-4b47-4d3e-a7d6-08a3a70bc466",
   "metadata": {},
   "source": [
    "# Quick Start Guide"
   ]
  },
  {
   "cell_type": "markdown",
   "id": "9b09f897-e248-4d19-a607-d545728c73b6",
   "metadata": {},
   "source": []
  },
  {
   "cell_type": "markdown",
   "id": "5d403e26-65a2-4e77-9b13-da6c94591c9e",
   "metadata": {},
   "source": []
  }
 ],
 "metadata": {
  "kernelspec": {
   "display_name": "Python 3 (ipykernel)",
   "language": "python",
   "name": "python3"
  },
  "language_info": {
   "codemirror_mode": {
    "name": "ipython",
    "version": 3
   },
   "file_extension": ".py",
   "mimetype": "text/x-python",
   "name": "python",
   "nbconvert_exporter": "python",
   "pygments_lexer": "ipython3",
   "version": "3.10.10"
  }
 },
 "nbformat": 4,
 "nbformat_minor": 5
}
