{
 "cells": [
  {
   "cell_type": "code",
   "execution_count": 1,
   "id": "156416e1-1266-4525-8cf9-bc7b4f1ec502",
   "metadata": {},
   "outputs": [
    {
     "data": {
      "application/vnd.jupyter.widget-view+json": {
       "model_id": "f1f3d9fb4ca34a57a0e360f4150bfb4a",
       "version_major": 2,
       "version_minor": 0
      },
      "text/plain": []
     },
     "metadata": {},
     "output_type": "display_data"
    }
   ],
   "source": [
    "import nglview as nv\n",
    "import mdtraj as md"
   ]
  },
  {
   "cell_type": "code",
   "execution_count": 2,
   "id": "eec4779d-a32e-49c8-bd87-a3d640c7748f",
   "metadata": {},
   "outputs": [],
   "source": [
    "traj = md.load('../00/step6.00_equilibration.nc', top='../00/step3_pbcsetup.parm7')"
   ]
  },
  {
   "cell_type": "code",
   "execution_count": 3,
   "id": "bb2fd15e-7615-4fc4-9649-7859f56b8c40",
   "metadata": {},
   "outputs": [],
   "source": [
    "view = nv.show_mdtraj(traj)"
   ]
  },
  {
   "cell_type": "code",
   "execution_count": 4,
   "id": "35f8f032-b917-4b77-8b97-c17f14159e46",
   "metadata": {},
   "outputs": [
    {
     "data": {
      "application/vnd.jupyter.widget-view+json": {
       "model_id": "5c1160b7d1bd4d16b02dbd38913d1c95",
       "version_major": 2,
       "version_minor": 0
      },
      "text/plain": [
       "NGLWidget(max_frame=499)"
      ]
     },
     "metadata": {},
     "output_type": "display_data"
    }
   ],
   "source": [
    "view"
   ]
  },
  {
   "cell_type": "code",
   "execution_count": null,
   "id": "6ee8d641-9324-47ea-b6f9-ecd1ea3210c8",
   "metadata": {},
   "outputs": [],
   "source": []
  }
 ],
 "metadata": {
  "kernelspec": {
   "display_name": "Python 3",
   "language": "python",
   "name": "python3"
  },
  "language_info": {
   "codemirror_mode": {
    "name": "ipython",
    "version": 3
   },
   "file_extension": ".py",
   "mimetype": "text/x-python",
   "name": "python",
   "nbconvert_exporter": "python",
   "pygments_lexer": "ipython3",
   "version": "3.8.8"
  }
 },
 "nbformat": 4,
 "nbformat_minor": 5
}
